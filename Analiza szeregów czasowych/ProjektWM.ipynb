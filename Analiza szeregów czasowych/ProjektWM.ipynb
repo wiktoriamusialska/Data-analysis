{
 "cells": [
  {
   "cell_type": "markdown",
   "id": "25581906",
   "metadata": {},
   "source": [
    "# Projekt "
   ]
  },
  {
   "cell_type": "markdown",
   "id": "636c218d",
   "metadata": {},
   "source": [
    "## Wiktoria Musialska"
   ]
  },
  {
   "cell_type": "markdown",
   "id": "f4257445",
   "metadata": {},
   "source": [
    "Zbiorem danych, który będzie wykorzystany w ramach tego projektu jest zbiór cafe z biblioteki fpp.\n",
    "Projekt powstał z wykorzystaniem programu R.  "
   ]
  },
  {
   "cell_type": "markdown",
   "id": "c45a6860",
   "metadata": {},
   "source": [
    "##### Opis zbioru danych: "
   ]
  },
  {
   "cell_type": "markdown",
   "id": "475dadea",
   "metadata": {},
   "source": [
    "Całkowite kwartalne wydatki na kawiarnie, restauracje i usługi gastronomiczne na wynos w Australii (1982:Q2-2010:Q4)"
   ]
  },
  {
   "cell_type": "markdown",
   "id": "86b80c41",
   "metadata": {},
   "source": [
    "## Załadowanie potrzebnych bibliotek"
   ]
  },
  {
   "cell_type": "code",
   "execution_count": 1,
   "id": "fc4cf3ed",
   "metadata": {},
   "outputs": [
    {
     "name": "stderr",
     "output_type": "stream",
     "text": [
      "Warning message:\n",
      "\"package 'fpp' was built under R version 3.6.3\"Loading required package: forecast\n",
      "Warning message:\n",
      "\"package 'forecast' was built under R version 3.6.3\"Registered S3 methods overwritten by 'ggplot2':\n",
      "  method         from \n",
      "  [.quosures     rlang\n",
      "  c.quosures     rlang\n",
      "  print.quosures rlang\n",
      "Registered S3 method overwritten by 'xts':\n",
      "  method     from\n",
      "  as.zoo.xts zoo \n",
      "Registered S3 method overwritten by 'quantmod':\n",
      "  method            from\n",
      "  as.zoo.data.frame zoo \n",
      "Loading required package: fma\n",
      "Warning message:\n",
      "\"package 'fma' was built under R version 3.6.3\"Loading required package: expsmooth\n",
      "Warning message:\n",
      "\"package 'expsmooth' was built under R version 3.6.3\"Loading required package: lmtest\n",
      "Warning message:\n",
      "\"package 'lmtest' was built under R version 3.6.3\"Loading required package: zoo\n",
      "\n",
      "Attaching package: 'zoo'\n",
      "\n",
      "The following objects are masked from 'package:base':\n",
      "\n",
      "    as.Date, as.Date.numeric\n",
      "\n",
      "Loading required package: tseries\n",
      "Warning message:\n",
      "\"package 'tseries' was built under R version 3.6.3\""
     ]
    }
   ],
   "source": [
    "library(fpp)\n",
    "library(forecast)"
   ]
  },
  {
   "cell_type": "markdown",
   "id": "05ebe559",
   "metadata": {},
   "source": [
    "## Wczytywanie zbioru danych"
   ]
  },
  {
   "cell_type": "code",
   "execution_count": 2,
   "id": "82456671",
   "metadata": {},
   "outputs": [],
   "source": [
    "data(cafe)"
   ]
  },
  {
   "cell_type": "markdown",
   "id": "1050c387",
   "metadata": {},
   "source": [
    "## Sprawdzenie występowania braków danych"
   ]
  },
  {
   "cell_type": "code",
   "execution_count": 3,
   "id": "0faeb5c6",
   "metadata": {},
   "outputs": [
    {
     "data": {
      "text/html": [
       "0"
      ],
      "text/latex": [
       "0"
      ],
      "text/markdown": [
       "0"
      ],
      "text/plain": [
       "[1] 0"
      ]
     },
     "metadata": {},
     "output_type": "display_data"
    }
   ],
   "source": [
    "sum(is.na(cafe))"
   ]
  },
  {
   "cell_type": "markdown",
   "id": "2fcb8eb5",
   "metadata": {},
   "source": [
    "W danych nie występują braki danych."
   ]
  },
  {
   "cell_type": "markdown",
   "id": "2f51c53c",
   "metadata": {},
   "source": [
    "## Wyświetlenie zawartości zbioru danych"
   ]
  },
  {
   "cell_type": "code",
   "execution_count": 4,
   "id": "c0df3753",
   "metadata": {},
   "outputs": [
    {
     "name": "stdout",
     "output_type": "stream",
     "text": [
      "       Qtr1   Qtr2   Qtr3   Qtr4\n",
      "1982        1013.2 1011.9 1166.2\n",
      "1983 1082.5 1058.7 1118.1 1223.7\n",
      "1984 1163.7 1178.8 1196.7 1349.1\n",
      "1985 1233.5 1272.8 1369.7 1563.1\n",
      "1986 1437.5 1512.8 1602.1 1797.4\n",
      "1987 1640.3 1665.5 1775.0 1985.0\n",
      "1988 1816.4 1877.9 1975.1 2114.9\n",
      "1989 2106.7 2125.6 2253.7 2543.9\n",
      "1990 2462.2 2412.5 2455.4 2630.2\n",
      "1991 2446.1 2419.3 2564.9 2941.0\n",
      "1992 2735.9 2729.9 2680.9 2913.3\n",
      "1993 2625.7 2541.8 2654.1 2993.7\n",
      "1994 2901.3 2815.3 3071.5 3320.3\n",
      "1995 3156.8 3196.1 3330.2 3675.5\n",
      "1996 3521.1 3424.0 3388.7 3502.4\n",
      "1997 3387.6 3425.1 3492.0 3695.2\n",
      "1998 3377.0 3339.1 3456.5 3769.6\n",
      "1999 3613.8 3715.4 3714.1 4088.0\n",
      "2000 3828.7 3809.3 4079.1 4415.7\n",
      "2001 4330.0 4285.0 4419.2 4582.8\n",
      "2002 4290.8 4367.2 4574.0 4862.5\n",
      "2003 4616.4 4800.7 5146.6 5765.1\n",
      "2004 5533.8 5478.4 5649.8 5796.3\n",
      "2005 5240.2 5366.8 5528.2 6095.9\n",
      "2006 5647.7 5915.2 6101.1 6520.0\n",
      "2007 6228.0 6413.3 6615.8 7003.0\n",
      "2008 6409.6 6414.8 6500.8 7024.6\n",
      "2009 6691.0 6991.6 7291.9 8068.0\n",
      "2010 7450.7 7608.3 8316.8 8426.5\n"
     ]
    }
   ],
   "source": [
    "print(cafe)"
   ]
  },
  {
   "cell_type": "markdown",
   "id": "8b7c4309",
   "metadata": {},
   "source": [
    "Okres czasu zarejestowanego w zbiorze danym zgadza się z opisem."
   ]
  },
  {
   "cell_type": "markdown",
   "id": "b44edf3b",
   "metadata": {},
   "source": [
    "Dane zaczynają się pojawiać od 2-ego kwartału 1982 roku, a kończą się w 4-tym kwartale 2010 roku."
   ]
  },
  {
   "cell_type": "markdown",
   "id": "fa2b1e21",
   "metadata": {},
   "source": [
    "## Wykres szeregu czasowego"
   ]
  },
  {
   "cell_type": "code",
   "execution_count": 5,
   "id": "2598cda4",
   "metadata": {},
   "outputs": [
    {
     "data": {
      "image/png": "[encoded data removed]",
      "text/plain": [
       "plot without title"
      ]
     },
     "metadata": {},
     "output_type": "display_data"
    }
   ],
   "source": [
    "plot(cafe)"
   ]
  },
  {
   "cell_type": "markdown",
   "id": "2a564850",
   "metadata": {},
   "source": [
    "Na rysunku widzimy trend zwyżkowy. "
   ]
  },
  {
   "cell_type": "markdown",
   "id": "177563be",
   "metadata": {},
   "source": [
    "Wartości szeregu czasowego rosną wraz z kolejnymi\n",
    "latami. "
   ]
  },
  {
   "cell_type": "markdown",
   "id": "f37e52d4",
   "metadata": {},
   "source": [
    "Brak widocznej sezonowości szeregu."
   ]
  },
  {
   "cell_type": "markdown",
   "id": "40ec6ae9",
   "metadata": {},
   "source": [
    "## Sprawdzenie czy dane są klasy ts"
   ]
  },
  {
   "cell_type": "code",
   "execution_count": 6,
   "id": "fb0556b6",
   "metadata": {},
   "outputs": [
    {
     "data": {
      "text/html": [
       "TRUE"
      ],
      "text/latex": [
       "TRUE"
      ],
      "text/markdown": [
       "TRUE"
      ],
      "text/plain": [
       "[1] TRUE"
      ]
     },
     "metadata": {},
     "output_type": "display_data"
    }
   ],
   "source": [
    "is.ts(cafe)"
   ]
  },
  {
   "cell_type": "markdown",
   "id": "811db39f",
   "metadata": {},
   "source": [
    "Dane są klasy ts, czyli czy są w podstawowej strukturze do reprezentacji szeregów czasowych w programie R."
   ]
  },
  {
   "cell_type": "code",
   "execution_count": 7,
   "id": "944ab71b",
   "metadata": {},
   "outputs": [
    {
     "data": {
      "text/html": [
       "<ol class=list-inline>\n",
       "\t<li>1982</li>\n",
       "\t<li>2</li>\n",
       "</ol>\n"
      ],
      "text/latex": [
       "\\begin{enumerate*}\n",
       "\\item 1982\n",
       "\\item 2\n",
       "\\end{enumerate*}\n"
      ],
      "text/markdown": [
       "1. 1982\n",
       "2. 2\n",
       "\n",
       "\n"
      ],
      "text/plain": [
       "[1] 1982    2"
      ]
     },
     "metadata": {},
     "output_type": "display_data"
    },
    {
     "data": {
      "text/html": [
       "<ol class=list-inline>\n",
       "\t<li>2010</li>\n",
       "\t<li>4</li>\n",
       "</ol>\n"
      ],
      "text/latex": [
       "\\begin{enumerate*}\n",
       "\\item 2010\n",
       "\\item 4\n",
       "\\end{enumerate*}\n"
      ],
      "text/markdown": [
       "1. 2010\n",
       "2. 4\n",
       "\n",
       "\n"
      ],
      "text/plain": [
       "[1] 2010    4"
      ]
     },
     "metadata": {},
     "output_type": "display_data"
    }
   ],
   "source": [
    "start(cafe)\n",
    "end(cafe)"
   ]
  },
  {
   "cell_type": "markdown",
   "id": "590b51dc",
   "metadata": {},
   "source": [
    "Przy użyciu metody start i end potwierdziliśmy, że dane zaczynają się w 1982 roku, a kończą się w 2010 roku."
   ]
  },
  {
   "cell_type": "code",
   "execution_count": 8,
   "id": "2bf3bdee",
   "metadata": {},
   "outputs": [
    {
     "data": {
      "text/html": [
       "<ol class=list-inline>\n",
       "\t<li>1982.25</li>\n",
       "\t<li>2010.75</li>\n",
       "\t<li>4</li>\n",
       "</ol>\n"
      ],
      "text/latex": [
       "\\begin{enumerate*}\n",
       "\\item 1982.25\n",
       "\\item 2010.75\n",
       "\\item 4\n",
       "\\end{enumerate*}\n"
      ],
      "text/markdown": [
       "1. 1982.25\n",
       "2. 2010.75\n",
       "3. 4\n",
       "\n",
       "\n"
      ],
      "text/plain": [
       "[1] 1982.25 2010.75    4.00"
      ]
     },
     "metadata": {},
     "output_type": "display_data"
    }
   ],
   "source": [
    "tsp(cafe)"
   ]
  },
  {
   "cell_type": "markdown",
   "id": "ee401eda",
   "metadata": {},
   "source": [
    "Częstotliwość naszych danych jest kwartalna."
   ]
  },
  {
   "cell_type": "markdown",
   "id": "87ac95ae",
   "metadata": {},
   "source": [
    "## Wykresy sezonowe"
   ]
  },
  {
   "cell_type": "code",
   "execution_count": 9,
   "id": "c1777a1a",
   "metadata": {},
   "outputs": [
    {
     "data": {
      "image/png": "[encoded data removed]",
      "text/plain": [
       "Plot with title \"Wydatki na usługi gastronomiczne na wynos w Australii\""
      ]
     },
     "metadata": {},
     "output_type": "display_data"
    }
   ],
   "source": [
    "monthplot(cafe, main=\"Wydatki na usługi gastronomiczne na wynos w Australii\", col=\"orange\")"
   ]
  },
  {
   "cell_type": "markdown",
   "id": "5a0414c4",
   "metadata": {},
   "source": [
    "Na wykresie widać, że średnie kwartalne wydatki na usługi gastronomiczne w Australii są do siebie zbliżone. "
   ]
  },
  {
   "cell_type": "markdown",
   "id": "51b88691",
   "metadata": {},
   "source": [
    "Najniższa średnia wydatków jest obserwowana w 2-gim kwartale, a najwyższa w 4-tym kwartale."
   ]
  },
  {
   "cell_type": "markdown",
   "id": "d4773634",
   "metadata": {},
   "source": [
    "Porównując ten wykres z wykresem szeregu czasowego można potwierdzić przypuszczenia o braku sezonowości szeregu. "
   ]
  },
  {
   "cell_type": "markdown",
   "id": "0e8aac23",
   "metadata": {},
   "source": [
    "Występuje natomiast trend wzrostowy."
   ]
  },
  {
   "cell_type": "code",
   "execution_count": 10,
   "id": "282c1786",
   "metadata": {},
   "outputs": [
    {
     "data": {
      "text/html": [
       "3715.79304347826"
      ],
      "text/latex": [
       "3715.79304347826"
      ],
      "text/markdown": [
       "3715.79304347826"
      ],
      "text/plain": [
       "[1] 3715.793"
      ]
     },
     "metadata": {},
     "output_type": "display_data"
    }
   ],
   "source": [
    "mean(cafe)"
   ]
  },
  {
   "cell_type": "markdown",
   "id": "8f4fdce3",
   "metadata": {},
   "source": [
    "Średnia kwartalna wydatków na zakupy wynos wynosi 3715.8 zł."
   ]
  },
  {
   "cell_type": "code",
   "execution_count": 11,
   "id": "51181576",
   "metadata": {},
   "outputs": [
    {
     "data": {
      "image/png": "[encoded data removed]",
      "text/plain": [
       "Plot with title \"Seasonal plot: cafe\""
      ]
     },
     "metadata": {},
     "output_type": "display_data"
    }
   ],
   "source": [
    "seasonplot(cafe, col=rainbow(4), year.labels=TRUE, pch=19)"
   ]
  },
  {
   "cell_type": "markdown",
   "id": "c39c2033",
   "metadata": {},
   "source": [
    "Na wykresie szeregu czasowego w rozbiciu na kwartały widać po raz kolejny, że w danych nie występuje współczynnik sezonowy. "
   ]
  },
  {
   "cell_type": "markdown",
   "id": "cafc673a",
   "metadata": {},
   "source": [
    "Od 1982 roku do 1998 roku średnie kwartalne są do siebie zbliżone. "
   ]
  },
  {
   "cell_type": "markdown",
   "id": "fc3ff460",
   "metadata": {},
   "source": [
    "Od 1999 roku widoczny jest delikatny wzrost średniej kwartalnej od 1-ego kwartału do 4-tego kwartału. $\\newline$"
   ]
  },
  {
   "cell_type": "markdown",
   "id": "fb56cf37",
   "metadata": {},
   "source": [
    "Podsumowując, średnie wartości wydatków zakupów na wynos w większości lat delikatnie wzrastają wraz z kolejnymi kwartałami, jednak nie jest to zachowanie na tyle widocznie zauważalne, tak jak powinno mieć to miejsce w sezonowości, dlatego też można stwierdzić, że szereg ten nie jest sezonowy."
   ]
  },
  {
   "cell_type": "markdown",
   "id": "872bb34d",
   "metadata": {},
   "source": [
    "## Czy i w jakim stopniu wcześniejsze obserwacje mają wpływ na aktualną wartość $\\newline$ szeregu (czy występuję i jak silna jest korelacja w danych)?"
   ]
  },
  {
   "cell_type": "code",
   "execution_count": 12,
   "id": "1f5dcc3c",
   "metadata": {},
   "outputs": [
    {
     "data": {
      "image/png": "[encoded data removed]",
      "text/plain": [
       "plot without title"
      ]
     },
     "metadata": {},
     "output_type": "display_data"
    }
   ],
   "source": [
    "lag.plot(cafe,lags=4,do.lines=FALSE)"
   ]
  },
  {
   "cell_type": "markdown",
   "id": "4e67b379",
   "metadata": {},
   "source": [
    "Ponieważ częstotliwość szeregu wynosi 4, w funkcji lag.plot() narysowane zostały wykresy rozrzutu wartości szeregu czasowego przesuniętego o pewną liczbę h (opóźnień) wstecz i aktualnej wartości szeregu czasowego (t - czas).  "
   ]
  },
  {
   "cell_type": "markdown",
   "id": "6915c72e",
   "metadata": {},
   "source": [
    "Widzimy, że dla wszystkich 4-ech opóźnień występuje silna zależność."
   ]
  },
  {
   "cell_type": "markdown",
   "id": "7244baca",
   "metadata": {},
   "source": [
    "Korelacje występujące w szeregu możemy wytłumaczyć występującym w danych trendem."
   ]
  },
  {
   "cell_type": "markdown",
   "id": "244cd423",
   "metadata": {},
   "source": [
    "## Wykresy ACF i PACF"
   ]
  },
  {
   "cell_type": "code",
   "execution_count": 13,
   "id": "367dcf59",
   "metadata": {
    "scrolled": false
   },
   "outputs": [
    {
     "data": {
      "image/png": "[encoded data removed]",
      "text/plain": [
       "Plot with title \"\""
      ]
     },
     "metadata": {},
     "output_type": "display_data"
    }
   ],
   "source": [
    "tsdisplay(cafe)"
   ]
  },
  {
   "cell_type": "markdown",
   "id": "8237693f",
   "metadata": {},
   "source": [
    "Dodatnie i powoli zanikające wartości ACF sugerują, że dane zawierają trend. "
   ]
  },
  {
   "cell_type": "markdown",
   "id": "a45c674c",
   "metadata": {},
   "source": [
    "Wartości PACF 1 i 5 są istotne statystycznie, a pozostałe opóźnienia nie są istotne statystycznie (znajdują się między liniami przerywanymi)."
   ]
  },
  {
   "cell_type": "markdown",
   "id": "fee8a52d",
   "metadata": {},
   "source": [
    "Silny trend potwierdza także duża (bliska 1) wartość PACF(1)."
   ]
  },
  {
   "cell_type": "markdown",
   "id": "936641b2",
   "metadata": {},
   "source": [
    "## Dekompozycja szeregu czasowego - ruchoma średnia"
   ]
  },
  {
   "cell_type": "markdown",
   "id": "a326f911",
   "metadata": {},
   "source": [
    "Dekompozycja addytywna będzie\n",
    "odpowiednia w przypadku, gdy wielkość (amplituda) wahań\n",
    "sezonowych lub wariancja danych wokół trendu nie zmienia się w\n",
    "dużym stopniu wraz z poziomem szeregu. "
   ]
  },
  {
   "cell_type": "markdown",
   "id": "fe92572b",
   "metadata": {},
   "source": [
    "Jeżeli zaś obserwujemy,\n",
    "że amplituda wahań sezonowych lub wariancja danych wydaje się\n",
    "proporcjonalna do poziomu szeregu, bardziej odpowiedni będzie\n",
    "model multiplikatywny."
   ]
  },
  {
   "cell_type": "markdown",
   "id": "c41ce00c",
   "metadata": {},
   "source": [
    "#### dekompozycja multiplikatywna"
   ]
  },
  {
   "cell_type": "code",
   "execution_count": 14,
   "id": "92b86d19",
   "metadata": {},
   "outputs": [
    {
     "data": {
      "image/png": "[encoded data removed]",
      "text/plain": [
       "plot without title"
      ]
     },
     "metadata": {},
     "output_type": "display_data"
    }
   ],
   "source": [
    "cafe.de.mu=decompose(cafe,type=\"multiplicative\")\n",
    "plot(cafe.de.mu)"
   ]
  },
  {
   "cell_type": "markdown",
   "id": "97287df1",
   "metadata": {},
   "source": [
    "#### dekompozycja addytywna"
   ]
  },
  {
   "cell_type": "code",
   "execution_count": 15,
   "id": "b773b664",
   "metadata": {},
   "outputs": [
    {
     "data": {
      "image/png": "[encoded data removed]",
      "text/plain": [
       "plot without title"
      ]
     },
     "metadata": {},
     "output_type": "display_data"
    }
   ],
   "source": [
    "cafe.de.mu=decompose(cafe,type=\"additive\")\n",
    "plot(cafe.de.mu)"
   ]
  },
  {
   "cell_type": "markdown",
   "id": "0050d624",
   "metadata": {},
   "source": [
    "Przyglądając się zachowaniu reszt widzimy, że w przypadku dekompozycji\n",
    "multiplikatywnej wariancja reszt wydaje się bardziej jednorodna,\n",
    "niż w przypadku dekompozycji addytywnej."
   ]
  },
  {
   "cell_type": "markdown",
   "id": "df23cf17",
   "metadata": {},
   "source": [
    "## Dekompozycja - użycie modelu regresji"
   ]
  },
  {
   "cell_type": "markdown",
   "id": "061ac015",
   "metadata": {},
   "source": [
    "#### uwzględnienie tylko trendu"
   ]
  },
  {
   "cell_type": "code",
   "execution_count": 16,
   "id": "70e67391",
   "metadata": {},
   "outputs": [],
   "source": [
    "cafe.tlsm.trend=tslm(cafe∼trend)"
   ]
  },
  {
   "cell_type": "code",
   "execution_count": 17,
   "id": "bfc19341",
   "metadata": {},
   "outputs": [
    {
     "data": {
      "text/plain": [
       "\n",
       "Call:\n",
       "tslm(formula = cafe ~ trend)\n",
       "\n",
       "Residuals:\n",
       "   Min     1Q Median     3Q    Max \n",
       "-772.8 -312.5   43.6  226.9 1485.0 \n",
       "\n",
       "Coefficients:\n",
       "            Estimate Std. Error t value Pr(>|t|)    \n",
       "(Intercept)  433.469     80.899   5.358 4.49e-07 ***\n",
       "trend         56.592      1.211  46.749  < 2e-16 ***\n",
       "---\n",
       "Signif. codes:  0 '***' 0.001 '**' 0.01 '*' 0.05 '.' 0.1 ' ' 1\n",
       "\n",
       "Residual standard error: 430.9 on 113 degrees of freedom\n",
       "Multiple R-squared:  0.9508,\tAdjusted R-squared:  0.9504 \n",
       "F-statistic:  2185 on 1 and 113 DF,  p-value: < 2.2e-16\n"
      ]
     },
     "metadata": {},
     "output_type": "display_data"
    }
   ],
   "source": [
    "summary(cafe.tlsm.trend)"
   ]
  },
  {
   "cell_type": "markdown",
   "id": "d05ab544",
   "metadata": {},
   "source": [
    "Estymator trendu liniowego wynosi: m_t =433.469+56.592t,"
   ]
  },
  {
   "cell_type": "markdown",
   "id": "426954a8",
   "metadata": {},
   "source": [
    "współczynniki są istotne statystycznie,"
   ]
  },
  {
   "cell_type": "markdown",
   "id": "5f9fb533",
   "metadata": {},
   "source": [
    " R^2 = 0.9508. Jest to bardzo dobry wynik."
   ]
  },
  {
   "cell_type": "markdown",
   "id": "4250244d",
   "metadata": {},
   "source": [
    "Sprawdźmy jak sytuacja prezentuje się na wykresie."
   ]
  },
  {
   "cell_type": "code",
   "execution_count": 18,
   "id": "6bea3912",
   "metadata": {},
   "outputs": [
    {
     "data": {
      "image/png": "[encoded data removed]",
      "text/plain": [
       "Plot with title \"Metoda 2\""
      ]
     },
     "metadata": {},
     "output_type": "display_data"
    }
   ],
   "source": [
    "plot(cafe,main=\"Metoda 2\")\n",
    "lines(fitted(cafe.tlsm.trend),col=\"red\",lty=2)\n",
    "legend(\"bottomright\",legend=c(\"oryginalne dane\",\"trend liniowy\"),col=c(\"black\",\"red\"),lty=c(1,2))"
   ]
  },
  {
   "cell_type": "markdown",
   "id": "7e9d04ee",
   "metadata": {},
   "source": [
    "Trend liniowy nie dopasowuje się dobrze do szeregu."
   ]
  },
  {
   "cell_type": "markdown",
   "id": "906a2525",
   "metadata": {},
   "source": [
    "Zobaczmy jak zachowują się reszty."
   ]
  },
  {
   "cell_type": "code",
   "execution_count": 19,
   "id": "a322f76d",
   "metadata": {},
   "outputs": [
    {
     "data": {
      "image/png": "[encoded data removed]",
      "text/plain": [
       "Plot with title \"\""
      ]
     },
     "metadata": {},
     "output_type": "display_data"
    }
   ],
   "source": [
    "tsdisplay(residuals(cafe.tlsm.trend),main=\"reszty\")"
   ]
  },
  {
   "cell_type": "markdown",
   "id": "6d82cc44",
   "metadata": {},
   "source": [
    "Analizując oba wykresy można mieć\n",
    "zastrzeżenia co do adekwatności\n",
    "modelu trendu liniowego dla danych\n",
    "cafe."
   ]
  },
  {
   "cell_type": "markdown",
   "id": "69eac08f",
   "metadata": {},
   "source": [
    "Niezbyt dobre dopasowanie\n",
    "widać już na wykresie pierwszym."
   ]
  },
  {
   "cell_type": "markdown",
   "id": "a4c4782d",
   "metadata": {},
   "source": [
    "Ponadto, szereg reszt trudno uznać za losowy."
   ]
  },
  {
   "cell_type": "markdown",
   "id": "c1722d86",
   "metadata": {},
   "source": [
    "#### uwzględnienie trendu i współczynnika sezonowego"
   ]
  },
  {
   "cell_type": "code",
   "execution_count": 20,
   "id": "f98ec34c",
   "metadata": {},
   "outputs": [],
   "source": [
    "cafe.tlsm.trend.sez=tslm(cafe∼trend+season)"
   ]
  },
  {
   "cell_type": "code",
   "execution_count": 21,
   "id": "3cdd8248",
   "metadata": {},
   "outputs": [
    {
     "data": {
      "text/plain": [
       "\n",
       "Call:\n",
       "tslm(formula = cafe ~ trend + season)\n",
       "\n",
       "Residuals:\n",
       "    Min      1Q  Median      3Q     Max \n",
       "-696.81 -317.40   67.02  204.26 1450.64 \n",
       "\n",
       "Coefficients:\n",
       "            Estimate Std. Error t value Pr(>|t|)    \n",
       "(Intercept)  328.219    103.484   3.172  0.00196 ** \n",
       "trend         56.518      1.165  48.506  < 2e-16 ***\n",
       "season2        8.006    109.878   0.073  0.94205    \n",
       "season3       94.919    109.872   0.864  0.38952    \n",
       "season4      331.470    109.878   3.017  0.00317 ** \n",
       "---\n",
       "Signif. codes:  0 '***' 0.001 '**' 0.01 '*' 0.05 '.' 0.1 ' ' 1\n",
       "\n",
       "Residual standard error: 414.7 on 110 degrees of freedom\n",
       "Multiple R-squared:  0.9557,\tAdjusted R-squared:  0.9541 \n",
       "F-statistic:   593 on 4 and 110 DF,  p-value: < 2.2e-16\n"
      ]
     },
     "metadata": {},
     "output_type": "display_data"
    }
   ],
   "source": [
    "summary(cafe.tlsm.trend.sez)"
   ]
  },
  {
   "cell_type": "markdown",
   "id": "d5cdcb10",
   "metadata": {},
   "source": [
    "Estymator trendu liniowego wynosi: m_t =328.219 +56.518 t, "
   ]
  },
  {
   "cell_type": "markdown",
   "id": "976f55ef",
   "metadata": {},
   "source": [
    "nie wszystkie współczynniki są istotne statystycznie, zmienne season2 oraz season3 nie są istotne statystycznie,"
   ]
  },
  {
   "cell_type": "markdown",
   "id": "daa15e1a",
   "metadata": {},
   "source": [
    "R^2 = 0.9557, delikatnie wzrosło w porównaniu do modelu z samym trendem."
   ]
  },
  {
   "cell_type": "markdown",
   "id": "9b0af826",
   "metadata": {},
   "source": [
    "Przyjrzyjmy się teraz wykresowi."
   ]
  },
  {
   "cell_type": "code",
   "execution_count": 22,
   "id": "5da5efca",
   "metadata": {},
   "outputs": [
    {
     "data": {
      "image/png": "[encoded data removed]",
      "text/plain": [
       "Plot with title \"Metoda 2\""
      ]
     },
     "metadata": {},
     "output_type": "display_data"
    }
   ],
   "source": [
    "plot(cafe,main=\"Metoda 2\")\n",
    "lines(fitted(cafe.tlsm.trend.sez),col=\"red\",lty=2)\n",
    "legend(\"bottomright\",legend=c(\"oryginalne dane\",\"trend liniowy\"),col=c(\"black\",\"red\"),lty=c(1,2))"
   ]
  },
  {
   "cell_type": "markdown",
   "id": "83eb731b",
   "metadata": {},
   "source": [
    "Trend liniowy nadal nie dopasowuje się dobrze do oryginalnego szeregu."
   ]
  },
  {
   "cell_type": "markdown",
   "id": "e7dbc5c4",
   "metadata": {},
   "source": [
    "Spójrzmy jeszcze na reszty."
   ]
  },
  {
   "cell_type": "code",
   "execution_count": 23,
   "id": "d6e06502",
   "metadata": {},
   "outputs": [
    {
     "data": {
      "image/png": "[encoded data removed]",
      "text/plain": [
       "Plot with title \"\""
      ]
     },
     "metadata": {},
     "output_type": "display_data"
    }
   ],
   "source": [
    "tsdisplay(residuals(cafe.tlsm.trend.sez),main=\"reszty\")"
   ]
  },
  {
   "cell_type": "markdown",
   "id": "f643832a",
   "metadata": {},
   "source": [
    "Z wykresów widzimy, że jakość dopasowania modelu poprawiła się.  "
   ]
  },
  {
   "cell_type": "markdown",
   "id": "00117245",
   "metadata": {},
   "source": [
    "Trudno jednak uznać otrzymany model za zadowalający, co widać chociażby z wykresu reszt."
   ]
  },
  {
   "cell_type": "markdown",
   "id": "2c6fed26",
   "metadata": {},
   "source": [
    "Prawdopodobnie, problem polega na\n",
    "tym, że jak już zaznaczaliśmy, w szeregu czasowym cafe wariancja\n",
    "rośnie wraz z poziomem szeregu."
   ]
  },
  {
   "cell_type": "markdown",
   "id": "11b9b75d",
   "metadata": {},
   "source": [
    "#### przekształcenie Boxa-Coxa ( w szczególności przekształcenie logarytmiczne)"
   ]
  },
  {
   "cell_type": "code",
   "execution_count": 24,
   "id": "149d2ed1",
   "metadata": {},
   "outputs": [],
   "source": [
    "cafe.log.tlsm=tslm(cafe∼trend+season,lambda=0)"
   ]
  },
  {
   "cell_type": "code",
   "execution_count": 25,
   "id": "a084f57a",
   "metadata": {},
   "outputs": [
    {
     "data": {
      "text/plain": [
       "\n",
       "Call:\n",
       "tslm(formula = cafe ~ trend + season, lambda = 0)\n",
       "\n",
       "Residuals:\n",
       "     Min       1Q   Median       3Q      Max \n",
       "-0.20026 -0.04936 -0.01090  0.05657  0.19236 \n",
       "\n",
       "Coefficients:\n",
       "              Estimate Std. Error t value Pr(>|t|)    \n",
       "(Intercept)  7.0780570  0.0228126 310.269   <2e-16 ***\n",
       "trend        0.0168247  0.0002569  65.502   <2e-16 ***\n",
       "season2     -0.0138792  0.0242223  -0.573   0.5678    \n",
       "season3      0.0081347  0.0242210   0.336   0.7376    \n",
       "season4      0.0770694  0.0242223   3.182   0.0019 ** \n",
       "---\n",
       "Signif. codes:  0 '***' 0.001 '**' 0.01 '*' 0.05 '.' 0.1 ' ' 1\n",
       "\n",
       "Residual standard error: 0.09142 on 110 degrees of freedom\n",
       "Multiple R-squared:  0.9752,\tAdjusted R-squared:  0.9743 \n",
       "F-statistic:  1080 on 4 and 110 DF,  p-value: < 2.2e-16\n"
      ]
     },
     "metadata": {},
     "output_type": "display_data"
    }
   ],
   "source": [
    "summary(cafe.log.tlsm)"
   ]
  },
  {
   "cell_type": "markdown",
   "id": "a4a4c184",
   "metadata": {},
   "source": [
    "Estymator trendu liniowego wynosi: m_t =7.0780570 +0.0168247 t,  "
   ]
  },
  {
   "cell_type": "markdown",
   "id": "cf097ad0",
   "metadata": {},
   "source": [
    "nie wszystkie współczynniki są istotne statystycznie, zmienne season2 oraz season3 nie są istotne statystycznie,"
   ]
  },
  {
   "cell_type": "markdown",
   "id": "d07f1184",
   "metadata": {},
   "source": [
    "R^2 = 0.9752, delikatnie wzrosło w porównaniu do modeli z samym trendem oraz z trendem i współczynnikiem sezonowym."
   ]
  },
  {
   "cell_type": "markdown",
   "id": "a498c964",
   "metadata": {},
   "source": [
    "Spójrzmy jak sytuacja wygląda na wykresie."
   ]
  },
  {
   "cell_type": "code",
   "execution_count": 26,
   "id": "a7960a72",
   "metadata": {},
   "outputs": [
    {
     "data": {
      "image/png": "[encoded data removed]",
      "text/plain": [
       "Plot with title \"Metoda 2\""
      ]
     },
     "metadata": {},
     "output_type": "display_data"
    }
   ],
   "source": [
    "plot(cafe,main=\"Metoda 2\")\n",
    "lines(fitted(cafe.log.tlsm),col=\"red\",lty=2)\n",
    "legend(\"bottomright\",legend=c(\"oryginalne dane\",\"trend+sezonowość\"),col=c(\"black\",\"red\"),lty=c(1,2))"
   ]
  },
  {
   "cell_type": "markdown",
   "id": "dd267f1b",
   "metadata": {},
   "source": [
    "Dopasowanie jest nieco lepsze niż ostatnio."
   ]
  },
  {
   "cell_type": "markdown",
   "id": "152b8ab8",
   "metadata": {},
   "source": [
    "Spójrzmy jeszcze na reszty."
   ]
  },
  {
   "cell_type": "code",
   "execution_count": 27,
   "id": "1888cc10",
   "metadata": {},
   "outputs": [
    {
     "data": {
      "image/png": "[encoded data removed]",
      "text/plain": [
       "Plot with title \"\""
      ]
     },
     "metadata": {},
     "output_type": "display_data"
    }
   ],
   "source": [
    "tsdisplay(residuals(cafe.log.tlsm),main=\"reszty\")"
   ]
  },
  {
   "cell_type": "markdown",
   "id": "8b0bae7a",
   "metadata": {},
   "source": [
    "Zastosowanie przekształcenia logarytmicznego przed dopasowaniem\n",
    "modelu addytywnego pozwoliło nam pozbyć się problemów wynikających\n",
    "z niejednorodności wariancji na końcach analizowanego szeregu.  "
   ]
  },
  {
   "cell_type": "markdown",
   "id": "c00607c4",
   "metadata": {},
   "source": [
    "Uzyskane reszty trudno jednak uznać za losowe."
   ]
  },
  {
   "cell_type": "markdown",
   "id": "b103d418",
   "metadata": {},
   "source": [
    "Przyjęty model\n",
    "liniowy dla trendu nie jest więc adekwatny."
   ]
  },
  {
   "cell_type": "markdown",
   "id": "243423dd",
   "metadata": {},
   "source": [
    "Nadzieję na poprawę\n",
    "dopasowania modelu dekompozycji możemy wiązać z modelem\n",
    "wielomianowym dla trendu."
   ]
  },
  {
   "cell_type": "markdown",
   "id": "3c119ceb",
   "metadata": {},
   "source": [
    "#### trend wielomianowy - trend kwadratowy oraz stopnia 4-tego zachowując składową sezonową oraz przekształcenie logarytmiczne"
   ]
  },
  {
   "cell_type": "code",
   "execution_count": 28,
   "id": "8e211e1b",
   "metadata": {},
   "outputs": [],
   "source": [
    "cafe.log.tlsm.2=tslm(cafe∼season+trend+I(trendˆ2),lambda=0)\n",
    "cafe.log.tlsm.4=tslm(cafe∼season+poly(trend,raw=TRUE,degree=4),lambda=0)"
   ]
  },
  {
   "cell_type": "code",
   "execution_count": 29,
   "id": "21244a9a",
   "metadata": {},
   "outputs": [
    {
     "data": {
      "text/plain": [
       "\n",
       "Call:\n",
       "tslm(formula = cafe ~ season + trend + I(trend^2), lambda = 0)\n",
       "\n",
       "Residuals:\n",
       "      Min        1Q    Median        3Q       Max \n",
       "-0.111141 -0.059620 -0.000395  0.048980  0.170572 \n",
       "\n",
       "Coefficients:\n",
       "              Estimate Std. Error t value Pr(>|t|)    \n",
       "(Intercept)  6.941e+00  2.314e-02 299.955  < 2e-16 ***\n",
       "season2     -9.320e-03  1.845e-02  -0.505    0.614    \n",
       "season3      1.263e-02  1.845e-02   0.685    0.495    \n",
       "season4      8.163e-02  1.845e-02   4.424 2.30e-05 ***\n",
       "trend        2.369e-02  7.890e-04  30.029  < 2e-16 ***\n",
       "I(trend^2)  -5.921e-05  6.590e-06  -8.986 8.75e-15 ***\n",
       "---\n",
       "Signif. codes:  0 '***' 0.001 '**' 0.01 '*' 0.05 '.' 0.1 ' ' 1\n",
       "\n",
       "Residual standard error: 0.06961 on 109 degrees of freedom\n",
       "Multiple R-squared:  0.9857,\tAdjusted R-squared:  0.9851 \n",
       "F-statistic:  1507 on 5 and 109 DF,  p-value: < 2.2e-16\n"
      ]
     },
     "metadata": {},
     "output_type": "display_data"
    }
   ],
   "source": [
    "summary(cafe.log.tlsm.2)"
   ]
  },
  {
   "cell_type": "markdown",
   "id": "698d1fc9",
   "metadata": {},
   "source": [
    "Estymator trendu liniowego wynosi: m_t =6.941+0.02369t-0.00005921t^2 , "
   ]
  },
  {
   "cell_type": "markdown",
   "id": "a8e79612",
   "metadata": {},
   "source": [
    "nie wszystkie współczynniki są istotne statystycznie, zmienne season2 oraz season3 nie są istotne statystycznie,"
   ]
  },
  {
   "cell_type": "markdown",
   "id": "335751a8",
   "metadata": {},
   "source": [
    "R^2 = 0.9857, delikatnie wzrosło w porównaniu do poprzednich modeli."
   ]
  },
  {
   "cell_type": "code",
   "execution_count": 30,
   "id": "348b98c2",
   "metadata": {},
   "outputs": [
    {
     "data": {
      "text/plain": [
       "\n",
       "Call:\n",
       "tslm(formula = cafe ~ season + poly(trend, raw = TRUE, degree = 4), \n",
       "    lambda = 0)\n",
       "\n",
       "Residuals:\n",
       "      Min        1Q    Median        3Q       Max \n",
       "-0.092203 -0.032711 -0.004403  0.029709  0.108008 \n",
       "\n",
       "Coefficients:\n",
       "                                       Estimate Std. Error t value Pr(>|t|)    \n",
       "(Intercept)                           6.780e+00  2.474e-02 273.998  < 2e-16 ***\n",
       "season2                              -6.275e-03  1.249e-02  -0.502  0.61652    \n",
       "season3                               1.326e-02  1.249e-02   1.061  0.29091    \n",
       "season4                               7.989e-02  1.249e-02   6.395 4.32e-09 ***\n",
       "poly(trend, raw = TRUE, degree = 4)1  4.126e-02  2.743e-03  15.041  < 2e-16 ***\n",
       "poly(trend, raw = TRUE, degree = 4)2 -4.952e-04  9.557e-05  -5.182 1.04e-06 ***\n",
       "poly(trend, raw = TRUE, degree = 4)3  3.525e-06  1.235e-06   2.854  0.00519 ** \n",
       "poly(trend, raw = TRUE, degree = 4)4 -7.707e-09  5.284e-09  -1.459  0.14759    \n",
       "---\n",
       "Signif. codes:  0 '***' 0.001 '**' 0.01 '*' 0.05 '.' 0.1 ' ' 1\n",
       "\n",
       "Residual standard error: 0.04709 on 107 degrees of freedom\n",
       "Multiple R-squared:  0.9936,\tAdjusted R-squared:  0.9932 \n",
       "F-statistic:  2369 on 7 and 107 DF,  p-value: < 2.2e-16\n"
      ]
     },
     "metadata": {},
     "output_type": "display_data"
    }
   ],
   "source": [
    "summary(cafe.log.tlsm.4)"
   ]
  },
  {
   "cell_type": "markdown",
   "id": "0e155fc4",
   "metadata": {},
   "source": [
    "Estymator trendu liniowego wynosi: m_t =6.780+0.04126t-0.0004952t^2+0.000003525t^3-0.000000007707t^4, "
   ]
  },
  {
   "cell_type": "markdown",
   "id": "a63c4de4",
   "metadata": {},
   "source": [
    "nie wszystkie współczynniki są istotne statystycznie, zmienne season2 oraz season3 nie są istotne statystycznie, "
   ]
  },
  {
   "cell_type": "markdown",
   "id": "8f275663",
   "metadata": {},
   "source": [
    "R^2 = 0.9936, jest najlepsze sprośród wszystkich sprawdzanych modeli."
   ]
  },
  {
   "cell_type": "markdown",
   "id": "8abb073b",
   "metadata": {},
   "source": [
    "Sprawdźmy jak sytuacja będzie się obrazowała na wykresie."
   ]
  },
  {
   "cell_type": "code",
   "execution_count": 31,
   "id": "7c6a3f70",
   "metadata": {},
   "outputs": [
    {
     "data": {
      "image/png": "[encoded data removed]",
      "text/plain": [
       "Plot with title \"Metoda 2\""
      ]
     },
     "metadata": {},
     "output_type": "display_data"
    }
   ],
   "source": [
    "plot(cafe,main=\"Metoda 2\")\n",
    "lines(fitted(cafe.log.tlsm.2),col=\"red\",lty=2)\n",
    "lines(fitted(cafe.log.tlsm.4),col=\"blue\",lty=2)\n",
    "legend(\"bottomright\",legend=c(\"oryginalne dane\",\"trend kwadratowy\",\"trend 4 stopnia\"), col=c(\"black\",\"red\",\"blue\"),lty=c(1,2,2))"
   ]
  },
  {
   "cell_type": "markdown",
   "id": "dcafbd5b",
   "metadata": {},
   "source": [
    "Widzimy, że używanie trendu wielomianowego prowadzi do poprawy\n",
    "jakości dopasowania, zwłaszcza w przypadku wielomianu 4-ego stopnia."
   ]
  },
  {
   "cell_type": "markdown",
   "id": "fa99455b",
   "metadata": {},
   "source": [
    "Przyjrzyjmy się jeszcze resztom."
   ]
  },
  {
   "cell_type": "code",
   "execution_count": 32,
   "id": "c56d9e6d",
   "metadata": {},
   "outputs": [
    {
     "data": {
      "image/png": "[encoded data removed]",
      "text/plain": [
       "Plot with title \"\""
      ]
     },
     "metadata": {},
     "output_type": "display_data"
    },
    {
     "data": {
      "image/png": "[encoded data removed]",
      "text/plain": [
       "Plot with title \"\""
      ]
     },
     "metadata": {},
     "output_type": "display_data"
    }
   ],
   "source": [
    "tsdisplay(residuals(cafe.log.tlsm.2),main=\"reszty:trend kwadratowy\")\n",
    "tsdisplay(residuals(cafe.log.tlsm.4),main=\"reszty:trend 4 stopnia\")"
   ]
  },
  {
   "cell_type": "markdown",
   "id": "186b4daf",
   "metadata": {},
   "source": [
    "Dla modelu trendu 4 stopnia otrzymujemy bardziej losowe reszty,\n",
    "które są także bliższe spełnienia założenia o stacjonarności."
   ]
  },
  {
   "cell_type": "markdown",
   "id": "2e992732",
   "metadata": {},
   "source": [
    "#### ocena jakości dopasowania modelu do danych z wykorzystaniem kryteriów informacyjnych AIC i BIC"
   ]
  },
  {
   "cell_type": "code",
   "execution_count": 33,
   "id": "5db43e5c",
   "metadata": {},
   "outputs": [
    {
     "data": {
      "text/html": [
       "<table>\n",
       "<thead><tr><th></th><th scope=col>df</th><th scope=col>AIC</th></tr></thead>\n",
       "<tbody>\n",
       "\t<tr><th scope=row>cafe.log.tlsm</th><td>6        </td><td>-216.9879</td></tr>\n",
       "\t<tr><th scope=row>cafe.log.tlsm.2</th><td>7        </td><td>-278.7362</td></tr>\n",
       "\t<tr><th scope=row>cafe.log.tlsm.4</th><td>9        </td><td>-366.7231</td></tr>\n",
       "</tbody>\n",
       "</table>\n"
      ],
      "text/latex": [
       "\\begin{tabular}{r|ll}\n",
       "  & df & AIC\\\\\n",
       "\\hline\n",
       "\tcafe.log.tlsm & 6         & -216.9879\\\\\n",
       "\tcafe.log.tlsm.2 & 7         & -278.7362\\\\\n",
       "\tcafe.log.tlsm.4 & 9         & -366.7231\\\\\n",
       "\\end{tabular}\n"
      ],
      "text/markdown": [
       "\n",
       "| <!--/--> | df | AIC |\n",
       "|---|---|---|\n",
       "| cafe.log.tlsm | 6         | -216.9879 |\n",
       "| cafe.log.tlsm.2 | 7         | -278.7362 |\n",
       "| cafe.log.tlsm.4 | 9         | -366.7231 |\n",
       "\n"
      ],
      "text/plain": [
       "                df AIC      \n",
       "cafe.log.tlsm   6  -216.9879\n",
       "cafe.log.tlsm.2 7  -278.7362\n",
       "cafe.log.tlsm.4 9  -366.7231"
      ]
     },
     "metadata": {},
     "output_type": "display_data"
    }
   ],
   "source": [
    "AIC(cafe.log.tlsm,cafe.log.tlsm.2,cafe.log.tlsm.4)"
   ]
  },
  {
   "cell_type": "code",
   "execution_count": 34,
   "id": "23149226",
   "metadata": {},
   "outputs": [
    {
     "data": {
      "text/html": [
       "<table>\n",
       "<thead><tr><th></th><th scope=col>df</th><th scope=col>BIC</th></tr></thead>\n",
       "<tbody>\n",
       "\t<tr><th scope=row>cafe.log.tlsm</th><td>6        </td><td>-200.5183</td></tr>\n",
       "\t<tr><th scope=row>cafe.log.tlsm.2</th><td>7        </td><td>-259.5217</td></tr>\n",
       "\t<tr><th scope=row>cafe.log.tlsm.4</th><td>9        </td><td>-342.0187</td></tr>\n",
       "</tbody>\n",
       "</table>\n"
      ],
      "text/latex": [
       "\\begin{tabular}{r|ll}\n",
       "  & df & BIC\\\\\n",
       "\\hline\n",
       "\tcafe.log.tlsm & 6         & -200.5183\\\\\n",
       "\tcafe.log.tlsm.2 & 7         & -259.5217\\\\\n",
       "\tcafe.log.tlsm.4 & 9         & -342.0187\\\\\n",
       "\\end{tabular}\n"
      ],
      "text/markdown": [
       "\n",
       "| <!--/--> | df | BIC |\n",
       "|---|---|---|\n",
       "| cafe.log.tlsm | 6         | -200.5183 |\n",
       "| cafe.log.tlsm.2 | 7         | -259.5217 |\n",
       "| cafe.log.tlsm.4 | 9         | -342.0187 |\n",
       "\n"
      ],
      "text/plain": [
       "                df BIC      \n",
       "cafe.log.tlsm   6  -200.5183\n",
       "cafe.log.tlsm.2 7  -259.5217\n",
       "cafe.log.tlsm.4 9  -342.0187"
      ]
     },
     "metadata": {},
     "output_type": "display_data"
    }
   ],
   "source": [
    "BIC(cafe.log.tlsm,cafe.log.tlsm.2,cafe.log.tlsm.4)"
   ]
  },
  {
   "cell_type": "markdown",
   "id": "bb01b374",
   "metadata": {},
   "source": [
    "Im mniejsza jest wartość tych kryteriów, tym lepsze jest dopasowanie."
   ]
  },
  {
   "cell_type": "markdown",
   "id": "b1692e05",
   "metadata": {},
   "source": [
    "Widzimy, że w obu przypadkach model z trendem 4 stopnia\n",
    "jest najlepszym wyborem."
   ]
  },
  {
   "cell_type": "markdown",
   "id": "528d6e35",
   "metadata": {},
   "source": [
    "## Analiza widmowa"
   ]
  },
  {
   "cell_type": "markdown",
   "id": "23ecd7ca",
   "metadata": {},
   "source": [
    "#### bez wygładzenia"
   ]
  },
  {
   "cell_type": "code",
   "execution_count": 35,
   "id": "57fb4252",
   "metadata": {},
   "outputs": [
    {
     "data": {
      "image/png": "[encoded data removed]",
      "text/plain": [
       "Plot with title \"Series: x\n",
       "Raw Periodogram\""
      ]
     },
     "metadata": {},
     "output_type": "display_data"
    }
   ],
   "source": [
    "Cafe=spectrum(cafe,log=\"no\")"
   ]
  },
  {
   "cell_type": "markdown",
   "id": "a2a93b94",
   "metadata": {},
   "source": [
    "#### z wygładzeniem"
   ]
  },
  {
   "cell_type": "code",
   "execution_count": 36,
   "id": "2555b92b",
   "metadata": {},
   "outputs": [
    {
     "data": {
      "image/png": "[encoded data removed]",
      "text/plain": [
       "Plot with title \"Series: x\n",
       "Smoothed Periodogram\""
      ]
     },
     "metadata": {},
     "output_type": "display_data"
    }
   ],
   "source": [
    "Cafe=spectrum(cafe,log=\"no\", span=3)"
   ]
  },
  {
   "cell_type": "markdown",
   "id": "a62dedbb",
   "metadata": {},
   "source": [
    "Nasz plik jest obiektem klasy ts z zadeklarowaną częstotliwością, dlatego też\n",
    "wyniki te należy interpretować następująco: mamy\n",
    "wyraźną okresowość roczną."
   ]
  },
  {
   "cell_type": "markdown",
   "id": "6ff95d60",
   "metadata": {},
   "source": [
    "#### zmieńmy skalę na osi x, żeby lepiej odczytać częstotliwość "
   ]
  },
  {
   "cell_type": "code",
   "execution_count": 37,
   "id": "c4a7edcc",
   "metadata": {},
   "outputs": [
    {
     "data": {
      "image/png": "[encoded data removed]",
      "text/plain": [
       "plot without title"
      ]
     },
     "metadata": {},
     "output_type": "display_data"
    }
   ],
   "source": [
    "spx=Cafe$freq*4\n",
    "spy=2*Cafe$spec\n",
    "plot(spy∼spx,xlab=\"Lata\",ylab=\"Periodogram\",type=\"l\")"
   ]
  },
  {
   "cell_type": "markdown",
   "id": "d58df363",
   "metadata": {},
   "source": [
    "Zatem ta najbardziej wyraźna\n",
    "okresowość odpowiada 4-emu rokowi (1986). "
   ]
  },
  {
   "cell_type": "markdown",
   "id": "d231e8c2",
   "metadata": {},
   "source": [
    "Pozostałe okresowości już nie są widoczne."
   ]
  },
  {
   "cell_type": "markdown",
   "id": "58ea2615",
   "metadata": {},
   "source": [
    "## Dopasowanie modeli z estymacja parametrów"
   ]
  },
  {
   "cell_type": "markdown",
   "id": "7685c3aa",
   "metadata": {},
   "source": [
    "#### metoda Yule’a-Walkera"
   ]
  },
  {
   "cell_type": "code",
   "execution_count": 38,
   "id": "ca075346",
   "metadata": {},
   "outputs": [],
   "source": [
    "AR.model.yw=ar(cafe,order.max=1,aic=FALSE)"
   ]
  },
  {
   "cell_type": "code",
   "execution_count": 39,
   "id": "e25ef9c1",
   "metadata": {},
   "outputs": [
    {
     "name": "stdout",
     "output_type": "stream",
     "text": [
      "\n",
      "Call:\n",
      "ar(x = cafe, aic = FALSE, order.max = 1)\n",
      "\n",
      "Coefficients:\n",
      "     1  \n",
      "0.9573  \n",
      "\n",
      "Order selected 1  sigma^2 estimated as  315642\n"
     ]
    }
   ],
   "source": [
    "print(AR.model.yw)"
   ]
  },
  {
   "cell_type": "markdown",
   "id": "e6fa39b4",
   "metadata": {},
   "source": [
    "Dopasowanym modelem jest AR(1)."
   ]
  },
  {
   "cell_type": "markdown",
   "id": "64386893",
   "metadata": {},
   "source": [
    "#### metoda największej wiarygodności"
   ]
  },
  {
   "cell_type": "code",
   "execution_count": 40,
   "id": "4bd79781",
   "metadata": {},
   "outputs": [],
   "source": [
    "AR.model.mle=ar(cafe,order.max=1,aic=FALSE,method=\"mle\")"
   ]
  },
  {
   "cell_type": "code",
   "execution_count": 41,
   "id": "ea77b1a7",
   "metadata": {},
   "outputs": [
    {
     "name": "stdout",
     "output_type": "stream",
     "text": [
      "\n",
      "Call:\n",
      "ar(x = cafe, aic = FALSE, order.max = 1, method = \"mle\")\n",
      "\n",
      "Coefficients:\n",
      "     1  \n",
      "0.9975  \n",
      "\n",
      "Order selected 1  sigma^2 estimated as  60948\n"
     ]
    }
   ],
   "source": [
    "print(AR.model.mle)"
   ]
  },
  {
   "cell_type": "markdown",
   "id": "3100424e",
   "metadata": {},
   "source": [
    "Dopasowanym modelem jest ponownie AR(1)."
   ]
  },
  {
   "cell_type": "markdown",
   "id": "83164d7f",
   "metadata": {},
   "source": [
    "#### automatyczny wybór rzędu AR"
   ]
  },
  {
   "cell_type": "code",
   "execution_count": 42,
   "id": "79b0e15e",
   "metadata": {},
   "outputs": [],
   "source": [
    "AR.optym.aic=ar(cafe,aic=TRUE)"
   ]
  },
  {
   "cell_type": "code",
   "execution_count": 43,
   "id": "0ee09d5e",
   "metadata": {},
   "outputs": [
    {
     "name": "stdout",
     "output_type": "stream",
     "text": [
      "\n",
      "Call:\n",
      "ar(x = cafe, aic = TRUE)\n",
      "\n",
      "Coefficients:\n",
      "     1  \n",
      "0.9573  \n",
      "\n",
      "Order selected 1  sigma^2 estimated as  315642\n"
     ]
    }
   ],
   "source": [
    "print(AR.optym.aic)"
   ]
  },
  {
   "cell_type": "markdown",
   "id": "03473aab",
   "metadata": {},
   "source": [
    "Korzystając z kryterium AIC do wyboru optymalnego rzędu modelu AR widzimy, że p=1 było dobrym wyborem.   "
   ]
  },
  {
   "cell_type": "markdown",
   "id": "e45c2886",
   "metadata": {},
   "source": [
    "Zasymulowany szereg jest modelem autoregresji rzędu 1."
   ]
  },
  {
   "cell_type": "markdown",
   "id": "415f361a",
   "metadata": {},
   "source": [
    "Również oszacowania parametrów modelu są różne\n",
    "dopiero od 2-ego miejsca po przecinku w zestawieniu z dwoma wcześniejszymi metodami."
   ]
  },
  {
   "cell_type": "markdown",
   "id": "f3042908",
   "metadata": {},
   "source": [
    "Przyjrzyjmy się poniższemu wykresowi."
   ]
  },
  {
   "cell_type": "code",
   "execution_count": 44,
   "id": "a1bbfc86",
   "metadata": {},
   "outputs": [
    {
     "data": {
      "image/png": "[encoded data removed]",
      "text/plain": [
       "Plot with title \"porównanie kryterium AIC\""
      ]
     },
     "metadata": {},
     "output_type": "display_data"
    }
   ],
   "source": [
    "AR.aic=AR.optym.aic$aic\n",
    "plot(as.numeric(names(AR.aic)),AR.aic,xlab=\"rząd p modelu autoregresji\",ylab=\"AIC(p)\",main=\"porównanie kryterium AIC\", type=\"b\")"
   ]
  },
  {
   "cell_type": "markdown",
   "id": "5b85d75d",
   "metadata": {},
   "source": [
    "Widzimy, że najlepszym wyborem jest rząd 1."
   ]
  },
  {
   "cell_type": "markdown",
   "id": "5640ee3f",
   "metadata": {},
   "source": [
    "#### wybór optymalnego modelu"
   ]
  },
  {
   "cell_type": "markdown",
   "id": "3e515a84",
   "metadata": {},
   "source": [
    "## Kryterium informacyjne Akaikego (AIC)"
   ]
  },
  {
   "cell_type": "markdown",
   "id": "3006bfd3",
   "metadata": {},
   "source": [
    "#### Metoda krokowa"
   ]
  },
  {
   "cell_type": "code",
   "execution_count": 45,
   "id": "aa86bf37",
   "metadata": {},
   "outputs": [
    {
     "data": {
      "text/plain": [
       "Series: cafe \n",
       "ARIMA(0,1,0)(0,1,2)[4] \n",
       "\n",
       "Coefficients:\n",
       "         sma1    sma2\n",
       "      -0.9642  0.3096\n",
       "s.e.   0.1139  0.1052\n",
       "\n",
       "sigma^2 estimated as 15744:  log likelihood=-688.57\n",
       "AIC=1383.14   AICc=1383.37   BIC=1391.25"
      ]
     },
     "metadata": {},
     "output_type": "display_data"
    }
   ],
   "source": [
    "arima.opt.AIC=auto.arima(cafe,ic=\"aic\")\n",
    "arima.opt.AIC"
   ]
  },
  {
   "cell_type": "markdown",
   "id": "217748d7",
   "metadata": {},
   "source": [
    "#### Przeszukiwanie zupełne"
   ]
  },
  {
   "cell_type": "code",
   "execution_count": 46,
   "id": "75cbf934",
   "metadata": {},
   "outputs": [
    {
     "data": {
      "text/plain": [
       "Series: cafe \n",
       "ARIMA(0,1,0)(0,1,2)[4] \n",
       "\n",
       "Coefficients:\n",
       "         sma1    sma2\n",
       "      -0.9642  0.3096\n",
       "s.e.   0.1139  0.1052\n",
       "\n",
       "sigma^2 estimated as 15744:  log likelihood=-688.57\n",
       "AIC=1383.14   AICc=1383.37   BIC=1391.25"
      ]
     },
     "metadata": {},
     "output_type": "display_data"
    }
   ],
   "source": [
    "arima.opt.AICs=auto.arima(cafe,ic=\"aic\", stepwise=FALSE)\n",
    "arima.opt.AICs"
   ]
  },
  {
   "cell_type": "markdown",
   "id": "814425e0",
   "metadata": {},
   "source": [
    "Obie metody doprowadziły do wyboru modelu ARIMA(0,1,0) x (0,1,2) jako modelu optymalnego."
   ]
  },
  {
   "cell_type": "markdown",
   "id": "be4b144c",
   "metadata": {},
   "source": [
    "## Skorygowana wersja AIC"
   ]
  },
  {
   "cell_type": "markdown",
   "id": "415d5201",
   "metadata": {},
   "source": [
    "#### Metoda krokowa"
   ]
  },
  {
   "cell_type": "code",
   "execution_count": 47,
   "id": "5ff7eaea",
   "metadata": {},
   "outputs": [
    {
     "data": {
      "text/plain": [
       "Series: cafe \n",
       "ARIMA(0,1,0)(0,1,2)[4] \n",
       "\n",
       "Coefficients:\n",
       "         sma1    sma2\n",
       "      -0.9642  0.3096\n",
       "s.e.   0.1139  0.1052\n",
       "\n",
       "sigma^2 estimated as 15744:  log likelihood=-688.57\n",
       "AIC=1383.14   AICc=1383.37   BIC=1391.25"
      ]
     },
     "metadata": {},
     "output_type": "display_data"
    }
   ],
   "source": [
    "arima.opt.AICC=auto.arima(cafe,ic=\"aicc\")\n",
    "arima.opt.AICC"
   ]
  },
  {
   "cell_type": "markdown",
   "id": "08b2f69a",
   "metadata": {},
   "source": [
    "#### Przeszukiwanie zupełne"
   ]
  },
  {
   "cell_type": "code",
   "execution_count": 48,
   "id": "bac9b033",
   "metadata": {},
   "outputs": [
    {
     "data": {
      "text/plain": [
       "Series: cafe \n",
       "ARIMA(0,1,0)(0,1,2)[4] \n",
       "\n",
       "Coefficients:\n",
       "         sma1    sma2\n",
       "      -0.9642  0.3096\n",
       "s.e.   0.1139  0.1052\n",
       "\n",
       "sigma^2 estimated as 15744:  log likelihood=-688.57\n",
       "AIC=1383.14   AICc=1383.37   BIC=1391.25"
      ]
     },
     "metadata": {},
     "output_type": "display_data"
    }
   ],
   "source": [
    "arima.opt.AICCs=auto.arima(cafe,ic=\"aicc\", stepwise=FALSE)\n",
    "arima.opt.AICCs"
   ]
  },
  {
   "cell_type": "markdown",
   "id": "9d04eba1",
   "metadata": {},
   "source": [
    "Obie metody potwierdziły, że optymalnym modelem jest model ARIMA(0,1,0) x (0,1,2)."
   ]
  },
  {
   "cell_type": "markdown",
   "id": "9879e655",
   "metadata": {},
   "source": [
    "## Bayesowskie kryterium informacyjne BIC"
   ]
  },
  {
   "cell_type": "markdown",
   "id": "59cb2185",
   "metadata": {},
   "source": [
    "#### Metoda krokowa"
   ]
  },
  {
   "cell_type": "code",
   "execution_count": 49,
   "id": "de5b0d9f",
   "metadata": {},
   "outputs": [
    {
     "data": {
      "text/plain": [
       "Series: cafe \n",
       "ARIMA(0,1,0)(0,1,2)[4] \n",
       "\n",
       "Coefficients:\n",
       "         sma1    sma2\n",
       "      -0.9642  0.3096\n",
       "s.e.   0.1139  0.1052\n",
       "\n",
       "sigma^2 estimated as 15744:  log likelihood=-688.57\n",
       "AIC=1383.14   AICc=1383.37   BIC=1391.25"
      ]
     },
     "metadata": {},
     "output_type": "display_data"
    }
   ],
   "source": [
    "arima.opt.BIC=auto.arima(cafe,ic=\"bic\")\n",
    "arima.opt.BIC"
   ]
  },
  {
   "cell_type": "markdown",
   "id": "e2250548",
   "metadata": {},
   "source": [
    "#### Przeszukiwanie zupełne"
   ]
  },
  {
   "cell_type": "code",
   "execution_count": 50,
   "id": "b562042f",
   "metadata": {},
   "outputs": [
    {
     "data": {
      "text/plain": [
       "Series: cafe \n",
       "ARIMA(0,1,0)(0,1,2)[4] \n",
       "\n",
       "Coefficients:\n",
       "         sma1    sma2\n",
       "      -0.9642  0.3096\n",
       "s.e.   0.1139  0.1052\n",
       "\n",
       "sigma^2 estimated as 15744:  log likelihood=-688.57\n",
       "AIC=1383.14   AICc=1383.37   BIC=1391.25"
      ]
     },
     "metadata": {},
     "output_type": "display_data"
    }
   ],
   "source": [
    "arima.opt.BICs=auto.arima(cafe,ic=\"bic\", stepwise=FALSE)\n",
    "arima.opt.BICs"
   ]
  },
  {
   "cell_type": "markdown",
   "id": "16a05200",
   "metadata": {},
   "source": [
    "Wszystkie modele dla obu metod potwierdziły, że optymalnym modelem jest model ARIMA(0,1,0) x (0,1,2)."
   ]
  },
  {
   "cell_type": "markdown",
   "id": "bd7107f2",
   "metadata": {},
   "source": [
    "## Wykonanie badań diagnostycznych"
   ]
  },
  {
   "cell_type": "markdown",
   "id": "329cadd0",
   "metadata": {},
   "source": [
    "Narysujmy teraz wykres wartości resztowych oraz ACF dla\n",
    "modelu AR(1). "
   ]
  },
  {
   "cell_type": "markdown",
   "id": "a1961f51",
   "metadata": {},
   "source": [
    "Skorzystamy z zbudowanego już wcześniej modelu."
   ]
  },
  {
   "cell_type": "code",
   "execution_count": 51,
   "id": "10129f7b",
   "metadata": {},
   "outputs": [],
   "source": [
    "ar.reszty=AR.optym.aic$resid"
   ]
  },
  {
   "cell_type": "code",
   "execution_count": 52,
   "id": "ccb6f4c9",
   "metadata": {
    "scrolled": false
   },
   "outputs": [
    {
     "data": {
      "image/png": "[encoded data removed]",
      "text/plain": [
       "Plot with title \"AR(1):ACF dla reszt\""
      ]
     },
     "metadata": {},
     "output_type": "display_data"
    }
   ],
   "source": [
    "par(mfrow=c(2,1))                 \n",
    "plot(ar.reszty,main=\"AR(1):wykres reszt\")\n",
    "Acf(ar.reszty,lag.max=30,main=\"AR(1):ACF dla reszt\")"
   ]
  },
  {
   "cell_type": "markdown",
   "id": "a1d9f3d6",
   "metadata": {},
   "source": [
    "Wykres dla modelu nie\n",
    "zawiera żadnych regularnych\n",
    "wzorców i wygląda na losowy."
   ]
  },
  {
   "cell_type": "markdown",
   "id": "f079d8ba",
   "metadata": {},
   "source": [
    "Na wykresie ACF jednak widzimy\n",
    "pojedyncze istotne wartości: dla\n",
    "modelu AR(1) - dla opóźnienia\n",
    "4, 8, 12, 16, 20, 24 oraz 28."
   ]
  },
  {
   "cell_type": "markdown",
   "id": "ce40ea38",
   "metadata": {},
   "source": [
    "Może to świadczyć o pewnych pozostałościach zależności, które nie\n",
    "zostały wyjaśnione przez dopasowane modele.  "
   ]
  },
  {
   "cell_type": "markdown",
   "id": "42587337",
   "metadata": {},
   "source": [
    "Zbadajmy jeszcze losowość\n",
    "reszt, wykorzystując test Ljunga-Boxa."
   ]
  },
  {
   "cell_type": "markdown",
   "id": "511e1c02",
   "metadata": {},
   "source": [
    "Musimy załadować pakiet, z którego będziemy korzystali."
   ]
  },
  {
   "cell_type": "code",
   "execution_count": 53,
   "id": "e846b7b1",
   "metadata": {},
   "outputs": [],
   "source": [
    "library(stats)"
   ]
  },
  {
   "cell_type": "markdown",
   "id": "f6f2a0ca",
   "metadata": {},
   "source": [
    "Zwracamy uwagę na wskaźnik p-value: jeśli jest on nie mniejszy niż 0.05, to\n",
    "hipotezę o losowości nie odrzucamy (odpowiednią wartość resztową\n",
    "uznajemy za nieistotną), przy zbyt małej wartości p-value - odrzucamy\n",
    "hipotezę o losowości. "
   ]
  },
  {
   "cell_type": "markdown",
   "id": "d86af4a2",
   "metadata": {},
   "source": [
    "H_0 - reszty są losowe,"
   ]
  },
  {
   "cell_type": "markdown",
   "id": "106242f8",
   "metadata": {},
   "source": [
    "H_1 - reszty nie są losowe."
   ]
  },
  {
   "cell_type": "code",
   "execution_count": 54,
   "id": "661f1d39",
   "metadata": {},
   "outputs": [
    {
     "data": {
      "text/plain": [
       "\n",
       "\tBox-Ljung test\n",
       "\n",
       "data:  ar.reszty\n",
       "X-squared = 65.527, df = 4, p-value = 1.993e-13\n"
      ]
     },
     "metadata": {},
     "output_type": "display_data"
    }
   ],
   "source": [
    "Box.test(ar.reszty,lag=4,type=\"Ljung-Box\")"
   ]
  },
  {
   "cell_type": "markdown",
   "id": "979d9fb1",
   "metadata": {},
   "source": [
    "Odrzucamy hipotezę zerową o losowości reszt."
   ]
  },
  {
   "cell_type": "code",
   "execution_count": 55,
   "id": "486e47b0",
   "metadata": {},
   "outputs": [
    {
     "data": {
      "text/plain": [
       "\n",
       "\tBox-Ljung test\n",
       "\n",
       "data:  ar.reszty\n",
       "X-squared = 125.15, df = 8, p-value < 2.2e-16\n"
      ]
     },
     "metadata": {},
     "output_type": "display_data"
    }
   ],
   "source": [
    "Box.test(ar.reszty,lag=8,type=\"Ljung-Box\")"
   ]
  },
  {
   "cell_type": "markdown",
   "id": "a66419ab",
   "metadata": {},
   "source": [
    "Odrzucamy hipotezę zerową o losowości reszt."
   ]
  },
  {
   "cell_type": "code",
   "execution_count": 56,
   "id": "30f08ce6",
   "metadata": {},
   "outputs": [
    {
     "data": {
      "text/plain": [
       "\n",
       "\tBox-Ljung test\n",
       "\n",
       "data:  ar.reszty\n",
       "X-squared = 182.5, df = 12, p-value < 2.2e-16\n"
      ]
     },
     "metadata": {},
     "output_type": "display_data"
    }
   ],
   "source": [
    "Box.test(ar.reszty,lag=12,type=\"Ljung-Box\")"
   ]
  },
  {
   "cell_type": "markdown",
   "id": "7abb422f",
   "metadata": {},
   "source": [
    "Odrzucamy hipotezę zerową o losowości reszt."
   ]
  },
  {
   "cell_type": "code",
   "execution_count": 57,
   "id": "e0af4554",
   "metadata": {},
   "outputs": [
    {
     "data": {
      "text/plain": [
       "\n",
       "\tBox-Ljung test\n",
       "\n",
       "data:  ar.reszty\n",
       "X-squared = 230.91, df = 16, p-value < 2.2e-16\n"
      ]
     },
     "metadata": {},
     "output_type": "display_data"
    }
   ],
   "source": [
    "Box.test(ar.reszty,lag=16,type=\"Ljung-Box\")"
   ]
  },
  {
   "cell_type": "markdown",
   "id": "e9e8a279",
   "metadata": {},
   "source": [
    "Odrzucamy hipotezę zerową o losowości reszt."
   ]
  },
  {
   "cell_type": "code",
   "execution_count": 58,
   "id": "4da27b30",
   "metadata": {},
   "outputs": [
    {
     "data": {
      "text/plain": [
       "\n",
       "\tBox-Ljung test\n",
       "\n",
       "data:  ar.reszty\n",
       "X-squared = 272.21, df = 20, p-value < 2.2e-16\n"
      ]
     },
     "metadata": {},
     "output_type": "display_data"
    }
   ],
   "source": [
    "Box.test(ar.reszty,lag=20,type=\"Ljung-Box\")"
   ]
  },
  {
   "cell_type": "markdown",
   "id": "878c3208",
   "metadata": {},
   "source": [
    "Odrzucamy hipotezę zerową o losowości reszt."
   ]
  },
  {
   "cell_type": "code",
   "execution_count": 59,
   "id": "23d4f5cb",
   "metadata": {},
   "outputs": [
    {
     "data": {
      "text/plain": [
       "\n",
       "\tBox-Ljung test\n",
       "\n",
       "data:  ar.reszty\n",
       "X-squared = 311.17, df = 24, p-value < 2.2e-16\n"
      ]
     },
     "metadata": {},
     "output_type": "display_data"
    }
   ],
   "source": [
    "Box.test(ar.reszty,lag=24,type=\"Ljung-Box\")"
   ]
  },
  {
   "cell_type": "code",
   "execution_count": 60,
   "id": "735c691f",
   "metadata": {},
   "outputs": [
    {
     "data": {
      "text/plain": [
       "\n",
       "\tBox-Ljung test\n",
       "\n",
       "data:  ar.reszty\n",
       "X-squared = 345.02, df = 28, p-value < 2.2e-16\n"
      ]
     },
     "metadata": {},
     "output_type": "display_data"
    }
   ],
   "source": [
    "Box.test(ar.reszty,lag=28,type=\"Ljung-Box\")"
   ]
  },
  {
   "cell_type": "markdown",
   "id": "d63047a8",
   "metadata": {},
   "source": [
    "Odrzucamy hipotezę zerową o losowości reszt."
   ]
  },
  {
   "cell_type": "markdown",
   "id": "2082d74d",
   "metadata": {},
   "source": [
    "Dla reszt z modelu AR(1) odrzucamy hipotezę o losowości reszt dla opóźnienia  4, 8, 12, 16, 20, 24 oraz 28."
   ]
  },
  {
   "cell_type": "markdown",
   "id": "27299a57",
   "metadata": {},
   "source": [
    "Zbadamy teraz własności reszt dla modelu dopasowanego\n",
    "do przekształconych danych cafe, czyli modelu\n",
    "ARIMA(0,1,0) x (0,1,2)_4 dla oryginalnego szeregu. "
   ]
  },
  {
   "cell_type": "markdown",
   "id": "5d66954e",
   "metadata": {},
   "source": [
    "Ten model dopasowywaliśmy przy pomocy funkcji auto.arima()."
   ]
  },
  {
   "cell_type": "code",
   "execution_count": 61,
   "id": "165bad4f",
   "metadata": {},
   "outputs": [
    {
     "data": {
      "image/png": "[encoded data removed]",
      "text/plain": [
       "Plot with title \"p values for Ljung-Box statistic\""
      ]
     },
     "metadata": {},
     "output_type": "display_data"
    }
   ],
   "source": [
    "ARIMA.model=Arima(cafe,order=c(0,1,0),seasonal=list(order=c(0,1,2),period=4))  \n",
    "tsdiag(ARIMA.model,gof.lag=20)"
   ]
  },
  {
   "cell_type": "markdown",
   "id": "74e49fd1",
   "metadata": {},
   "source": [
    "Otrzymaliśmy wykresy: standaryzowanych\n",
    "reszt (tzn. przeskalowanych, aby wariancja była równa\n",
    "1), wartości ACF dla reszt oraz p-values dla hipotezy o losowości\n",
    "reszt testem Ljunga-Boxa. "
   ]
  },
  {
   "cell_type": "markdown",
   "id": "68c5836a",
   "metadata": {},
   "source": [
    "W tym przypadku nie mamy zastrzeżeń\n",
    "co do poprawności dopasowania modelu. "
   ]
  },
  {
   "cell_type": "markdown",
   "id": "3534ba78",
   "metadata": {},
   "source": [
    "W szczególności, p-values dla testu\n",
    "Ljunga-Boxa dla większości naszych\n",
    "rozważanych opóźnień (4,12,16) są \n",
    "większe od poziomu istotności 0.05,\n",
    "co być może przemawia za przyjęciem hipotezy\n",
    "o losowości reszt."
   ]
  },
  {
   "cell_type": "markdown",
   "id": "1e3a12c1",
   "metadata": {},
   "source": [
    "Oprócz funkcji tsdiag() do analizy\n",
    "wartości resztowych można też\n",
    "wykorzystać dodatkowe narzędzia."
   ]
  },
  {
   "cell_type": "markdown",
   "id": "96d107c2",
   "metadata": {},
   "source": [
    "Zastosujmy test Ljunga-Boxa, aby otrzymać\n",
    "dokładne wartości p-values."
   ]
  },
  {
   "cell_type": "code",
   "execution_count": 62,
   "id": "8436118a",
   "metadata": {},
   "outputs": [
    {
     "data": {
      "text/plain": [
       "\n",
       "\tBox-Ljung test\n",
       "\n",
       "data:  ARIMA.reszty\n",
       "X-squared = 1.3687, df = 4, p-value = 0.8496\n"
      ]
     },
     "metadata": {},
     "output_type": "display_data"
    }
   ],
   "source": [
    "ARIMA.reszty=residuals(ARIMA.model)\n",
    "Box.test(ARIMA.reszty,lag=4,type=\"Ljung-Box\")"
   ]
  },
  {
   "cell_type": "markdown",
   "id": "412ada72",
   "metadata": {},
   "source": [
    "Nie mamy podstaw do odrzucenia hipotezy zerowej o losowości reszt."
   ]
  },
  {
   "cell_type": "code",
   "execution_count": 63,
   "id": "ba9d1aa3",
   "metadata": {},
   "outputs": [
    {
     "data": {
      "text/plain": [
       "\n",
       "\tBox-Ljung test\n",
       "\n",
       "data:  ARIMA.reszty\n",
       "X-squared = 7.9472, df = 8, p-value = 0.4386\n"
      ]
     },
     "metadata": {},
     "output_type": "display_data"
    }
   ],
   "source": [
    "Box.test(ARIMA.reszty,lag=8,type=\"Ljung-Box\")"
   ]
  },
  {
   "cell_type": "markdown",
   "id": "e808898d",
   "metadata": {},
   "source": [
    "Nie mamy podstaw do odrzucenia hipotezy zerowej o losowości reszt."
   ]
  },
  {
   "cell_type": "code",
   "execution_count": 64,
   "id": "ad2af93c",
   "metadata": {},
   "outputs": [
    {
     "data": {
      "text/plain": [
       "\n",
       "\tBox-Ljung test\n",
       "\n",
       "data:  ARIMA.reszty\n",
       "X-squared = 9.525, df = 12, p-value = 0.6576\n"
      ]
     },
     "metadata": {},
     "output_type": "display_data"
    }
   ],
   "source": [
    "Box.test(ARIMA.reszty,lag=12,type=\"Ljung-Box\")"
   ]
  },
  {
   "cell_type": "markdown",
   "id": "8e75ad23",
   "metadata": {},
   "source": [
    "Nie mamy podstaw do odrzucenia hipotezy zerowej o losowości reszt."
   ]
  },
  {
   "cell_type": "code",
   "execution_count": 65,
   "id": "3b47ee5b",
   "metadata": {},
   "outputs": [
    {
     "data": {
      "text/plain": [
       "\n",
       "\tBox-Ljung test\n",
       "\n",
       "data:  ARIMA.reszty\n",
       "X-squared = 12.501, df = 16, p-value = 0.7088\n"
      ]
     },
     "metadata": {},
     "output_type": "display_data"
    }
   ],
   "source": [
    "Box.test(ARIMA.reszty,lag=16,type=\"Ljung-Box\")"
   ]
  },
  {
   "cell_type": "markdown",
   "id": "cc6fc501",
   "metadata": {},
   "source": [
    "Nie mamy podstaw do odrzucenia hipotezy zerowej o losowości reszt."
   ]
  },
  {
   "cell_type": "code",
   "execution_count": 66,
   "id": "ed7903f3",
   "metadata": {},
   "outputs": [
    {
     "data": {
      "text/plain": [
       "\n",
       "\tBox-Ljung test\n",
       "\n",
       "data:  ARIMA.reszty\n",
       "X-squared = 20.858, df = 20, p-value = 0.4055\n"
      ]
     },
     "metadata": {},
     "output_type": "display_data"
    }
   ],
   "source": [
    "Box.test(ARIMA.reszty,lag=20,type=\"Ljung-Box\")"
   ]
  },
  {
   "cell_type": "markdown",
   "id": "28847be3",
   "metadata": {},
   "source": [
    "Nie mamy podstaw do odrzucenia hipotezy zerowej o losowości reszt."
   ]
  },
  {
   "cell_type": "code",
   "execution_count": 67,
   "id": "b3356767",
   "metadata": {},
   "outputs": [
    {
     "data": {
      "text/plain": [
       "\n",
       "\tBox-Ljung test\n",
       "\n",
       "data:  ARIMA.reszty\n",
       "X-squared = 26.727, df = 24, p-value = 0.3173\n"
      ]
     },
     "metadata": {},
     "output_type": "display_data"
    }
   ],
   "source": [
    "Box.test(ARIMA.reszty,lag=24,type=\"Ljung-Box\")"
   ]
  },
  {
   "cell_type": "markdown",
   "id": "02fdf0f1",
   "metadata": {},
   "source": [
    "Nie mamy podstaw do odrzucenia hipotezy zerowej o losowości reszt."
   ]
  },
  {
   "cell_type": "code",
   "execution_count": 68,
   "id": "182946f6",
   "metadata": {},
   "outputs": [
    {
     "data": {
      "text/plain": [
       "\n",
       "\tBox-Ljung test\n",
       "\n",
       "data:  ARIMA.reszty\n",
       "X-squared = 29.038, df = 28, p-value = 0.4106\n"
      ]
     },
     "metadata": {},
     "output_type": "display_data"
    }
   ],
   "source": [
    "Box.test(ARIMA.reszty,lag=28,type=\"Ljung-Box\")"
   ]
  },
  {
   "cell_type": "markdown",
   "id": "02a405b1",
   "metadata": {},
   "source": [
    "Nie mamy podstaw do odrzucenia hipotezy zerowej o losowości reszt."
   ]
  },
  {
   "cell_type": "markdown",
   "id": "2461c6ae",
   "metadata": {},
   "source": [
    "W odróżnieniu od modelu autoregresyjnego tym razem test\n",
    "Ljunga-Boxa pozwala przyjąć hipotezę o losowości reszt (dla wszystkich\n",
    "rozważanych opóźnień). Zatem model\n",
    "ARIMA(0,1,0) x (0,1,2)_4 możemy uznać za lepiej dopasowany niż\n",
    "model AR(1)."
   ]
  },
  {
   "cell_type": "markdown",
   "id": "c4901810",
   "metadata": {},
   "source": [
    "Na koniec sprawdźmy jeszcze, czy można przyjąć założenie o\n",
    "normalności rozkładu reszt. "
   ]
  },
  {
   "cell_type": "markdown",
   "id": "03f4a130",
   "metadata": {},
   "source": [
    "W tym celu narysujmy histogram dla\n",
    "reszt z ostatniego modelu oraz wykres kwantylowy."
   ]
  },
  {
   "cell_type": "code",
   "execution_count": 69,
   "id": "908da187",
   "metadata": {},
   "outputs": [
    {
     "data": {
      "image/png": "[encoded data removed]",
      "text/plain": [
       "Plot with title \"wykres kwantylowy\""
      ]
     },
     "metadata": {},
     "output_type": "display_data"
    }
   ],
   "source": [
    "par(mfrow=c(1,2))\n",
    "hist(ARIMA.reszty,main=\"histogram\")\n",
    "qqnorm(ARIMA.reszty,main=\"wykres kwantylowy\")\n",
    "qqline(ARIMA.reszty)"
   ]
  },
  {
   "cell_type": "markdown",
   "id": "50d6c695",
   "metadata": {},
   "source": [
    "Histogram wartości resztowych\n",
    "wydaje się bardziej wyostrzony,\n",
    "niż należy; wykres kwantylowy\n",
    "również wykazuje pewne odstępstwa\n",
    "od rozkładu normalnego."
   ]
  },
  {
   "cell_type": "markdown",
   "id": "b16f88fc",
   "metadata": {},
   "source": [
    "Wykonajmy jeszcze test Shapiro-Wilka na normalność wartości\n",
    "resztowych."
   ]
  },
  {
   "cell_type": "code",
   "execution_count": 70,
   "id": "eebbb28f",
   "metadata": {},
   "outputs": [
    {
     "data": {
      "text/plain": [
       "\n",
       "\tShapiro-Wilk normality test\n",
       "\n",
       "data:  ARIMA.reszty\n",
       "W = 0.94271, p-value = 9.365e-05\n"
      ]
     },
     "metadata": {},
     "output_type": "display_data"
    }
   ],
   "source": [
    "shapiro.test(ARIMA.reszty)"
   ]
  },
  {
   "cell_type": "markdown",
   "id": "d85b7301",
   "metadata": {},
   "source": [
    "Test Shapiro-Wilka również wskazuje na odrzucenie hipotezy o\n",
    "normalności reszt (p-value jest mniejsze niż 0.05). "
   ]
  },
  {
   "cell_type": "markdown",
   "id": "d3cef2b8",
   "metadata": {},
   "source": [
    "Normalność\n",
    "rozkładu reszt budzi więc wątpliwości."
   ]
  },
  {
   "cell_type": "markdown",
   "id": "77223d5b",
   "metadata": {},
   "source": [
    "## Prognozowanie "
   ]
  },
  {
   "cell_type": "markdown",
   "id": "4294e723",
   "metadata": {},
   "source": [
    "konstrukcja prognoz punktowych i przedziałów\n",
    "predykcyjnych, horyzont prognozy: 24 miesiecy dla danych miesiecznych,\n",
    "8 kwartałów dla danych kwartalnych, 20 lat dla danych\n",
    "rocznych"
   ]
  },
  {
   "cell_type": "markdown",
   "id": "051eaba0",
   "metadata": {},
   "source": [
    "W prognozach uzyskane wyniki to następujące elementy: prognozy punktowe, przedziały predykcyjne na poziomie ufności 0.80 oraz 0.95."
   ]
  },
  {
   "cell_type": "markdown",
   "id": "1b119552",
   "metadata": {},
   "source": [
    "#### Prognozowania za pomocą ruchomej średniej"
   ]
  },
  {
   "cell_type": "code",
   "execution_count": 71,
   "id": "0f0626be",
   "metadata": {},
   "outputs": [
    {
     "data": {
      "text/plain": [
       "        Point Forecast    Lo 80    Hi 80     Lo 95    Hi 95\n",
       "2011 Q1       3715.793 1210.675 6220.911 -134.1177 7565.704\n",
       "2011 Q2       3715.793 1210.675 6220.911 -134.1177 7565.704\n",
       "2011 Q3       3715.793 1210.675 6220.911 -134.1177 7565.704\n",
       "2011 Q4       3715.793 1210.675 6220.911 -134.1177 7565.704\n",
       "2012 Q1       3715.793 1210.675 6220.911 -134.1177 7565.704\n",
       "2012 Q2       3715.793 1210.675 6220.911 -134.1177 7565.704\n",
       "2012 Q3       3715.793 1210.675 6220.911 -134.1177 7565.704\n",
       "2012 Q4       3715.793 1210.675 6220.911 -134.1177 7565.704"
      ]
     },
     "metadata": {},
     "output_type": "display_data"
    }
   ],
   "source": [
    "cafe.forecast.mean=meanf(cafe,h=8)\n",
    "cafe.forecast.mean"
   ]
  },
  {
   "cell_type": "markdown",
   "id": "b08f4000",
   "metadata": {},
   "source": [
    "Otrzymaliśmy prognozy dla 8 kwartałów."
   ]
  },
  {
   "cell_type": "markdown",
   "id": "7d34aa09",
   "metadata": {},
   "source": [
    "Spójrzmy, jak sytuacja wygląda na wykresie."
   ]
  },
  {
   "cell_type": "code",
   "execution_count": 72,
   "id": "767f4abc",
   "metadata": {},
   "outputs": [
    {
     "data": {
      "image/png": "[encoded data removed]",
      "text/plain": [
       "Plot with title \"cafe: prognoza (średnia)\""
      ]
     },
     "metadata": {},
     "output_type": "display_data"
    }
   ],
   "source": [
    "plot(cafe.forecast.mean,main=\"cafe: prognoza (średnia)\")"
   ]
  },
  {
   "cell_type": "markdown",
   "id": "96fdd2a9",
   "metadata": {},
   "source": [
    "Jak widzimy, występujący w szeregu czasowym cafe trend spowodował, że prognozy\n",
    "oparte na średniej nie dały zadowalających rezultatów."
   ]
  },
  {
   "cell_type": "markdown",
   "id": "b7c68981",
   "metadata": {},
   "source": [
    "Dla porównania zastosujmy tę samą metodę konstrukcji prognoz, ale z usuniętym trendem. "
   ]
  },
  {
   "cell_type": "markdown",
   "id": "5587a970",
   "metadata": {},
   "source": [
    "Do wyeliminowania\n",
    "tych możemy wykorzystać\n",
    "operację różnicowania."
   ]
  },
  {
   "cell_type": "code",
   "execution_count": 73,
   "id": "4c3bb990",
   "metadata": {},
   "outputs": [
    {
     "data": {
      "image/png": "[encoded data removed]",
      "text/plain": [
       "Plot with title \"cafe: prognoza (średnia) po zróżnicowaniu\""
      ]
     },
     "metadata": {},
     "output_type": "display_data"
    }
   ],
   "source": [
    "cafe.diff.forecast.mean=meanf(diff(cafe),h=8)\n",
    "plot(cafe.diff.forecast.mean,main=\"cafe: prognoza (średnia) po zróżnicowaniu\")"
   ]
  },
  {
   "cell_type": "markdown",
   "id": "962a7c23",
   "metadata": {},
   "source": [
    "Metoda prognozowania oparta na uśrednianiu wcześniejszych wartości radzi sobie dużo\n",
    "lepiej, choć trudno oczywiście uznać\n",
    "skonstruowane prognozy za satysfakcjonujące."
   ]
  },
  {
   "cell_type": "markdown",
   "id": "d3c93e18",
   "metadata": {},
   "source": [
    "#### Konstrukcji prognoz na podstawie metod naiwnych"
   ]
  },
  {
   "cell_type": "code",
   "execution_count": 74,
   "id": "2ab19913",
   "metadata": {},
   "outputs": [
    {
     "data": {
      "text/plain": [
       "        Point Forecast    Lo 80    Hi 80    Lo 95    Hi 95\n",
       "2011 Q1         8426.5 8110.055 8742.945 7942.540 8910.460\n",
       "2011 Q2         8426.5 7978.980 8874.020 7742.077 9110.923\n",
       "2011 Q3         8426.5 7878.402 8974.598 7588.256 9264.744\n",
       "2011 Q4         8426.5 7793.611 9059.389 7458.580 9394.420\n",
       "2012 Q1         8426.5 7718.908 9134.092 7344.332 9508.668\n",
       "2012 Q2         8426.5 7651.372 9201.628 7241.045 9611.955\n",
       "2012 Q3         8426.5 7589.266 9263.734 7146.062 9706.938\n",
       "2012 Q4         8426.5 7531.460 9321.540 7057.654 9795.346"
      ]
     },
     "metadata": {},
     "output_type": "display_data"
    }
   ],
   "source": [
    "cafe.forecast.naive=naive(cafe,h=8)\n",
    "cafe.forecast.naive"
   ]
  },
  {
   "cell_type": "markdown",
   "id": "1170becc",
   "metadata": {},
   "source": [
    "Otrzymaliśmy prognozy dla 8 kwartałów."
   ]
  },
  {
   "cell_type": "markdown",
   "id": "8f8dc40f",
   "metadata": {},
   "source": [
    "Przyjrzyjmy się wykresowi."
   ]
  },
  {
   "cell_type": "code",
   "execution_count": 75,
   "id": "211a4f5c",
   "metadata": {},
   "outputs": [
    {
     "data": {
      "image/png": "[encoded data removed]",
      "text/plain": [
       "Plot with title \"cafe: prognoza naiwna\""
      ]
     },
     "metadata": {},
     "output_type": "display_data"
    }
   ],
   "source": [
    "plot(cafe.forecast.naive,main=\"cafe: prognoza naiwna\")"
   ]
  },
  {
   "cell_type": "markdown",
   "id": "f5dbb054",
   "metadata": {},
   "source": [
    "Widzimy, że prognoza prezentuje się\n",
    "znacznie lepiej, niż ta dla metody\n",
    "średniej."
   ]
  },
  {
   "cell_type": "markdown",
   "id": "74bbbff8",
   "metadata": {},
   "source": [
    "Prognoza jest ustabilizowana. Przyszłe wartości się ustabilizowały. Nie widać już w niej trendu wzrostowego."
   ]
  },
  {
   "cell_type": "markdown",
   "id": "a3944bf8",
   "metadata": {},
   "source": [
    "#### Metoda uwzględniająca dryf"
   ]
  },
  {
   "cell_type": "code",
   "execution_count": 76,
   "id": "dd90fa74",
   "metadata": {},
   "outputs": [
    {
     "data": {
      "text/plain": [
       "        Point Forecast    Lo 80    Hi 80    Lo 95     Hi 95\n",
       "2011 Q1       8491.529 8184.908 8798.150 8022.592  8960.466\n",
       "2011 Q2       8556.558 8121.032 8992.084 7890.479  9222.637\n",
       "2011 Q3       8621.587 8085.865 9157.309 7802.271  9440.903\n",
       "2011 Q4       8686.616 8065.357 9307.875 7736.482  9636.750\n",
       "2012 Q1       8751.645 8054.094 9449.196 7684.833  9818.457\n",
       "2012 Q2       8816.674 8049.314 9584.034 7643.098  9990.249\n",
       "2012 Q3       8881.703 8049.384 9714.021 7608.781 10154.624\n",
       "2012 Q4       8946.732 8053.246 9840.217 7580.263 10313.200"
      ]
     },
     "metadata": {},
     "output_type": "display_data"
    }
   ],
   "source": [
    "cafe.forecast.rwf=rwf(cafe,drift=TRUE,h=8)\n",
    "cafe.forecast.rwf"
   ]
  },
  {
   "cell_type": "markdown",
   "id": "3ca842d3",
   "metadata": {},
   "source": [
    "Otrzymaliśmy prognozę dla 8 kwartałów."
   ]
  },
  {
   "cell_type": "markdown",
   "id": "7161c896",
   "metadata": {},
   "source": [
    "Spójrzmy na wykres."
   ]
  },
  {
   "cell_type": "code",
   "execution_count": 77,
   "id": "cc444584",
   "metadata": {},
   "outputs": [
    {
     "data": {
      "image/png": "[encoded data removed]",
      "text/plain": [
       "Plot with title \"cafe:prognoza uwzgl.dryf\""
      ]
     },
     "metadata": {},
     "output_type": "display_data"
    }
   ],
   "source": [
    "plot(cafe.forecast.rwf,main=\"cafe:prognoza uwzgl.dryf\")"
   ]
  },
  {
   "cell_type": "markdown",
   "id": "d033edde",
   "metadata": {},
   "source": [
    "Jak widzimy z wykresów, prognoza w przypadku szeregu cafe\n",
    "uwzględnia trend i w odróżnieniu od metody naiwnej widoczny jest dalszy wzrost przyszłych wartości."
   ]
  },
  {
   "cell_type": "markdown",
   "id": "aed8beb2",
   "metadata": {},
   "source": [
    "Metoda uwzględniająca\n",
    "dryf zakłada, że trend jest liniowy, co może nie dawać przyzwoitych prognoz w przypadku,gdy trend wygląda na\n",
    "wykładniczy. "
   ]
  },
  {
   "cell_type": "markdown",
   "id": "27cb5c9c",
   "metadata": {},
   "source": [
    "Spróbujmy zatem uwzględnić specyficzny charakter\n",
    "trendu w szeregu cafe. "
   ]
  },
  {
   "cell_type": "markdown",
   "id": "9b3271a4",
   "metadata": {},
   "source": [
    "W tym celu prognozę wyznaczymy po zastosowaniu\n",
    "przekształcenia logarytmicznego Boxa-Coxa z parametrem\n",
    "λ = 0."
   ]
  },
  {
   "cell_type": "code",
   "execution_count": 78,
   "id": "83964c26",
   "metadata": {},
   "outputs": [
    {
     "data": {
      "text/plain": [
       "        Point Forecast    Lo 80    Hi 80    Lo 95    Hi 95\n",
       "2011 Q1       9.057718 8.980026 9.135410 8.938899 9.176537\n",
       "2011 Q2       9.076299 8.965946 9.186653 8.907528 9.245071\n",
       "2011 Q3       9.094881 8.959139 9.230622 8.887282 9.302479\n",
       "2011 Q4       9.113462 8.956047 9.270877 8.872717 9.354207\n",
       "2012 Q1       9.132043 8.955298 9.308789 8.861734 9.402352\n",
       "2012 Q2       9.150625 8.956191 9.345058 8.853264 9.447985\n",
       "2012 Q3       9.169206 8.958313 9.380099 8.846673 9.491739\n",
       "2012 Q4       9.187787 8.961396 9.414179 8.841551 9.534023"
      ]
     },
     "metadata": {},
     "output_type": "display_data"
    }
   ],
   "source": [
    "log.cafe.forecast.rwf=rwf(BoxCox(cafe,lambda=0),drift=TRUE,h=8)\n",
    "log.cafe.forecast.rwf"
   ]
  },
  {
   "cell_type": "markdown",
   "id": "6ca8b942",
   "metadata": {},
   "source": [
    "Otrzymaliśmy prognozę dla 8 kwartałów."
   ]
  },
  {
   "cell_type": "markdown",
   "id": "e3b54e16",
   "metadata": {},
   "source": [
    "Narysujmy teraz wykresy i porównajmy je ze sobą."
   ]
  },
  {
   "cell_type": "code",
   "execution_count": 79,
   "id": "3844de3d",
   "metadata": {},
   "outputs": [
    {
     "data": {
      "image/png": "[encoded data removed]",
      "text/plain": [
       "Plot with title \"cafe: prognoza zlogarytmowana uwzgl. dryf\""
      ]
     },
     "metadata": {},
     "output_type": "display_data"
    }
   ],
   "source": [
    "par(mfrow=c(2,1))\n",
    "plot(log.cafe.forecast.rwf,main=\"log.cafe:prognoza uwzgl. dryf\")\n",
    "cafe.forecast.log.rwf=rwf(cafe,drift=TRUE,h=8,lambda=0)\n",
    "plot(cafe.forecast.log.rwf,main=\"cafe: prognoza zlogarytmowana uwzgl. dryf\")"
   ]
  },
  {
   "cell_type": "markdown",
   "id": "e8b9e474",
   "metadata": {},
   "source": [
    "Zastosowanie przekształcenia\n",
    "logarytmicznego dla szeregu\n",
    "cafe zmieniło charakter trendu\n",
    "z wykładniczego na liniowy, co\n",
    "pozytywnie odbiło się na prognozie. Uwzględnienie przekształcenia logarytmicznego poprawiło także\n",
    "dokładność prognozy."
   ]
  },
  {
   "cell_type": "markdown",
   "id": "62ac2091",
   "metadata": {},
   "source": [
    "## Ocena dokładnosci prognoz "
   ]
  },
  {
   "cell_type": "markdown",
   "id": "86eec694",
   "metadata": {},
   "source": [
    "#### Funkcja accuracy() z pakietu forecast"
   ]
  },
  {
   "cell_type": "markdown",
   "id": "b3cccbdd",
   "metadata": {},
   "source": [
    "#### Metody opartej na średniej"
   ]
  },
  {
   "cell_type": "code",
   "execution_count": 80,
   "id": "e873def3",
   "metadata": {},
   "outputs": [
    {
     "data": {
      "text/html": [
       "<table>\n",
       "<thead><tr><th></th><th scope=col>ME</th><th scope=col>RMSE</th><th scope=col>MAE</th><th scope=col>MPE</th><th scope=col>MAPE</th><th scope=col>MASE</th><th scope=col>ACF1</th></tr></thead>\n",
       "<tbody>\n",
       "\t<tr><th scope=row>Training set</th><td>-2.246705e-13</td><td>1926.599     </td><td>1590.127     </td><td>-37.04065    </td><td>62.31865     </td><td>5.785939     </td><td>0.9573093    </td></tr>\n",
       "</tbody>\n",
       "</table>\n"
      ],
      "text/latex": [
       "\\begin{tabular}{r|lllllll}\n",
       "  & ME & RMSE & MAE & MPE & MAPE & MASE & ACF1\\\\\n",
       "\\hline\n",
       "\tTraining set & -2.246705e-13 & 1926.599      & 1590.127      & -37.04065     & 62.31865      & 5.785939      & 0.9573093    \\\\\n",
       "\\end{tabular}\n"
      ],
      "text/markdown": [
       "\n",
       "| <!--/--> | ME | RMSE | MAE | MPE | MAPE | MASE | ACF1 |\n",
       "|---|---|---|---|---|---|---|---|\n",
       "| Training set | -2.246705e-13 | 1926.599      | 1590.127      | -37.04065     | 62.31865      | 5.785939      | 0.9573093     |\n",
       "\n"
      ],
      "text/plain": [
       "             ME            RMSE     MAE      MPE       MAPE     MASE    \n",
       "Training set -2.246705e-13 1926.599 1590.127 -37.04065 62.31865 5.785939\n",
       "             ACF1     \n",
       "Training set 0.9573093"
      ]
     },
     "metadata": {},
     "output_type": "display_data"
    }
   ],
   "source": [
    "accuracy(cafe.forecast.mean)"
   ]
  },
  {
   "cell_type": "code",
   "execution_count": 81,
   "id": "738fc176",
   "metadata": {},
   "outputs": [
    {
     "data": {
      "text/html": [
       "<table>\n",
       "<thead><tr><th></th><th scope=col>ME</th><th scope=col>RMSE</th><th scope=col>MAE</th><th scope=col>MPE</th><th scope=col>MAPE</th><th scope=col>MASE</th><th scope=col>ACF1</th></tr></thead>\n",
       "<tbody>\n",
       "\t<tr><th scope=row>Training set</th><td>-1.194874e-14</td><td>238.2062     </td><td>178.9239     </td><td>179.6932     </td><td>222.1102     </td><td>1.468559     </td><td>-0.2360275   </td></tr>\n",
       "</tbody>\n",
       "</table>\n"
      ],
      "text/latex": [
       "\\begin{tabular}{r|lllllll}\n",
       "  & ME & RMSE & MAE & MPE & MAPE & MASE & ACF1\\\\\n",
       "\\hline\n",
       "\tTraining set & -1.194874e-14 & 238.2062      & 178.9239      & 179.6932      & 222.1102      & 1.468559      & -0.2360275   \\\\\n",
       "\\end{tabular}\n"
      ],
      "text/markdown": [
       "\n",
       "| <!--/--> | ME | RMSE | MAE | MPE | MAPE | MASE | ACF1 |\n",
       "|---|---|---|---|---|---|---|---|\n",
       "| Training set | -1.194874e-14 | 238.2062      | 178.9239      | 179.6932      | 222.1102      | 1.468559      | -0.2360275    |\n",
       "\n"
      ],
      "text/plain": [
       "             ME            RMSE     MAE      MPE      MAPE     MASE    \n",
       "Training set -1.194874e-14 238.2062 178.9239 179.6932 222.1102 1.468559\n",
       "             ACF1      \n",
       "Training set -0.2360275"
      ]
     },
     "metadata": {},
     "output_type": "display_data"
    }
   ],
   "source": [
    "accuracy(cafe.diff.forecast.mean)"
   ]
  },
  {
   "cell_type": "markdown",
   "id": "b061ab42",
   "metadata": {},
   "source": [
    "#### Metoda naiwna"
   ]
  },
  {
   "cell_type": "code",
   "execution_count": 82,
   "id": "cb7eb02c",
   "metadata": {},
   "outputs": [
    {
     "data": {
      "text/html": [
       "<table>\n",
       "<thead><tr><th></th><th scope=col>ME</th><th scope=col>RMSE</th><th scope=col>MAE</th><th scope=col>MPE</th><th scope=col>MAPE</th><th scope=col>MASE</th><th scope=col>ACF1</th></tr></thead>\n",
       "<tbody>\n",
       "\t<tr><th scope=row>Training set</th><td>65.02895  </td><td>246.923   </td><td>188.7009  </td><td>1.661601  </td><td>5.202148  </td><td>0.6866191 </td><td>-0.2360275</td></tr>\n",
       "</tbody>\n",
       "</table>\n"
      ],
      "text/latex": [
       "\\begin{tabular}{r|lllllll}\n",
       "  & ME & RMSE & MAE & MPE & MAPE & MASE & ACF1\\\\\n",
       "\\hline\n",
       "\tTraining set & 65.02895   & 246.923    & 188.7009   & 1.661601   & 5.202148   & 0.6866191  & -0.2360275\\\\\n",
       "\\end{tabular}\n"
      ],
      "text/markdown": [
       "\n",
       "| <!--/--> | ME | RMSE | MAE | MPE | MAPE | MASE | ACF1 |\n",
       "|---|---|---|---|---|---|---|---|\n",
       "| Training set | 65.02895   | 246.923    | 188.7009   | 1.661601   | 5.202148   | 0.6866191  | -0.2360275 |\n",
       "\n"
      ],
      "text/plain": [
       "             ME       RMSE    MAE      MPE      MAPE     MASE      ACF1      \n",
       "Training set 65.02895 246.923 188.7009 1.661601 5.202148 0.6866191 -0.2360275"
      ]
     },
     "metadata": {},
     "output_type": "display_data"
    }
   ],
   "source": [
    "accuracy(cafe.forecast.naive)"
   ]
  },
  {
   "cell_type": "markdown",
   "id": "d8240a4d",
   "metadata": {},
   "source": [
    "#### Metody uwzględniająca dryf"
   ]
  },
  {
   "cell_type": "code",
   "execution_count": 83,
   "id": "b36d586e",
   "metadata": {},
   "outputs": [
    {
     "data": {
      "text/html": [
       "<table>\n",
       "<thead><tr><th></th><th scope=col>ME</th><th scope=col>RMSE</th><th scope=col>MAE</th><th scope=col>MPE</th><th scope=col>MAPE</th><th scope=col>MASE</th><th scope=col>ACF1</th></tr></thead>\n",
       "<tbody>\n",
       "\t<tr><th scope=row>Training set</th><td>1.346154e-13</td><td>238.2062    </td><td>178.9239    </td><td>-0.7014427  </td><td>5.049823    </td><td>0.6510441   </td><td>-0.2360275  </td></tr>\n",
       "</tbody>\n",
       "</table>\n"
      ],
      "text/latex": [
       "\\begin{tabular}{r|lllllll}\n",
       "  & ME & RMSE & MAE & MPE & MAPE & MASE & ACF1\\\\\n",
       "\\hline\n",
       "\tTraining set & 1.346154e-13 & 238.2062     & 178.9239     & -0.7014427   & 5.049823     & 0.6510441    & -0.2360275  \\\\\n",
       "\\end{tabular}\n"
      ],
      "text/markdown": [
       "\n",
       "| <!--/--> | ME | RMSE | MAE | MPE | MAPE | MASE | ACF1 |\n",
       "|---|---|---|---|---|---|---|---|\n",
       "| Training set | 1.346154e-13 | 238.2062     | 178.9239     | -0.7014427   | 5.049823     | 0.6510441    | -0.2360275   |\n",
       "\n"
      ],
      "text/plain": [
       "             ME           RMSE     MAE      MPE        MAPE     MASE     \n",
       "Training set 1.346154e-13 238.2062 178.9239 -0.7014427 5.049823 0.6510441\n",
       "             ACF1      \n",
       "Training set -0.2360275"
      ]
     },
     "metadata": {},
     "output_type": "display_data"
    }
   ],
   "source": [
    "accuracy(cafe.forecast.rwf)"
   ]
  },
  {
   "cell_type": "code",
   "execution_count": 84,
   "id": "ab7f33f8",
   "metadata": {},
   "outputs": [
    {
     "data": {
      "text/html": [
       "<table>\n",
       "<thead><tr><th></th><th scope=col>ME</th><th scope=col>RMSE</th><th scope=col>MAE</th><th scope=col>MPE</th><th scope=col>MAPE</th><th scope=col>MASE</th><th scope=col>ACF1</th></tr></thead>\n",
       "<tbody>\n",
       "\t<tr><th scope=row>Training set</th><td>3.505946e-16 </td><td>0.06035675   </td><td>0.04941041   </td><td>-1.555788e-05</td><td>0.6194945    </td><td>0.6229117    </td><td>-0.2425265   </td></tr>\n",
       "</tbody>\n",
       "</table>\n"
      ],
      "text/latex": [
       "\\begin{tabular}{r|lllllll}\n",
       "  & ME & RMSE & MAE & MPE & MAPE & MASE & ACF1\\\\\n",
       "\\hline\n",
       "\tTraining set & 3.505946e-16  & 0.06035675    & 0.04941041    & -1.555788e-05 & 0.6194945     & 0.6229117     & -0.2425265   \\\\\n",
       "\\end{tabular}\n"
      ],
      "text/markdown": [
       "\n",
       "| <!--/--> | ME | RMSE | MAE | MPE | MAPE | MASE | ACF1 |\n",
       "|---|---|---|---|---|---|---|---|\n",
       "| Training set | 3.505946e-16  | 0.06035675    | 0.04941041    | -1.555788e-05 | 0.6194945     | 0.6229117     | -0.2425265    |\n",
       "\n"
      ],
      "text/plain": [
       "             ME           RMSE       MAE        MPE           MAPE     \n",
       "Training set 3.505946e-16 0.06035675 0.04941041 -1.555788e-05 0.6194945\n",
       "             MASE      ACF1      \n",
       "Training set 0.6229117 -0.2425265"
      ]
     },
     "metadata": {},
     "output_type": "display_data"
    }
   ],
   "source": [
    "accuracy(log.cafe.forecast.rwf)"
   ]
  },
  {
   "cell_type": "code",
   "execution_count": 85,
   "id": "e93631a2",
   "metadata": {},
   "outputs": [
    {
     "data": {
      "text/html": [
       "<table>\n",
       "<thead><tr><th></th><th scope=col>ME</th><th scope=col>RMSE</th><th scope=col>MAE</th><th scope=col>MPE</th><th scope=col>MAPE</th><th scope=col>MASE</th><th scope=col>ACF1</th></tr></thead>\n",
       "<tbody>\n",
       "\t<tr><th scope=row>Training set</th><td>-3.88577  </td><td>237.9052  </td><td>175.1736  </td><td>-0.1827355</td><td>4.956041  </td><td>0.6373981 </td><td>-0.2625614</td></tr>\n",
       "</tbody>\n",
       "</table>\n"
      ],
      "text/latex": [
       "\\begin{tabular}{r|lllllll}\n",
       "  & ME & RMSE & MAE & MPE & MAPE & MASE & ACF1\\\\\n",
       "\\hline\n",
       "\tTraining set & -3.88577   & 237.9052   & 175.1736   & -0.1827355 & 4.956041   & 0.6373981  & -0.2625614\\\\\n",
       "\\end{tabular}\n"
      ],
      "text/markdown": [
       "\n",
       "| <!--/--> | ME | RMSE | MAE | MPE | MAPE | MASE | ACF1 |\n",
       "|---|---|---|---|---|---|---|---|\n",
       "| Training set | -3.88577   | 237.9052   | 175.1736   | -0.1827355 | 4.956041   | 0.6373981  | -0.2625614 |\n",
       "\n"
      ],
      "text/plain": [
       "             ME       RMSE     MAE      MPE        MAPE     MASE     \n",
       "Training set -3.88577 237.9052 175.1736 -0.1827355 4.956041 0.6373981\n",
       "             ACF1      \n",
       "Training set -0.2625614"
      ]
     },
     "metadata": {},
     "output_type": "display_data"
    }
   ],
   "source": [
    "accuracy(cafe.forecast.log.rwf)"
   ]
  },
  {
   "cell_type": "markdown",
   "id": "4118efb0",
   "metadata": {},
   "source": [
    "Widzimy, że kryteria RMSE, MAE, MAPE, MASE wskazują na\n",
    "metodę uwzględniającą dryf (w tym metodę poszerzoną o przekształcenie logarytmiczne Boxa-Coxa z parametrem λ = 0) jako najlepszą spośród\n",
    "trzech metod."
   ]
  },
  {
   "cell_type": "markdown",
   "id": "64d93349",
   "metadata": {},
   "source": [
    "#### Przedziały predykcyjne dla różnych poziomów ufności"
   ]
  },
  {
   "cell_type": "code",
   "execution_count": 86,
   "id": "a144091f",
   "metadata": {},
   "outputs": [
    {
     "data": {
      "image/png": "[encoded data removed]",
      "text/plain": [
       "Plot with title \"Wykres wachlarzowy\""
      ]
     },
     "metadata": {},
     "output_type": "display_data"
    }
   ],
   "source": [
    "par(mfrow=c(2,1))\n",
    "cafe.forecast.rwf.1=rwf(cafe,drift=TRUE,level=c(0.8,0.95),h=8)\n",
    "plot(cafe.forecast.rwf.1,main=\"Przedziały predykcyjne, 0.80,0.95\")\n",
    "cafe.forecast.rwf.2=rwf(cafe,drift=TRUE,fan=TRUE,h=8)\n",
    "plot(cafe.forecast.rwf.2,main=\"Wykres wachlarzowy\")"
   ]
  },
  {
   "cell_type": "markdown",
   "id": "dabe7dde",
   "metadata": {},
   "source": [
    "Na rysunkach po kolei zostały przedstawione\n",
    "prognozy z dwoma przedziałami\n",
    "predykcyjnymi na poziomach\n",
    "ufności 0.80, 0.95 oraz tzw.\n",
    "wykres wachlarzowy, na którym przedstawiono zostało kilka przedziałów predykcyjnych."
   ]
  },
  {
   "cell_type": "markdown",
   "id": "ec07c8d1",
   "metadata": {},
   "source": [
    "Co prawda,\n",
    "wykresy nie są zbyt czytelne i ciężko jest zauważyć różnicę pomiędzy\n",
    "nimi."
   ]
  },
  {
   "cell_type": "markdown",
   "id": "b39d9e24",
   "metadata": {},
   "source": [
    "Ocena dokładności prognoz na podstawie tych samych danych,\n",
    "które były wykorzystane do konstrukcji prognoz, nie pozwala na w\n",
    "pełni wiarygodną ocenę skuteczności prognoz i może prowadzić do\n",
    "błędnych wniosków."
   ]
  },
  {
   "cell_type": "markdown",
   "id": "6d60622e",
   "metadata": {},
   "source": [
    "#### Podział danych na zbiór uczący i testowy w celu zwiększenia wiarygodności "
   ]
  },
  {
   "cell_type": "markdown",
   "id": "f4de03c1",
   "metadata": {},
   "source": [
    "Zbiór uczący wygląda następująco:"
   ]
  },
  {
   "cell_type": "code",
   "execution_count": 87,
   "id": "5c1659a3",
   "metadata": {},
   "outputs": [
    {
     "name": "stdout",
     "output_type": "stream",
     "text": [
      "       Qtr1   Qtr2   Qtr3   Qtr4\n",
      "1982        1013.2 1011.9 1166.2\n",
      "1983 1082.5 1058.7 1118.1 1223.7\n",
      "1984 1163.7 1178.8 1196.7 1349.1\n",
      "1985 1233.5 1272.8 1369.7 1563.1\n",
      "1986 1437.5 1512.8 1602.1 1797.4\n",
      "1987 1640.3 1665.5 1775.0 1985.0\n",
      "1988 1816.4 1877.9 1975.1 2114.9\n",
      "1989 2106.7 2125.6 2253.7 2543.9\n",
      "1990 2462.2 2412.5 2455.4 2630.2\n",
      "1991 2446.1 2419.3 2564.9 2941.0\n",
      "1992 2735.9 2729.9 2680.9 2913.3\n",
      "1993 2625.7 2541.8 2654.1 2993.7\n",
      "1994 2901.3 2815.3 3071.5 3320.3\n",
      "1995 3156.8 3196.1 3330.2 3675.5\n",
      "1996 3521.1 3424.0 3388.7 3502.4\n",
      "1997 3387.6 3425.1 3492.0 3695.2\n",
      "1998 3377.0 3339.1 3456.5 3769.6\n",
      "1999 3613.8 3715.4 3714.1 4088.0\n",
      "2000 3828.7 3809.3 4079.1 4415.7\n",
      "2001 4330.0 4285.0 4419.2 4582.8\n",
      "2002 4290.8 4367.2 4574.0 4862.5\n",
      "2003 4616.4 4800.7 5146.6 5765.1\n",
      "2004 5533.8 5478.4 5649.8 5796.3\n"
     ]
    }
   ],
   "source": [
    "cafe.train=window(cafe,end=c(2004,4))\n",
    "print(cafe.train)"
   ]
  },
  {
   "cell_type": "markdown",
   "id": "aa5c3454",
   "metadata": {},
   "source": [
    "Natomiast zbiór testowy, wygląda tak:"
   ]
  },
  {
   "cell_type": "code",
   "execution_count": 88,
   "id": "45ac9ab6",
   "metadata": {},
   "outputs": [
    {
     "name": "stdout",
     "output_type": "stream",
     "text": [
      "       Qtr1   Qtr2   Qtr3   Qtr4\n",
      "2005 5240.2 5366.8 5528.2 6095.9\n",
      "2006 5647.7 5915.2 6101.1 6520.0\n",
      "2007 6228.0 6413.3 6615.8 7003.0\n",
      "2008 6409.6 6414.8 6500.8 7024.6\n",
      "2009 6691.0 6991.6 7291.9 8068.0\n",
      "2010 7450.7 7608.3 8316.8 8426.5\n"
     ]
    }
   ],
   "source": [
    "cafe.test=window(cafe,start=c(2005,1))\n",
    "print(cafe.test)"
   ]
  },
  {
   "cell_type": "markdown",
   "id": "4de6dead",
   "metadata": {},
   "source": [
    "Wyznaczamy prognozy na podstawie zbioru uczącego, wykorzystując cztery stosowane poprzednio\n",
    "proste metody prognozowania. "
   ]
  },
  {
   "cell_type": "markdown",
   "id": "9d117a26",
   "metadata": {},
   "source": [
    "Będziemy widzieć tu po kolei: prognozy punktowe, przedziały predykcyjne na poziomie ufności 0.80 oraz 0.95."
   ]
  },
  {
   "cell_type": "markdown",
   "id": "add24662",
   "metadata": {},
   "source": [
    "#### Prognoza oparta na ruchomej średniej"
   ]
  },
  {
   "cell_type": "code",
   "execution_count": 89,
   "id": "227d336e",
   "metadata": {},
   "outputs": [
    {
     "data": {
      "text/plain": [
       "        Point Forecast   Lo 80    Hi 80    Lo 95    Hi 95\n",
       "2005 Q1       2938.971 1285.65 4592.293 394.7898 5483.153\n",
       "2005 Q2       2938.971 1285.65 4592.293 394.7898 5483.153\n",
       "2005 Q3       2938.971 1285.65 4592.293 394.7898 5483.153\n",
       "2005 Q4       2938.971 1285.65 4592.293 394.7898 5483.153\n",
       "2006 Q1       2938.971 1285.65 4592.293 394.7898 5483.153\n",
       "2006 Q2       2938.971 1285.65 4592.293 394.7898 5483.153\n",
       "2006 Q3       2938.971 1285.65 4592.293 394.7898 5483.153\n",
       "2006 Q4       2938.971 1285.65 4592.293 394.7898 5483.153"
      ]
     },
     "metadata": {},
     "output_type": "display_data"
    }
   ],
   "source": [
    "f1_1=meanf(cafe.train,h=8)\n",
    "f1_1"
   ]
  },
  {
   "cell_type": "markdown",
   "id": "7bb4fd05",
   "metadata": {},
   "source": [
    "#### Prognoza oparta o metody naiwne"
   ]
  },
  {
   "cell_type": "code",
   "execution_count": 90,
   "id": "b671245a",
   "metadata": {},
   "outputs": [
    {
     "data": {
      "text/plain": [
       "        Point Forecast    Lo 80    Hi 80    Lo 95    Hi 95\n",
       "2005 Q1         5796.3 5560.918 6031.682 5436.315 6156.285\n",
       "2005 Q2         5796.3 5463.420 6129.180 5287.204 6305.396\n",
       "2005 Q3         5796.3 5388.607 6203.993 5172.787 6419.813\n",
       "2005 Q4         5796.3 5325.536 6267.064 5076.329 6516.271\n",
       "2006 Q1         5796.3 5269.970 6322.630 4991.348 6601.252\n",
       "2006 Q2         5796.3 5219.735 6372.865 4914.520 6678.080\n",
       "2006 Q3         5796.3 5173.538 6419.062 4843.868 6748.732\n",
       "2006 Q4         5796.3 5130.540 6462.060 4778.108 6814.492"
      ]
     },
     "metadata": {},
     "output_type": "display_data"
    }
   ],
   "source": [
    "f2_1=naive(cafe.train,h=8)\n",
    "f2_1"
   ]
  },
  {
   "cell_type": "markdown",
   "id": "a665f48c",
   "metadata": {},
   "source": [
    "#### Prognoza oparta o dryft"
   ]
  },
  {
   "cell_type": "code",
   "execution_count": 91,
   "id": "6a484df5",
   "metadata": {},
   "outputs": [
    {
     "data": {
      "text/plain": [
       "        Point Forecast    Lo 80    Hi 80    Lo 95    Hi 95\n",
       "2005 Q1       5849.446 5622.871 6076.020 5502.929 6195.962\n",
       "2005 Q2       5902.591 5580.391 6224.792 5409.828 6395.354\n",
       "2005 Q3       5955.737 5558.961 6352.512 5348.921 6562.553\n",
       "2005 Q4       6008.882 5548.242 6469.523 5304.394 6713.371\n",
       "2006 Q1       6062.028 5544.255 6579.801 5270.162 6853.893\n",
       "2006 Q2       6115.173 5544.972 6685.374 5243.126 6987.220\n",
       "2006 Q3       6168.319 5549.198 6787.439 5221.456 7115.182\n",
       "2006 Q4       6221.464 5556.159 6886.770 5203.967 7238.962"
      ]
     },
     "metadata": {},
     "output_type": "display_data"
    }
   ],
   "source": [
    "f3_1=rwf(cafe.train,drift=TRUE,h=8)\n",
    "f3_1"
   ]
  },
  {
   "cell_type": "markdown",
   "id": "95e6b637",
   "metadata": {},
   "source": [
    "#### Prognoza oparta o dryft z przekształceniem Boxa-Coxa"
   ]
  },
  {
   "cell_type": "code",
   "execution_count": 92,
   "id": "48ac25a9",
   "metadata": {},
   "outputs": [
    {
     "data": {
      "text/plain": [
       "        Point Forecast    Lo 80    Hi 80    Lo 95    Hi 95\n",
       "2005 Q1       5909.722 5463.515 6392.370 5241.112 6663.626\n",
       "2005 Q2       6025.363 5388.882 6737.019 5079.634 7147.167\n",
       "2005 Q3       6143.267 5354.178 7048.651 4978.357 7580.760\n",
       "2005 Q4       6263.478 5339.476 7347.380 4906.869 7995.151\n",
       "2006 Q1       6386.041 5337.249 7640.925 4853.692 8402.166\n",
       "2006 Q2       6511.003 5343.728 7933.256 4813.076 8807.915\n",
       "2006 Q3       6638.410 5356.722 8226.763 4781.681 9216.108\n",
       "2006 Q4       6768.310 5374.838 8523.052 4757.379 9629.257"
      ]
     },
     "metadata": {},
     "output_type": "display_data"
    }
   ],
   "source": [
    "f4_1=rwf(cafe.train,drift=TRUE,lambda=0,h=8)\n",
    "f4_1"
   ]
  },
  {
   "cell_type": "markdown",
   "id": "845da66a",
   "metadata": {},
   "source": [
    "#### Ocena jakości po podziale na zbiór uczący i testowy"
   ]
  },
  {
   "cell_type": "code",
   "execution_count": 93,
   "id": "f9e5ad1a",
   "metadata": {},
   "outputs": [
    {
     "data": {
      "image/png": "[encoded data removed]",
      "text/plain": [
       "Plot with title \"Forecasts from Random walk with drift\""
      ]
     },
     "metadata": {},
     "output_type": "display_data"
    }
   ],
   "source": [
    "y.zakres=c(0.9,1.1)*range(cafe,cafe.test)\n",
    "par(mfrow=c(4,1))\n",
    "plot(f1_1,ylim=y.zakres)\n",
    "lines(cafe.test,col=\"red\",lty=2)\n",
    "plot(f2_1,ylim=y.zakres)\n",
    "lines(cafe.test,col=\"red\",lty=2)\n",
    "plot(f3_1,ylim=y.zakres)\n",
    "lines(cafe.test,col=\"red\",lty=2)\n",
    "plot(f4_1,ylim=y.zakres)\n",
    "lines(cafe.test,col=\"red\",lty=2)"
   ]
  },
  {
   "cell_type": "markdown",
   "id": "c2e16a22",
   "metadata": {},
   "source": [
    "Wykresy prognoz potwierdzają\n",
    "poprzednie spostrzeżenia dotyczące\n",
    "przewagi metody z funkcją\n",
    "rwf() w stosunku do pozostałych\n",
    "metod."
   ]
  },
  {
   "cell_type": "markdown",
   "id": "db4c1fbd",
   "metadata": {},
   "source": [
    "### Accuracy dla podziału danych na zbiór uczący i testowy"
   ]
  },
  {
   "cell_type": "code",
   "execution_count": 94,
   "id": "63370d4e",
   "metadata": {},
   "outputs": [],
   "source": [
    "kryteria=c(\"MAE\",\"RMSE\",\"MAPE\",\"MASE\")"
   ]
  },
  {
   "cell_type": "code",
   "execution_count": 95,
   "id": "cc60bfac",
   "metadata": {},
   "outputs": [
    {
     "data": {
      "text/html": [
       "<table>\n",
       "<thead><tr><th></th><th scope=col>MAE</th><th scope=col>RMSE</th><th scope=col>MAPE</th><th scope=col>MASE</th></tr></thead>\n",
       "<tbody>\n",
       "\t<tr><th scope=row>Training set</th><td>1052.997 </td><td>1266.627 </td><td>48.80257 </td><td> 4.608626</td></tr>\n",
       "\t<tr><th scope=row>Test set</th><td>2862.916 </td><td>2891.329 </td><td>49.10080 </td><td>12.530056</td></tr>\n",
       "</tbody>\n",
       "</table>\n"
      ],
      "text/latex": [
       "\\begin{tabular}{r|llll}\n",
       "  & MAE & RMSE & MAPE & MASE\\\\\n",
       "\\hline\n",
       "\tTraining set & 1052.997  & 1266.627  & 48.80257  &  4.608626\\\\\n",
       "\tTest set & 2862.916  & 2891.329  & 49.10080  & 12.530056\\\\\n",
       "\\end{tabular}\n"
      ],
      "text/markdown": [
       "\n",
       "| <!--/--> | MAE | RMSE | MAPE | MASE |\n",
       "|---|---|---|---|---|\n",
       "| Training set | 1052.997  | 1266.627  | 48.80257  |  4.608626 |\n",
       "| Test set | 2862.916  | 2891.329  | 49.10080  | 12.530056 |\n",
       "\n"
      ],
      "text/plain": [
       "             MAE      RMSE     MAPE     MASE     \n",
       "Training set 1052.997 1266.627 48.80257  4.608626\n",
       "Test set     2862.916 2891.329 49.10080 12.530056"
      ]
     },
     "metadata": {},
     "output_type": "display_data"
    }
   ],
   "source": [
    "accuracy(f1_1,cafe.test)[,kryteria]"
   ]
  },
  {
   "cell_type": "code",
   "execution_count": 96,
   "id": "e70905a6",
   "metadata": {},
   "outputs": [
    {
     "data": {
      "text/html": [
       "<table>\n",
       "<thead><tr><th></th><th scope=col>MAE</th><th scope=col>RMSE</th><th scope=col>MAPE</th><th scope=col>MASE</th></tr></thead>\n",
       "<tbody>\n",
       "\t<tr><th scope=row>Training set</th><td>146.6722 </td><td>183.6694 </td><td>5.204718 </td><td>0.6419368</td></tr>\n",
       "\t<tr><th scope=row>Test set</th><td>356.1625 </td><td>404.3852 </td><td>6.139538 </td><td>1.5588078</td></tr>\n",
       "</tbody>\n",
       "</table>\n"
      ],
      "text/latex": [
       "\\begin{tabular}{r|llll}\n",
       "  & MAE & RMSE & MAPE & MASE\\\\\n",
       "\\hline\n",
       "\tTraining set & 146.6722  & 183.6694  & 5.204718  & 0.6419368\\\\\n",
       "\tTest set & 356.1625  & 404.3852  & 6.139538  & 1.5588078\\\\\n",
       "\\end{tabular}\n"
      ],
      "text/markdown": [
       "\n",
       "| <!--/--> | MAE | RMSE | MAPE | MASE |\n",
       "|---|---|---|---|---|\n",
       "| Training set | 146.6722  | 183.6694  | 5.204718  | 0.6419368 |\n",
       "| Test set | 356.1625  | 404.3852  | 6.139538  | 1.5588078 |\n",
       "\n"
      ],
      "text/plain": [
       "             MAE      RMSE     MAPE     MASE     \n",
       "Training set 146.6722 183.6694 5.204718 0.6419368\n",
       "Test set     356.1625 404.3852 6.139538 1.5588078"
      ]
     },
     "metadata": {},
     "output_type": "display_data"
    }
   ],
   "source": [
    "accuracy(f2_1,cafe.test)[,kryteria]"
   ]
  },
  {
   "cell_type": "code",
   "execution_count": 97,
   "id": "4828371d",
   "metadata": {},
   "outputs": [
    {
     "data": {
      "text/html": [
       "<table>\n",
       "<thead><tr><th></th><th scope=col>MAE</th><th scope=col>RMSE</th><th scope=col>MAPE</th><th scope=col>MASE</th></tr></thead>\n",
       "<tbody>\n",
       "\t<tr><th scope=row>Training set</th><td>141.4256 </td><td>175.8124 </td><td>5.069347 </td><td>0.6189738</td></tr>\n",
       "\t<tr><th scope=row>Test set</th><td>329.9558 </td><td>379.7879 </td><td>5.896056 </td><td>1.4441097</td></tr>\n",
       "</tbody>\n",
       "</table>\n"
      ],
      "text/latex": [
       "\\begin{tabular}{r|llll}\n",
       "  & MAE & RMSE & MAPE & MASE\\\\\n",
       "\\hline\n",
       "\tTraining set & 141.4256  & 175.8124  & 5.069347  & 0.6189738\\\\\n",
       "\tTest set & 329.9558  & 379.7879  & 5.896056  & 1.4441097\\\\\n",
       "\\end{tabular}\n"
      ],
      "text/markdown": [
       "\n",
       "| <!--/--> | MAE | RMSE | MAPE | MASE |\n",
       "|---|---|---|---|---|\n",
       "| Training set | 141.4256  | 175.8124  | 5.069347  | 0.6189738 |\n",
       "| Test set | 329.9558  | 379.7879  | 5.896056  | 1.4441097 |\n",
       "\n"
      ],
      "text/plain": [
       "             MAE      RMSE     MAPE     MASE     \n",
       "Training set 141.4256 175.8124 5.069347 0.6189738\n",
       "Test set     329.9558 379.7879 5.896056 1.4441097"
      ]
     },
     "metadata": {},
     "output_type": "display_data"
    }
   ],
   "source": [
    "accuracy(f3_1,cafe.test)[,kryteria]"
   ]
  },
  {
   "cell_type": "code",
   "execution_count": 98,
   "id": "79c882ed",
   "metadata": {},
   "outputs": [
    {
     "data": {
      "text/html": [
       "<table>\n",
       "<thead><tr><th></th><th scope=col>MAE</th><th scope=col>RMSE</th><th scope=col>MAPE</th><th scope=col>MASE</th></tr></thead>\n",
       "<tbody>\n",
       "\t<tr><th scope=row>Training set</th><td>141.0985 </td><td>176.452  </td><td>5.057414 </td><td>0.6175423</td></tr>\n",
       "\t<tr><th scope=row>Test set</th><td>528.8117 </td><td>563.343  </td><td>9.335455 </td><td>2.3144375</td></tr>\n",
       "</tbody>\n",
       "</table>\n"
      ],
      "text/latex": [
       "\\begin{tabular}{r|llll}\n",
       "  & MAE & RMSE & MAPE & MASE\\\\\n",
       "\\hline\n",
       "\tTraining set & 141.0985  & 176.452   & 5.057414  & 0.6175423\\\\\n",
       "\tTest set & 528.8117  & 563.343   & 9.335455  & 2.3144375\\\\\n",
       "\\end{tabular}\n"
      ],
      "text/markdown": [
       "\n",
       "| <!--/--> | MAE | RMSE | MAPE | MASE |\n",
       "|---|---|---|---|---|\n",
       "| Training set | 141.0985  | 176.452   | 5.057414  | 0.6175423 |\n",
       "| Test set | 528.8117  | 563.343   | 9.335455  | 2.3144375 |\n",
       "\n"
      ],
      "text/plain": [
       "             MAE      RMSE    MAPE     MASE     \n",
       "Training set 141.0985 176.452 5.057414 0.6175423\n",
       "Test set     528.8117 563.343 9.335455 2.3144375"
      ]
     },
     "metadata": {},
     "output_type": "display_data"
    }
   ],
   "source": [
    "accuracy(f4_1,cafe.test)[,kryteria]"
   ]
  },
  {
   "cell_type": "markdown",
   "id": "733272c6",
   "metadata": {},
   "source": [
    "Widzimy, że błędy na zbiorze testowym są wyraźnie\n",
    "większe niż błędy na zbiorze uczącym."
   ]
  },
  {
   "cell_type": "markdown",
   "id": "9f263bdb",
   "metadata": {},
   "source": [
    "Potwierdza to wcześniejsze\n",
    "uwagi tego, że ocena dokładności prognoz wyłącznie na podstawie\n",
    "danych uczących może prowadzić do zbyt optymistycznych wniosków. "
   ]
  },
  {
   "cell_type": "markdown",
   "id": "003d164b",
   "metadata": {},
   "source": [
    "W szczególności, błędy wyznaczone na zbiorze testowym (w\n",
    "przeciwieństwie do błędów prognoz na zbiorze uczącym) wskazują\n",
    "jako dokładniejszą metodę uwzględniającą dryf (funkcja rwf())\n",
    "bez zastosowania przekształcenia logarytmicznego."
   ]
  },
  {
   "cell_type": "markdown",
   "id": "477a1d6f",
   "metadata": {},
   "source": [
    "#### Analiza własności reszt "
   ]
  },
  {
   "cell_type": "markdown",
   "id": "7a1433b4",
   "metadata": {},
   "source": [
    "Policzmy je dla trzech prognoz szeregu czasowego cafe"
   ]
  },
  {
   "cell_type": "markdown",
   "id": "640f6678",
   "metadata": {},
   "source": [
    "#### Reszty dla prognozy metodą ruchomej średniej"
   ]
  },
  {
   "cell_type": "code",
   "execution_count": 99,
   "id": "2495cd40",
   "metadata": {},
   "outputs": [
    {
     "name": "stdout",
     "output_type": "stream",
     "text": [
      "             Qtr1         Qtr2         Qtr3         Qtr4\n",
      "1982              -1925.771429 -1927.071429 -1772.771429\n",
      "1983 -1856.471429 -1880.271429 -1820.871429 -1715.271429\n",
      "1984 -1775.271429 -1760.171429 -1742.271429 -1589.871429\n",
      "1985 -1705.471429 -1666.171429 -1569.271429 -1375.871429\n",
      "1986 -1501.471429 -1426.171429 -1336.871429 -1141.571429\n",
      "1987 -1298.671429 -1273.471429 -1163.971429  -953.971429\n",
      "1988 -1122.571429 -1061.071429  -963.871429  -824.071429\n",
      "1989  -832.271429  -813.371429  -685.271429  -395.071429\n",
      "1990  -476.771429  -526.471429  -483.571429  -308.771429\n",
      "1991  -492.871429  -519.671429  -374.071429     2.028571\n",
      "1992  -203.071429  -209.071429  -258.071429   -25.671429\n",
      "1993  -313.271429  -397.171429  -284.871429    54.728571\n",
      "1994   -37.671429  -123.671429   132.528571   381.328571\n",
      "1995   217.828571   257.128571   391.228571   736.528571\n",
      "1996   582.128571   485.028571   449.728571   563.428571\n",
      "1997   448.628571   486.128571   553.028571   756.228571\n",
      "1998   438.028571   400.128571   517.528571   830.628571\n",
      "1999   674.828571   776.428571   775.128571  1149.028571\n",
      "2000   889.728571   870.328571  1140.128571  1476.728571\n",
      "2001  1391.028571  1346.028571  1480.228571  1643.828571\n",
      "2002  1351.828571  1428.228571  1635.028571  1923.528571\n",
      "2003  1677.428571  1861.728571  2207.628571  2826.128571\n",
      "2004  2594.828571  2539.428571  2710.828571  2857.328571\n"
     ]
    }
   ],
   "source": [
    "reszty.1=residuals(f1_1)\n",
    "print(reszty.1)"
   ]
  },
  {
   "cell_type": "markdown",
   "id": "26598618",
   "metadata": {},
   "source": [
    "#### Reszty dla prognozy metodą naiwną"
   ]
  },
  {
   "cell_type": "code",
   "execution_count": 100,
   "id": "733968b8",
   "metadata": {},
   "outputs": [
    {
     "name": "stdout",
     "output_type": "stream",
     "text": [
      "       Qtr1   Qtr2   Qtr3   Qtr4\n",
      "1982            NA   -1.3  154.3\n",
      "1983  -83.7  -23.8   59.4  105.6\n",
      "1984  -60.0   15.1   17.9  152.4\n",
      "1985 -115.6   39.3   96.9  193.4\n",
      "1986 -125.6   75.3   89.3  195.3\n",
      "1987 -157.1   25.2  109.5  210.0\n",
      "1988 -168.6   61.5   97.2  139.8\n",
      "1989   -8.2   18.9  128.1  290.2\n",
      "1990  -81.7  -49.7   42.9  174.8\n",
      "1991 -184.1  -26.8  145.6  376.1\n",
      "1992 -205.1   -6.0  -49.0  232.4\n",
      "1993 -287.6  -83.9  112.3  339.6\n",
      "1994  -92.4  -86.0  256.2  248.8\n",
      "1995 -163.5   39.3  134.1  345.3\n",
      "1996 -154.4  -97.1  -35.3  113.7\n",
      "1997 -114.8   37.5   66.9  203.2\n",
      "1998 -318.2  -37.9  117.4  313.1\n",
      "1999 -155.8  101.6   -1.3  373.9\n",
      "2000 -259.3  -19.4  269.8  336.6\n",
      "2001  -85.7  -45.0  134.2  163.6\n",
      "2002 -292.0   76.4  206.8  288.5\n",
      "2003 -246.1  184.3  345.9  618.5\n",
      "2004 -231.3  -55.4  171.4  146.5\n"
     ]
    }
   ],
   "source": [
    "reszty.2=residuals(f2_1)\n",
    "print(reszty.2)"
   ]
  },
  {
   "cell_type": "markdown",
   "id": "7cb7c580",
   "metadata": {},
   "source": [
    "#### Reszty dla prognozy uzwględniającej dryft"
   ]
  },
  {
   "cell_type": "code",
   "execution_count": 101,
   "id": "d152ca78",
   "metadata": {},
   "outputs": [
    {
     "name": "stdout",
     "output_type": "stream",
     "text": [
      "            Qtr1        Qtr2        Qtr3        Qtr4\n",
      "1982                      NA  -54.445556  101.154444\n",
      "1983 -136.845556  -76.945556    6.254444   52.454444\n",
      "1984 -113.145556  -38.045556  -35.245556   99.254444\n",
      "1985 -168.745556  -13.845556   43.754444  140.254444\n",
      "1986 -178.745556   22.154444   36.154444  142.154444\n",
      "1987 -210.245556  -27.945556   56.354444  156.854444\n",
      "1988 -221.745556    8.354444   44.054444   86.654444\n",
      "1989  -61.345556  -34.245556   74.954444  237.054444\n",
      "1990 -134.845556 -102.845556  -10.245556  121.654444\n",
      "1991 -237.245556  -79.945556   92.454444  322.954444\n",
      "1992 -258.245556  -59.145556 -102.145556  179.254444\n",
      "1993 -340.745556 -137.045556   59.154444  286.454444\n",
      "1994 -145.545556 -139.145556  203.054444  195.654444\n",
      "1995 -216.645556  -13.845556   80.954444  292.154444\n",
      "1996 -207.545556 -150.245556  -88.445556   60.554444\n",
      "1997 -167.945556  -15.645556   13.754444  150.054444\n",
      "1998 -371.345556  -91.045556   64.254444  259.954444\n",
      "1999 -208.945556   48.454444  -54.445556  320.754444\n",
      "2000 -312.445556  -72.545556  216.654444  283.454444\n",
      "2001 -138.845556  -98.145556   81.054444  110.454444\n",
      "2002 -345.145556   23.254444  153.654444  235.354444\n",
      "2003 -299.245556  131.154444  292.754444  565.354444\n",
      "2004 -284.445556 -108.545556  118.254444   93.354444\n"
     ]
    }
   ],
   "source": [
    "reszty.3=residuals(f3_1)\n",
    "print(reszty.3)"
   ]
  },
  {
   "cell_type": "markdown",
   "id": "adf583df",
   "metadata": {},
   "source": [
    "Narysujmy je na wykresach"
   ]
  },
  {
   "cell_type": "code",
   "execution_count": 102,
   "id": "edb23b9a",
   "metadata": {},
   "outputs": [
    {
     "data": {
      "image/png": "[encoded data removed]",
      "text/plain": [
       "Plot with title \"Reszty dla metody 3\""
      ]
     },
     "metadata": {},
     "output_type": "display_data"
    }
   ],
   "source": [
    "par(mfrow=c(3,1))\n",
    "plot(reszty.1,main=\"Reszty dla metody 1\")\n",
    "plot(reszty.2,main=\"Reszty dla metody 2\")\n",
    "plot(reszty.3,main=\"Reszty dla metody 3\")"
   ]
  },
  {
   "cell_type": "markdown",
   "id": "da691285",
   "metadata": {},
   "source": [
    "Porównując wykresy reszt widzimy\n",
    "wyraźnie pozostałość trendu\n",
    "w przypadku pierwszej metody\n",
    "(funkcja meanf())."
   ]
  },
  {
   "cell_type": "markdown",
   "id": "f8701639",
   "metadata": {},
   "source": [
    "Reszty dla\n",
    "dwóch pozostałych metod wyglądają\n",
    "podobnie."
   ]
  },
  {
   "cell_type": "markdown",
   "id": "847a0863",
   "metadata": {},
   "source": [
    "Narysujmy wykresy ACF i histogramy również dla tych trzech metod"
   ]
  },
  {
   "cell_type": "code",
   "execution_count": 103,
   "id": "5948050a",
   "metadata": {},
   "outputs": [
    {
     "data": {
      "image/png": "[encoded data removed]",
      "text/plain": [
       "Plot with title \"Reszty dla metody 3\""
      ]
     },
     "metadata": {},
     "output_type": "display_data"
    }
   ],
   "source": [
    "par(mfrow=c(3,2))\n",
    "Acf(reszty.1,lag.max=30,main=\"Reszty dla metody 1\")\n",
    "hist(reszty.1,main=\"Reszty dla metody 1\")\n",
    "Acf(reszty.2,lag.max=30,main=\"Reszty dla metody 2\")\n",
    "hist(reszty.2,main=\"Reszty dla metody 2\")\n",
    "Acf(reszty.3,lag.max=30,main=\"Reszty dla metody 3\")\n",
    "hist(reszty.3,main=\"Reszty dla metody 3\")"
   ]
  },
  {
   "cell_type": "markdown",
   "id": "41dab935",
   "metadata": {},
   "source": [
    "Analiza wykresów ACF oraz histogramów\n",
    "potwierdza wcześniejsze\n",
    "wnioski o nieadekwatności metody\n",
    "pierwszej."
   ]
  },
  {
   "cell_type": "markdown",
   "id": "0c4a431e",
   "metadata": {},
   "source": [
    "Na wykresie\n",
    "histogramu dla metody drugiej\n",
    "widać wyraźne przesunięcie rozkładu\n",
    "reszt w kierunku wartości\n",
    "dodatnich."
   ]
  },
  {
   "cell_type": "markdown",
   "id": "a3edd531",
   "metadata": {},
   "source": [
    "Porównując ACF reszt\n",
    "dla metod drugiej i trzeciej, nie widzimy istotnych różnic w strukturze\n",
    "zależności. "
   ]
  },
  {
   "cell_type": "markdown",
   "id": "d91e6f39",
   "metadata": {},
   "source": [
    "Dla żadnej z metod nie możemy jednak uznać\n",
    "szeregu reszt za biały szum."
   ]
  },
  {
   "cell_type": "markdown",
   "id": "83d05e5d",
   "metadata": {},
   "source": [
    "#### Badanie losowości reszt testem Ljunga-Boxa"
   ]
  },
  {
   "cell_type": "code",
   "execution_count": 104,
   "id": "a9139152",
   "metadata": {},
   "outputs": [
    {
     "data": {
      "text/plain": [
       "\n",
       "\tBox-Ljung test\n",
       "\n",
       "data:  reszty.1\n",
       "X-squared = 588.2, df = 10, p-value < 2.2e-16\n"
      ]
     },
     "metadata": {},
     "output_type": "display_data"
    }
   ],
   "source": [
    "Box.test(reszty.1,lag=10,type=\"Ljung-Box\")"
   ]
  },
  {
   "cell_type": "code",
   "execution_count": 105,
   "id": "f05ad00e",
   "metadata": {},
   "outputs": [
    {
     "data": {
      "text/plain": [
       "\n",
       "\tBox-Ljung test\n",
       "\n",
       "data:  reszty.2\n",
       "X-squared = 149.18, df = 10, p-value < 2.2e-16\n"
      ]
     },
     "metadata": {},
     "output_type": "display_data"
    }
   ],
   "source": [
    "Box.test(reszty.2,lag=10,type=\"Ljung-Box\")"
   ]
  },
  {
   "cell_type": "code",
   "execution_count": 106,
   "id": "d6ed01f0",
   "metadata": {},
   "outputs": [
    {
     "data": {
      "text/plain": [
       "\n",
       "\tBox-Ljung test\n",
       "\n",
       "data:  reszty.3\n",
       "X-squared = 149.18, df = 10, p-value < 2.2e-16\n"
      ]
     },
     "metadata": {},
     "output_type": "display_data"
    }
   ],
   "source": [
    "Box.test(reszty.3,lag=10,type=\"Ljung-Box\")"
   ]
  },
  {
   "cell_type": "markdown",
   "id": "8d6474e8",
   "metadata": {},
   "source": [
    "We wszystkich trzech przypadkach test odrzucił hipotezę o losowości\n",
    "reszt (p-value < 0.05)."
   ]
  },
  {
   "cell_type": "markdown",
   "id": "17a87432",
   "metadata": {},
   "source": [
    "Uzyskane wyniki wykazują więc na pozostałości korelacji\n",
    "czasowej w błędach prognozy."
   ]
  },
  {
   "cell_type": "markdown",
   "id": "ea84babb",
   "metadata": {},
   "source": [
    "Musimy zastosować bardziej zaawansowane metody prognozowania."
   ]
  },
  {
   "cell_type": "markdown",
   "id": "ca048993",
   "metadata": {},
   "source": [
    "Skonstruujmy jeszcze raz model ARIMA, który otrzymaliśmy przy pomocy funkcji auto.arima()"
   ]
  },
  {
   "cell_type": "code",
   "execution_count": 107,
   "id": "ace28180",
   "metadata": {},
   "outputs": [],
   "source": [
    "ARIMA.model=Arima(cafe,order=c(0,1,0),seasonal=list(order=c(0,1,2),period=4))  "
   ]
  },
  {
   "cell_type": "markdown",
   "id": "314fa14e",
   "metadata": {},
   "source": [
    "Sprognozujmy 8 kwartałów"
   ]
  },
  {
   "cell_type": "code",
   "execution_count": 108,
   "id": "d15c7f54",
   "metadata": {},
   "outputs": [
    {
     "data": {
      "text/plain": [
       "        Point Forecast    Lo 80    Hi 80    Lo 95     Hi 95\n",
       "2011 Q1       7987.100 7826.295 8147.905 7741.170  8233.030\n",
       "2011 Q2       8162.595 7935.183 8390.008 7814.798  8510.393\n",
       "2011 Q3       8375.471 8096.949 8653.993 7949.508  8801.434\n",
       "2011 Q4       8939.005 8617.395 9260.614 8447.145  9430.864\n",
       "2012 Q1       8449.318 8087.139 8811.497 7895.413  9003.223\n",
       "2012 Q2       8631.495 8232.855 9030.136 8021.827  9241.163\n",
       "2012 Q3       9014.738 8582.702 9446.774 8353.996  9675.480\n",
       "2012 Q4       9467.361 9004.332 9930.390 8759.219 10175.503"
      ]
     },
     "metadata": {},
     "output_type": "display_data"
    }
   ],
   "source": [
    "ARIMA.model.prog=forecast(ARIMA.model,h=8)\n",
    "ARIMA.model.prog"
   ]
  },
  {
   "cell_type": "markdown",
   "id": "8750caed",
   "metadata": {},
   "source": [
    "Widzimy tu po kolei: prognozy punktowe, przedziały predykcyjne\n",
    "na poziomie ufności 0.80 oraz 0.95."
   ]
  },
  {
   "cell_type": "markdown",
   "id": "7fffd75b",
   "metadata": {},
   "source": [
    "Możemy także osobno wyświetlić:"
   ]
  },
  {
   "cell_type": "markdown",
   "id": "10a5a3e3",
   "metadata": {},
   "source": [
    "Prognozy punktowe"
   ]
  },
  {
   "cell_type": "code",
   "execution_count": 109,
   "id": "11950bbb",
   "metadata": {},
   "outputs": [
    {
     "name": "stdout",
     "output_type": "stream",
     "text": [
      "         Qtr1     Qtr2     Qtr3     Qtr4\n",
      "2011 7987.100 8162.595 8375.471 8939.005\n",
      "2012 8449.318 8631.495 9014.738 9467.361\n"
     ]
    }
   ],
   "source": [
    "print(ARIMA.model.prog$mean)"
   ]
  },
  {
   "cell_type": "markdown",
   "id": "7d2958d0",
   "metadata": {},
   "source": [
    "Dolne\n",
    "i górne końce przedziałów predykcyjnych"
   ]
  },
  {
   "cell_type": "code",
   "execution_count": 110,
   "id": "ff3701ae",
   "metadata": {},
   "outputs": [
    {
     "name": "stdout",
     "output_type": "stream",
     "text": [
      "             80%      95%\n",
      "2011 Q1 7826.295 7741.170\n",
      "2011 Q2 7935.183 7814.798\n",
      "2011 Q3 8096.949 7949.508\n",
      "2011 Q4 8617.395 8447.145\n",
      "2012 Q1 8087.139 7895.413\n",
      "2012 Q2 8232.855 8021.827\n",
      "2012 Q3 8582.702 8353.996\n",
      "2012 Q4 9004.332 8759.219\n"
     ]
    }
   ],
   "source": [
    "print(ARIMA.model.prog$lower)"
   ]
  },
  {
   "cell_type": "code",
   "execution_count": 111,
   "id": "0cd152ad",
   "metadata": {},
   "outputs": [
    {
     "name": "stdout",
     "output_type": "stream",
     "text": [
      "             80%       95%\n",
      "2011 Q1 8147.905  8233.030\n",
      "2011 Q2 8390.008  8510.393\n",
      "2011 Q3 8653.993  8801.434\n",
      "2011 Q4 9260.614  9430.864\n",
      "2012 Q1 8811.497  9003.223\n",
      "2012 Q2 9030.136  9241.163\n",
      "2012 Q3 9446.774  9675.480\n",
      "2012 Q4 9930.390 10175.503\n"
     ]
    }
   ],
   "source": [
    "print(ARIMA.model.prog$upper)"
   ]
  },
  {
   "cell_type": "markdown",
   "id": "9fc69859",
   "metadata": {},
   "source": [
    "Dopasowany model"
   ]
  },
  {
   "cell_type": "code",
   "execution_count": 112,
   "id": "e7383b47",
   "metadata": {},
   "outputs": [
    {
     "name": "stdout",
     "output_type": "stream",
     "text": [
      "Series: cafe \n",
      "ARIMA(0,1,0)(0,1,2)[4] \n",
      "\n",
      "Coefficients:\n",
      "         sma1    sma2\n",
      "      -0.9642  0.3096\n",
      "s.e.   0.1139  0.1052\n",
      "\n",
      "sigma^2 estimated as 15744:  log likelihood=-688.57\n",
      "AIC=1383.14   AICc=1383.37   BIC=1391.25\n"
     ]
    }
   ],
   "source": [
    "print(ARIMA.model.prog$model)"
   ]
  },
  {
   "cell_type": "markdown",
   "id": "d3fdc3a3",
   "metadata": {},
   "source": [
    "Wartości dopasowane"
   ]
  },
  {
   "cell_type": "code",
   "execution_count": 113,
   "id": "60856f07",
   "metadata": {},
   "outputs": [
    {
     "name": "stdout",
     "output_type": "stream",
     "text": [
      "         Qtr1     Qtr2     Qtr3     Qtr4\n",
      "1982          1012.615 1011.639 1165.899\n",
      "1983 1082.767 1060.848 1075.453 1257.920\n",
      "1984 1147.052 1151.473 1199.989 1334.328\n",
      "1985 1270.188 1229.264 1304.873 1502.086\n",
      "1986 1485.117 1442.766 1546.177 1740.702\n",
      "1987 1707.469 1659.846 1720.330 1933.930\n",
      "1988 1878.425 1857.265 1951.922 2153.320\n",
      "1989 1985.433 2150.038 2217.382 2446.365\n",
      "1990 2399.600 2511.030 2512.754 2639.664\n",
      "1991 2525.678 2483.830 2528.747 2779.025\n",
      "1992 2853.009 2740.817 2822.881 2897.887\n",
      "1993 2796.482 2610.247 2640.898 2921.791\n",
      "1994 2834.514 2880.019 2870.907 3346.536\n",
      "1995 3110.621 3112.010 3262.969 3626.563\n",
      "1996 3488.152 3459.278 3555.385 3678.690\n",
      "1997 3330.530 3350.554 3571.342 3790.838\n",
      "1998 3535.573 3331.696 3430.891 3697.331\n",
      "1999 3621.973 3591.844 3783.540 3927.902\n",
      "2000 3890.980 3813.455 3882.886 4321.005\n",
      "2001 4213.922 4352.865 4344.102 4714.065\n",
      "2002 4365.889 4309.951 4489.744 4893.492\n",
      "2003 4678.846 4616.585 4949.511 5424.338\n",
      "2004 5555.962 5558.296 5660.348 5930.129\n",
      "2005 5567.034 5318.848 5609.398 5909.257\n",
      "2006 5848.083 5703.324 6151.628 6447.393\n",
      "2007 6163.815 6306.049 6622.779 7022.482\n",
      "2008 6587.063 6557.091 6608.383 6929.268\n",
      "2009 6622.191 6866.611 7179.175 7717.745\n",
      "2010 7613.102 7586.722 7766.594 8784.690\n"
     ]
    }
   ],
   "source": [
    "print(ARIMA.model.prog$fitted)"
   ]
  },
  {
   "cell_type": "markdown",
   "id": "be042ae6",
   "metadata": {},
   "source": [
    "Wartości resztowe"
   ]
  },
  {
   "cell_type": "code",
   "execution_count": 114,
   "id": "f4bceec8",
   "metadata": {},
   "outputs": [
    {
     "name": "stdout",
     "output_type": "stream",
     "text": [
      "             Qtr1         Qtr2         Qtr3         Qtr4\n",
      "1982                 0.5849711    0.2605998    0.3010095\n",
      "1983   -0.2667800   -2.1477385   42.6472677  -34.2201136\n",
      "1984   16.6484924   27.3268342   -3.2886535   14.7717980\n",
      "1985  -36.6876564   43.5361731   64.8271507   61.0140763\n",
      "1986  -47.6172595   70.0342311   55.9228451   56.6978572\n",
      "1987  -67.1686575    5.6538581   54.6697508   51.0700948\n",
      "1988  -62.0246000   20.6345225   23.1780370  -38.4202208\n",
      "1989  121.2671227  -24.4375358   36.3184090   97.5352677\n",
      "1990   62.6003795  -98.5300011  -57.3536159   -9.4641717\n",
      "1991  -79.5778671  -64.5295110   36.1533101  161.9748697\n",
      "1992 -117.1091431  -10.9172689 -141.9812994   15.4129794\n",
      "1993 -170.7820747  -68.4471601   13.2018230   71.9086443\n",
      "1994   66.7864349  -64.7189935  200.5928805  -26.2355230\n",
      "1995   46.1790644   84.0895958   67.2311302   48.9368037\n",
      "1996   32.9476468  -35.2780145 -166.6852743 -176.2897089\n",
      "1997   57.0703397   74.5459636  -79.3416342  -95.6378877\n",
      "1998 -158.5726637    7.4035073   25.6086733   72.2691660\n",
      "1999   -8.1729538  123.5561613  -69.4396649  160.0980986\n",
      "2000  -62.2798811   -4.1550606  196.2142065   94.6948714\n",
      "2001  116.0781481  -67.8646576   75.0983734 -131.2648562\n",
      "2002  -75.0887206   57.2489929   84.2564130  -30.9919071\n",
      "2003  -62.4459831  184.1153351  197.0894979  340.7616007\n",
      "2004  -22.1620713  -79.8959506  -10.5484233 -133.8287802\n",
      "2005 -326.8335722   47.9515284  -81.1983930  186.6432310\n",
      "2006 -200.3825920  211.8757746  -50.5282287   72.6072727\n",
      "2007   64.1852156  107.2505692   -6.9787237  -19.4820200\n",
      "2008 -177.4633661 -142.2907437 -107.5834714   95.3324502\n",
      "2009   68.8088728  124.9887549  112.7249827  350.2554955\n",
      "2010 -162.4018250   21.5779488  550.2059358 -358.1897653\n"
     ]
    }
   ],
   "source": [
    "print(ARIMA.model.prog$residuals)"
   ]
  },
  {
   "cell_type": "markdown",
   "id": "ccec6066",
   "metadata": {},
   "source": [
    "Porównajmy wyniki na wykresie."
   ]
  },
  {
   "cell_type": "code",
   "execution_count": 115,
   "id": "d917fc8a",
   "metadata": {},
   "outputs": [
    {
     "data": {
      "image/png": "[encoded data removed]",
      "text/plain": [
       "Plot with title \"Forecasts from ARIMA(0,1,0)(0,1,2)[4]\""
      ]
     },
     "metadata": {},
     "output_type": "display_data"
    }
   ],
   "source": [
    "plot(ARIMA.model.prog)"
   ]
  },
  {
   "cell_type": "markdown",
   "id": "e5c3d63f",
   "metadata": {},
   "source": [
    "Patrząc na wykres widzimy, że prognozy znajdują się w węższym przedziale ufności niż w przypadku poprzednich prognoz. "
   ]
  },
  {
   "cell_type": "markdown",
   "id": "b3515a4e",
   "metadata": {},
   "source": [
    "Zatem możemy przypuszczać, że ta prognoza jest lepsza."
   ]
  },
  {
   "cell_type": "markdown",
   "id": "9d1973e4",
   "metadata": {},
   "source": [
    "Sprawdźmy jeszcze jakość."
   ]
  },
  {
   "cell_type": "code",
   "execution_count": 116,
   "id": "11aeaa30",
   "metadata": {},
   "outputs": [
    {
     "data": {
      "text/html": [
       "<dl class=dl-horizontal>\n",
       "\t<dt>MAE</dt>\n",
       "\t\t<dd>86.8055300183157</dd>\n",
       "\t<dt>RMSE</dt>\n",
       "\t\t<dd>121.597844474163</dd>\n",
       "\t<dt>MAPE</dt>\n",
       "\t\t<dd>2.34347600298099</dd>\n",
       "\t<dt>MASE</dt>\n",
       "\t\t<dd>0.315856178748006</dd>\n",
       "</dl>\n"
      ],
      "text/latex": [
       "\\begin{description*}\n",
       "\\item[MAE] 86.8055300183157\n",
       "\\item[RMSE] 121.597844474163\n",
       "\\item[MAPE] 2.34347600298099\n",
       "\\item[MASE] 0.315856178748006\n",
       "\\end{description*}\n"
      ],
      "text/markdown": [
       "MAE\n",
       ":   86.8055300183157RMSE\n",
       ":   121.597844474163MAPE\n",
       ":   2.34347600298099MASE\n",
       ":   0.315856178748006\n",
       "\n"
      ],
      "text/plain": [
       "        MAE        RMSE        MAPE        MASE \n",
       " 86.8055300 121.5978445   2.3434760   0.3158562 "
      ]
     },
     "metadata": {},
     "output_type": "display_data"
    }
   ],
   "source": [
    "kryteria=c(\"MAE\",\"RMSE\",\"MAPE\",\"MASE\")\n",
    "accuracy(ARIMA.model.prog)[,kryteria]"
   ]
  },
  {
   "cell_type": "markdown",
   "id": "e3fa6bb9",
   "metadata": {},
   "source": [
    "Prognozy okazały się bardzo dobre. MAE i RMSE mają niskie wartości."
   ]
  },
  {
   "cell_type": "markdown",
   "id": "7b42df3a",
   "metadata": {},
   "source": [
    "#### Automatyzacja konstrukcji prognoz"
   ]
  },
  {
   "cell_type": "markdown",
   "id": "abb9ae49",
   "metadata": {},
   "source": [
    "Narysujmy jeszcze raz wykres szeregu czasowego."
   ]
  },
  {
   "cell_type": "code",
   "execution_count": 117,
   "id": "612b0fec",
   "metadata": {},
   "outputs": [
    {
     "data": {
      "image/png": "[encoded data removed]",
      "text/plain": [
       "plot without title"
      ]
     },
     "metadata": {},
     "output_type": "display_data"
    }
   ],
   "source": [
    "plot(cafe)"
   ]
  },
  {
   "cell_type": "markdown",
   "id": "31eb157a",
   "metadata": {},
   "source": [
    "Zastosujmy przekształcenie logarytmiczne dla szeregu cafe."
   ]
  },
  {
   "cell_type": "code",
   "execution_count": 118,
   "id": "84c7a5d6",
   "metadata": {},
   "outputs": [],
   "source": [
    "cafe.ARIMA=auto.arima(cafe,lambda=0)"
   ]
  },
  {
   "cell_type": "code",
   "execution_count": 119,
   "id": "fe70be89",
   "metadata": {},
   "outputs": [
    {
     "data": {
      "text/plain": [
       "Series: cafe \n",
       "ARIMA(1,0,0)(0,1,1)[4] with drift \n",
       "Box Cox transformation: lambda= 0 \n",
       "\n",
       "Coefficients:\n",
       "         ar1     sma1   drift\n",
       "      0.9489  -0.8224  0.0178\n",
       "s.e.  0.0331   0.0676  0.0023\n",
       "\n",
       "sigma^2 estimated as 0.0008152:  log likelihood=236.55\n",
       "AIC=-465.09   AICc=-464.72   BIC=-454.26"
      ]
     },
     "metadata": {},
     "output_type": "display_data"
    }
   ],
   "source": [
    "cafe.ARIMA"
   ]
  },
  {
   "cell_type": "markdown",
   "id": "865383f4",
   "metadata": {},
   "source": [
    "Otrzymaliśmy model ARIMA(1,0,0) x (0,1,1)_4."
   ]
  },
  {
   "cell_type": "markdown",
   "id": "53cdb6fd",
   "metadata": {},
   "source": [
    "Wyznaczmy prognozy."
   ]
  },
  {
   "cell_type": "code",
   "execution_count": 120,
   "id": "8f1fd41c",
   "metadata": {},
   "outputs": [
    {
     "data": {
      "text/plain": [
       "        Point Forecast    Lo 51     Hi 51    Lo 54     Hi 54    Lo 57     Hi 57\n",
       "2011 Q1       7910.442 7756.054  8067.903 7745.313  8079.091 7734.187  8090.713\n",
       "2011 Q2       8085.748 7869.007  8308.459 7853.988  8324.348 7838.440  8340.860\n",
       "2011 Q3       8460.492 8190.328  8739.568 8171.659  8759.534 8152.341  8780.291\n",
       "2011 Q4       9052.592 8727.585  9389.702 8705.176  9413.873 8681.994  9439.008\n",
       "2012 Q1       8497.984 8153.120  8857.435 8129.404  8883.275 8104.879  8910.155\n",
       "2012 Q2       8686.111 8300.868  9089.233 8274.432  9118.272 8247.101  9148.490\n",
       "2012 Q3       9088.481 8657.012  9541.454 8627.456  9574.141 8596.907  9608.163\n",
       "2012 Q4       9724.328 9237.059 10237.300 9203.731 10274.371 9169.289 10312.964\n",
       "           Lo 60     Hi 60    Lo 63     Hi 63    Lo 66     Hi 66    Lo 69\n",
       "2011 Q1 7722.618  8102.834 7710.532  8115.534 7697.842  8128.913 7684.434\n",
       "2011 Q2 7822.280  8358.090 7805.410  8376.155 7787.705  8395.197 7769.012\n",
       "2011 Q3 8132.271  8801.960 8111.327  8824.688 8089.357  8848.655 8066.170\n",
       "2011 Q4 8657.918  9465.257 8632.801  9492.796 8606.463  9521.847 8578.675\n",
       "2012 Q1 8079.417  8938.235 8052.864  8967.708 8025.031  8998.811 7995.679\n",
       "2012 Q2 8218.734  9180.066 8189.161  9213.217 8158.172  9248.214 8125.503\n",
       "2012 Q3 8565.207  9643.722 8532.168  9681.066 8497.556  9720.498 8461.079\n",
       "2012 Q4 9133.558 10353.308 9096.326 10395.686 9057.329 10440.446 9016.240\n",
       "            Hi 69    Lo 72     Hi 72    Lo 75     Hi 75    Lo 78     Hi 78\n",
       "2011 Q1  8143.097 7670.164  8158.246 7654.843  8174.575 7638.211  8192.375\n",
       "2011 Q2  8415.397 7749.131  8436.988 7727.801  8460.276 7704.664  8485.682\n",
       "2011 Q3  8874.091 8041.522  8901.291 8015.090  8930.645 7986.437  8962.687\n",
       "2011 Q4  9552.689 8549.148  9585.683 8517.496  9621.304 8483.199  9660.203\n",
       "2012 Q1  9031.845 7964.502  9067.199 7931.099  9105.387 7894.923  9147.111\n",
       "2012 Q2  9285.397 8090.816  9325.205 8053.667  9368.220 8013.449  9415.238\n",
       "2012 Q3  9762.405 8422.359  9807.285 8380.904  9855.796 8336.041  9908.839\n",
       "2012 Q4 10488.025 8972.637 10538.992 8925.965 10594.098 8875.471 10654.369\n",
       "           Lo 81     Hi 81    Lo 84     Hi 84    Lo 87     Hi 87    Lo 90\n",
       "2011 Q1 7619.902  8212.059 7599.372  8234.245 7575.751  8259.919 7547.522\n",
       "2011 Q2 7679.216  8513.802 7650.708  8545.526 7617.945  8582.278 7578.840\n",
       "2011 Q3 7954.941  8998.173 7919.680  9038.235 7879.189  9084.682 7830.904\n",
       "2011 Q4 8445.517  9703.304 8403.355  9751.989 8354.966  9808.468 8297.306\n",
       "2012 Q1 7855.199  9193.367 7810.779  9245.650 7759.837  9306.346 7699.184\n",
       "2012 Q2 7969.307  9467.388 7919.973  9526.361 7863.428  9594.864 7796.150\n",
       "2012 Q3 8286.819  9967.694 8231.831 10034.278 8168.835 10111.660 8093.925\n",
       "2012 Q4 8820.091 10721.267 8758.243 10796.977 8687.419 10884.999 8603.239\n",
       "            Hi 90    Lo 93     Hi 93    Lo 96     Hi 96    Lo 99     Hi 99\n",
       "2011 Q1  8290.813 7511.607  8330.453 7459.917  8388.175 7349.540  8514.150\n",
       "2011 Q2  8626.561 7529.169  8683.472 7457.839  8766.524 7306.148  8948.536\n",
       "2011 Q3  9140.698 7769.642  9212.770 7681.805  9318.113 7495.554  9549.651\n",
       "2011 Q4  9876.630 8224.213  9964.409 8119.540 10092.864 7898.093 10375.849\n",
       "2012 Q1  9379.660 7622.380  9474.171 7512.549  9612.680 7280.814  9918.634\n",
       "2012 Q2  9677.665 7711.027  9784.497 7589.445  9941.244 7333.470 10288.243\n",
       "2012 Q3 10205.245 7999.213 10326.076 7864.064 10503.536 7580.040 10897.103\n",
       "2012 Q4 10991.505 8496.872 11129.101 8345.216 11331.348 8026.987 11780.578"
      ]
     },
     "metadata": {},
     "output_type": "display_data"
    }
   ],
   "source": [
    "cafe.prog=forecast(cafe.ARIMA,h=8,fan=TRUE)\n",
    "cafe.prog"
   ]
  },
  {
   "cell_type": "markdown",
   "id": "4312f5f8",
   "metadata": {},
   "source": [
    "Spójrzmy na wykres."
   ]
  },
  {
   "cell_type": "code",
   "execution_count": 121,
   "id": "94ca1ccb",
   "metadata": {},
   "outputs": [
    {
     "data": {
      "image/png": "[encoded data removed]",
      "text/plain": [
       "Plot with title \"Forecasts from ARIMA(1,0,0)(0,1,1)[4] with drift\""
      ]
     },
     "metadata": {},
     "output_type": "display_data"
    }
   ],
   "source": [
    "plot(cafe.prog)"
   ]
  },
  {
   "cell_type": "markdown",
   "id": "a65c967e",
   "metadata": {},
   "source": [
    "Na rysunkach widzimy otrzymane prognozy punktowe oraz wykresy\n",
    "wachlarzowe."
   ]
  },
  {
   "cell_type": "markdown",
   "id": "233b62f9",
   "metadata": {},
   "source": [
    "Widoczny jest wzrost wariancji w przypadku szeregu cafe."
   ]
  },
  {
   "cell_type": "markdown",
   "id": "0800d3ab",
   "metadata": {},
   "source": [
    "Dalsza analiza skuteczności prognoz mogłaby obejmować zastosowanie\n",
    "kryteriów dokładności prognoz oraz wykorzystanie podziału\n",
    "danych na zbiór uczący i zbiór testowy."
   ]
  },
  {
   "cell_type": "markdown",
   "id": "aedde313",
   "metadata": {},
   "source": [
    "Mimo automatycznego dopasowania modeli, warto też zrobić badania\n",
    "diagnostyczne pod kątem poprawności dopasowania, m. in.\n",
    "analizę własności reszt."
   ]
  },
  {
   "cell_type": "markdown",
   "id": "5ce27f25",
   "metadata": {},
   "source": [
    "#### Badanie jakości prognoz."
   ]
  },
  {
   "cell_type": "code",
   "execution_count": 122,
   "id": "4a91eefc",
   "metadata": {},
   "outputs": [
    {
     "data": {
      "text/html": [
       "<table>\n",
       "<thead><tr><th></th><th scope=col>ME</th><th scope=col>RMSE</th><th scope=col>MAE</th><th scope=col>MPE</th><th scope=col>MAPE</th><th scope=col>MASE</th><th scope=col>ACF1</th></tr></thead>\n",
       "<tbody>\n",
       "\t<tr><th scope=row>Training set</th><td>-5.884838   </td><td>119.4156    </td><td>83.37906    </td><td>0.001041961 </td><td>2.206674    </td><td>0.3033884   </td><td>-0.005893911</td></tr>\n",
       "</tbody>\n",
       "</table>\n"
      ],
      "text/latex": [
       "\\begin{tabular}{r|lllllll}\n",
       "  & ME & RMSE & MAE & MPE & MAPE & MASE & ACF1\\\\\n",
       "\\hline\n",
       "\tTraining set & -5.884838    & 119.4156     & 83.37906     & 0.001041961  & 2.206674     & 0.3033884    & -0.005893911\\\\\n",
       "\\end{tabular}\n"
      ],
      "text/markdown": [
       "\n",
       "| <!--/--> | ME | RMSE | MAE | MPE | MAPE | MASE | ACF1 |\n",
       "|---|---|---|---|---|---|---|---|\n",
       "| Training set | -5.884838    | 119.4156     | 83.37906     | 0.001041961  | 2.206674     | 0.3033884    | -0.005893911 |\n",
       "\n"
      ],
      "text/plain": [
       "             ME        RMSE     MAE      MPE         MAPE     MASE     \n",
       "Training set -5.884838 119.4156 83.37906 0.001041961 2.206674 0.3033884\n",
       "             ACF1        \n",
       "Training set -0.005893911"
      ]
     },
     "metadata": {},
     "output_type": "display_data"
    }
   ],
   "source": [
    "accuracy(cafe.prog)"
   ]
  },
  {
   "cell_type": "markdown",
   "id": "4051ca98",
   "metadata": {},
   "source": [
    "Wartości RMSE i MAE są najniższe i zarazem najlepsze do tej pory."
   ]
  },
  {
   "cell_type": "markdown",
   "id": "35ed6635",
   "metadata": {},
   "source": [
    "#### Prognoza w podziale na zbiór uczący i testowy"
   ]
  },
  {
   "cell_type": "code",
   "execution_count": 123,
   "id": "cad60ead",
   "metadata": {},
   "outputs": [
    {
     "data": {
      "text/plain": [
       "Series: cafe.train \n",
       "ARIMA(1,0,0)(0,1,1)[4] with drift \n",
       "Box Cox transformation: lambda= 0 \n",
       "\n",
       "Coefficients:\n",
       "         ar1     sma1   drift\n",
       "      0.9525  -0.8140  0.0185\n",
       "s.e.  0.0349   0.0793  0.0029\n",
       "\n",
       "sigma^2 estimated as 0.0008476:  log likelihood=183.62\n",
       "AIC=-359.24   AICc=-358.76   BIC=-349.38"
      ]
     },
     "metadata": {},
     "output_type": "display_data"
    }
   ],
   "source": [
    "cafe.ARIMA.train=auto.arima(cafe.train,lambda=0)\n",
    "cafe.ARIMA.train"
   ]
  },
  {
   "cell_type": "code",
   "execution_count": 124,
   "id": "2b0dd17d",
   "metadata": {},
   "outputs": [
    {
     "data": {
      "text/plain": [
       "        Point Forecast    Lo 51    Hi 51    Lo 54    Hi 54    Lo 57    Hi 57\n",
       "2005 Q1       5521.113 5411.257 5633.199 5403.616 5641.165 5395.701 5649.440\n",
       "2005 Q2       5561.810 5409.560 5718.345 5399.013 5729.516 5388.095 5741.126\n",
       "2005 Q3       5802.044 5612.527 5997.961 5599.436 6011.983 5585.891 6026.561\n",
       "2005 Q4       6237.563 6008.127 6475.760 5992.316 6492.846 5975.960 6510.617\n",
       "2006 Q1       5941.565 5693.701 6200.220 5676.667 6218.824 5659.053 6238.181\n",
       "2006 Q2       5985.496 5711.907 6272.188 5693.148 6292.856 5673.755 6314.365\n",
       "2006 Q3       6244.163 5938.004 6566.107 5917.050 6589.359 5895.395 6613.564\n",
       "2006 Q4       6713.004 6364.944 7080.098 6341.161 7106.652 6316.586 7134.301\n",
       "           Lo 60    Hi 60    Lo 63    Hi 63    Lo 66    Hi 66    Lo 69    Hi 69\n",
       "2005 Q1 5387.471 5658.070 5378.874 5667.113 5369.847 5676.640 5360.310 5686.740\n",
       "2005 Q2 5376.748 5753.242 5364.903 5765.944 5352.473 5779.335 5339.349 5793.540\n",
       "2005 Q3 5571.820 6041.781 5557.136 6057.745 5541.734 6074.581 5525.480 6092.451\n",
       "2005 Q4 5958.974 6529.175 5941.256 6548.647 5922.676 6569.190 5903.077 6591.001\n",
       "2006 Q1 5640.767 6258.403 5621.700 6279.630 5601.716 6302.033 5580.643 6325.830\n",
       "2006 Q2 5653.629 6336.842 5632.650 6360.444 5610.669 6385.363 5587.499 6411.841\n",
       "2006 Q3 5872.927 6638.865 5849.513 6665.439 5824.987 6693.503 5799.143 6723.333\n",
       "2006 Q4 6291.095 7163.208 6264.537 7193.577 6236.724 7225.656 6207.424 7259.763\n",
       "           Lo 72    Hi 72    Lo 75    Hi 75    Lo 78    Hi 78    Lo 81    Hi 81\n",
       "2005 Q1 5350.160 5697.528 5339.263 5709.156 5327.434 5721.833 5314.413 5735.852\n",
       "2005 Q2 5325.392 5808.724 5310.418 5825.103 5294.177 5842.973 5276.315 5862.753\n",
       "2005 Q3 5508.203 6111.560 5489.677 6132.185 5469.595 6154.699 5447.524 6179.636\n",
       "2005 Q4 5882.252 6614.336 5859.930 6639.530 5835.746 6667.046 5809.177 6697.538\n",
       "2006 Q1 5558.262 6351.301 5534.286 6378.816 5508.323 6408.883 5479.818 6442.221\n",
       "2006 Q2 5562.901 6440.193 5536.560 6470.833 5508.048 6504.329 5476.760 6541.487\n",
       "2006 Q3 5771.714 6755.284 5742.353 6789.825 5710.582 6827.600 5675.733 6869.521\n",
       "2006 Q4 6176.336 7296.304 6143.066 7335.819 6107.079 7379.047 6067.618 7427.038\n",
       "           Lo 84    Hi 84    Lo 87    Hi 87    Lo 90    Hi 90    Lo 93    Hi 93\n",
       "2005 Q1 5299.813 5751.653 5283.016 5769.940 5262.943 5791.947 5237.407 5820.186\n",
       "2005 Q2 5256.307 5885.070 5233.314 5910.926 5205.873 5942.083 5171.023 5982.130\n",
       "2005 Q3 5422.816 6207.792 5394.447 6240.438 5360.621 6279.816 5317.712 6330.488\n",
       "2005 Q4 5779.453 6731.984 5745.344 6771.950 5704.706 6820.192 5653.201 6882.328\n",
       "2006 Q1 5447.947 6479.908 5411.404 6523.667 5367.903 6576.534 5312.832 6644.704\n",
       "2006 Q2 5441.798 6583.515 5401.733 6632.345 5354.076 6691.381 5293.796 6767.574\n",
       "2006 Q3 5636.808 6916.959 5592.226 6972.102 5539.227 7038.810 5472.243 7124.971\n",
       "2006 Q4 6023.558 7481.363 5973.118 7544.540 5913.185 7621.007 5837.485 7719.836\n",
       "           Lo 96    Hi 96    Lo 99    Hi 99\n",
       "2005 Q1 5200.660 5861.311 5122.207 5951.084\n",
       "2005 Q2 5120.984 6040.583 5014.606 6168.726\n",
       "2005 Q3 5256.203 6404.569 5125.831 6567.465\n",
       "2005 Q4 5579.464 6973.284 5423.543 7173.758\n",
       "2006 Q1 5234.109 6744.643 5068.116 6965.546\n",
       "2006 Q2 5207.734 6879.413 5026.684 7127.195\n",
       "2006 Q3 5376.706 7251.572 5176.109 7532.602\n",
       "2006 Q4 5729.613 7865.178 5503.486 8188.343"
      ]
     },
     "metadata": {},
     "output_type": "display_data"
    }
   ],
   "source": [
    "cafe.prog.train=forecast(cafe.ARIMA.train,h=8,fan=TRUE)\n",
    "cafe.prog.train"
   ]
  },
  {
   "cell_type": "markdown",
   "id": "6bd171a3",
   "metadata": {},
   "source": [
    "#### Jakość po podziale"
   ]
  },
  {
   "cell_type": "code",
   "execution_count": 125,
   "id": "7902944b",
   "metadata": {},
   "outputs": [
    {
     "data": {
      "text/html": [
       "<table>\n",
       "<thead><tr><th></th><th scope=col>ME</th><th scope=col>RMSE</th><th scope=col>MAE</th><th scope=col>MPE</th><th scope=col>MAPE</th><th scope=col>MASE</th><th scope=col>ACF1</th><th scope=col>Theil's U</th></tr></thead>\n",
       "<tbody>\n",
       "\t<tr><th scope=row>Training set</th><td>  -5.028967  </td><td> 91.62746    </td><td> 67.25196    </td><td> 0.0001390234</td><td>2.23162      </td><td>0.2943400    </td><td> 0.1881200   </td><td>       NA    </td></tr>\n",
       "\t<tr><th scope=row>Test set</th><td>-198.957145  </td><td>212.43103    </td><td>198.95715    </td><td>-3.4960704117</td><td>3.49607      </td><td>0.8707709    </td><td>-0.3390363   </td><td>0.5857525    </td></tr>\n",
       "</tbody>\n",
       "</table>\n"
      ],
      "text/latex": [
       "\\begin{tabular}{r|llllllll}\n",
       "  & ME & RMSE & MAE & MPE & MAPE & MASE & ACF1 & Theil's U\\\\\n",
       "\\hline\n",
       "\tTraining set &   -5.028967   &  91.62746     &  67.25196     &  0.0001390234 & 2.23162       & 0.2943400     &  0.1881200    &        NA    \\\\\n",
       "\tTest set & -198.957145   & 212.43103     & 198.95715     & -3.4960704117 & 3.49607       & 0.8707709     & -0.3390363    & 0.5857525    \\\\\n",
       "\\end{tabular}\n"
      ],
      "text/markdown": [
       "\n",
       "| <!--/--> | ME | RMSE | MAE | MPE | MAPE | MASE | ACF1 | Theil's U |\n",
       "|---|---|---|---|---|---|---|---|---|\n",
       "| Training set |   -5.028967   |  91.62746     |  67.25196     |  0.0001390234 | 2.23162       | 0.2943400     |  0.1881200    |        NA     |\n",
       "| Test set | -198.957145   | 212.43103     | 198.95715     | -3.4960704117 | 3.49607       | 0.8707709     | -0.3390363    | 0.5857525     |\n",
       "\n"
      ],
      "text/plain": [
       "             ME          RMSE      MAE       MPE           MAPE    MASE     \n",
       "Training set   -5.028967  91.62746  67.25196  0.0001390234 2.23162 0.2943400\n",
       "Test set     -198.957145 212.43103 198.95715 -3.4960704117 3.49607 0.8707709\n",
       "             ACF1       Theil's U\n",
       "Training set  0.1881200        NA\n",
       "Test set     -0.3390363 0.5857525"
      ]
     },
     "metadata": {},
     "output_type": "display_data"
    }
   ],
   "source": [
    "accuracy(cafe.prog.train,cafe.test)"
   ]
  },
  {
   "cell_type": "markdown",
   "id": "d5667fe7",
   "metadata": {},
   "source": [
    "Widać, że wyniki na zbiorze uczącym są nieco lepsze niż na zbiorze testowym. "
   ]
  },
  {
   "cell_type": "markdown",
   "id": "26462154",
   "metadata": {},
   "source": [
    "Wyniki RMSE i MAE są najniższe, a zarazem prognoza jest najlepsza."
   ]
  },
  {
   "cell_type": "markdown",
   "id": "6dc7a2a9",
   "metadata": {},
   "source": [
    "#### Analiza właśności reszt"
   ]
  },
  {
   "cell_type": "code",
   "execution_count": 126,
   "id": "efeb4a5f",
   "metadata": {},
   "outputs": [
    {
     "name": "stdout",
     "output_type": "stream",
     "text": [
      "              Qtr1          Qtr2          Qtr3          Qtr4\n",
      "1982                0.0069030585  0.0068839584  0.0070080688\n",
      "1983  0.0069157870 -0.0147144668  0.0395151007 -0.0418145398\n",
      "1984  0.0129602869  0.0252239133 -0.0097109532  0.0041249201\n",
      "1985 -0.0244450994  0.0305320051  0.0491836640  0.0194730881\n",
      "1986 -0.0045782432  0.0469446393  0.0281526177  0.0041268324\n",
      "1987 -0.0055612759  0.0045315314  0.0294422523  0.0019729572\n",
      "1988  0.0001657645  0.0232275144  0.0130930855 -0.0391527362\n",
      "1989  0.0836119014 -0.0011072049  0.0214767895  0.0245117579\n",
      "1990  0.0448241230 -0.0251566656 -0.0202599594 -0.0314330965\n",
      "1991 -0.0055739319 -0.0152635081  0.0205308131  0.0407734692\n",
      "1992 -0.0021098316 -0.0014281469 -0.0569862447 -0.0217050601\n",
      "1993 -0.0375358509 -0.0373007033  0.0071803303  0.0151925859\n",
      "1994  0.0394512932 -0.0266405632  0.0513045318 -0.0261424999\n",
      "1995  0.0148722658  0.0212705350 -0.0010015536 -0.0001900445\n",
      "1996  0.0213510500 -0.0208935528 -0.0523777382 -0.0685396308\n",
      "1997  0.0209713507  0.0161477255 -0.0169666014 -0.0348623009\n",
      "1998 -0.0403752619 -0.0128388028 -0.0036886898 -0.0026776597\n",
      "1999  0.0120197645  0.0282780063 -0.0361085086  0.0070413849\n",
      "2000 -0.0129303327 -0.0102455418  0.0367229362 -0.0096862958\n",
      "2001  0.0355991588 -0.0111363116 -0.0050197753 -0.0504443679\n",
      "2002 -0.0187073641  0.0148310115  0.0086306602 -0.0185456592\n",
      "2003 -0.0020942630  0.0337910535  0.0316031918  0.0394601861\n",
      "2004  0.0143324282 -0.0157937582 -0.0096680809 -0.0543067310\n",
      "2005 -0.0514884870  0.0145198908 -0.0138177839  0.0227442224\n",
      "2006 -0.0189120244  0.0345334957 -0.0087158044 -0.0112438631\n",
      "2007  0.0147952526  0.0128006209 -0.0065311041 -0.0182730583\n",
      "2008 -0.0305415465 -0.0201504337 -0.0267665448  0.0010535223\n",
      "2009  0.0112894965  0.0251214266  0.0074871020  0.0267451206\n",
      "2010 -0.0182196359 -0.0004976240  0.0538216484 -0.0629605843\n"
     ]
    }
   ],
   "source": [
    "reszty=residuals(cafe.ARIMA)\n",
    "print(reszty)"
   ]
  },
  {
   "cell_type": "markdown",
   "id": "98b774af",
   "metadata": {},
   "source": [
    "Narysujmy sobie wykres."
   ]
  },
  {
   "cell_type": "code",
   "execution_count": 127,
   "id": "fe698f22",
   "metadata": {},
   "outputs": [
    {
     "data": {
      "image/png": "[encoded data removed]",
      "text/plain": [
       "Plot with title \"Reszty\""
      ]
     },
     "metadata": {},
     "output_type": "display_data"
    }
   ],
   "source": [
    "plot(reszty,main=\"Reszty\")"
   ]
  },
  {
   "cell_type": "markdown",
   "id": "2337a3cd",
   "metadata": {},
   "source": [
    "Wykres reszt wygląda na losowy."
   ]
  },
  {
   "cell_type": "markdown",
   "id": "a600e1bf",
   "metadata": {},
   "source": [
    "Sprawdźmy jeszcze ACF i narysujmy histogram."
   ]
  },
  {
   "cell_type": "code",
   "execution_count": 128,
   "id": "4946dd33",
   "metadata": {},
   "outputs": [
    {
     "data": {
      "image/png": "[encoded data removed]",
      "text/plain": [
       "Plot with title \"Reszty\""
      ]
     },
     "metadata": {},
     "output_type": "display_data"
    },
    {
     "data": {
      "image/png": "[encoded data removed]",
      "text/plain": [
       "Plot with title \"Reszty\""
      ]
     },
     "metadata": {},
     "output_type": "display_data"
    }
   ],
   "source": [
    "Acf(reszty,lag.max=30,main=\"Reszty\")\n",
    "hist(reszty,main=\"Reszty\")"
   ]
  },
  {
   "cell_type": "markdown",
   "id": "a78fcc79",
   "metadata": {},
   "source": [
    "Szereg reszt możemy uznać za biały szum."
   ]
  },
  {
   "cell_type": "markdown",
   "id": "d62244ca",
   "metadata": {},
   "source": [
    "#### Badanie losowości reszt testem Ljunga-Boxa"
   ]
  },
  {
   "cell_type": "code",
   "execution_count": 129,
   "id": "caaeeffc",
   "metadata": {},
   "outputs": [
    {
     "data": {
      "text/plain": [
       "\n",
       "\tBox-Ljung test\n",
       "\n",
       "data:  reszty\n",
       "X-squared = 6.4387, df = 10, p-value = 0.7772\n"
      ]
     },
     "metadata": {},
     "output_type": "display_data"
    }
   ],
   "source": [
    "Box.test(reszty,lag=10,type=\"Ljung-Box\")"
   ]
  },
  {
   "cell_type": "markdown",
   "id": "57b572a9",
   "metadata": {},
   "source": [
    "P-value > 0.05 zatem nie mamy podstaw do odrzucenia hipotezy zerowej o losowości reszt. "
   ]
  },
  {
   "cell_type": "markdown",
   "id": "b9852044",
   "metadata": {},
   "source": [
    "Reszty w szeregu są losowe."
   ]
  },
  {
   "cell_type": "markdown",
   "id": "eb52b431",
   "metadata": {},
   "source": [
    "## Prognozy oparte na dekompozycji"
   ]
  },
  {
   "cell_type": "markdown",
   "id": "76be7bb5",
   "metadata": {},
   "source": [
    "Zbudowane zostały wcześniej modele dekompozycji, a teraz przyszedł czas na prognozowanie. "
   ]
  },
  {
   "cell_type": "code",
   "execution_count": 130,
   "id": "3c4ca171",
   "metadata": {},
   "outputs": [],
   "source": [
    "cafe.tlsm.trend=tslm(cafe∼trend)\n",
    "cafe.tlsm.trend.sez=tslm(cafe∼trend+season)"
   ]
  },
  {
   "cell_type": "markdown",
   "id": "6d8dc463",
   "metadata": {},
   "source": [
    "Dla każdego sposród modeli zbudujemy progozę i zbadamy jej jakość za pomocą znanej metody accuracy()."
   ]
  },
  {
   "cell_type": "code",
   "execution_count": 131,
   "id": "3912638e",
   "metadata": {},
   "outputs": [
    {
     "data": {
      "text/plain": [
       "        Point Forecast    Lo 80    Hi 80    Lo 95    Hi 95\n",
       "2011 Q1       6998.117 6432.887 7563.347 6129.423 7866.811\n",
       "2011 Q2       7054.709 6489.226 7620.191 6185.628 7923.790\n",
       "2011 Q3       7111.301 6545.562 7677.039 6241.826 7980.775\n",
       "2011 Q4       7167.892 6601.894 7733.891 6298.017 8037.767\n",
       "2012 Q1       7224.484 6658.221 7790.747 6354.203 8094.766\n",
       "2012 Q2       7281.076 6714.544 7847.608 6410.381 8151.770\n",
       "2012 Q3       7337.668 6770.863 7904.473 6466.554 8208.782\n",
       "2012 Q4       7394.259 6827.178 7961.341 6522.720 8265.799"
      ]
     },
     "metadata": {},
     "output_type": "display_data"
    }
   ],
   "source": [
    "cafe.tlsm.trend.prog=forecast(cafe.tlsm.trend,h=8)\n",
    "cafe.tlsm.trend.prog"
   ]
  },
  {
   "cell_type": "code",
   "execution_count": 132,
   "id": "e9983097",
   "metadata": {},
   "outputs": [
    {
     "data": {
      "text/plain": [
       "        Point Forecast    Lo 80    Hi 80    Lo 95    Hi 95\n",
       "2011 Q1       6884.281 6333.221 7435.340 6037.252 7731.310\n",
       "2011 Q2       6948.804 6397.581 7500.028 6101.523 7796.085\n",
       "2011 Q3       7092.235 6541.012 7643.459 6244.954 7939.516\n",
       "2011 Q4       7385.304 6834.081 7936.528 6538.023 8232.585\n",
       "2012 Q1       7110.352 6558.310 7662.393 6261.813 7958.890\n",
       "2012 Q2       7174.875 6622.638 7727.113 6326.035 8023.715\n",
       "2012 Q3       7318.306 6766.069 7870.544 6469.466 8167.146\n",
       "2012 Q4       7611.375 7059.138 8163.613 6762.535 8460.215"
      ]
     },
     "metadata": {},
     "output_type": "display_data"
    }
   ],
   "source": [
    "cafe.tlsm.trend.sez.prog=forecast(cafe.tlsm.trend.sez,h=8)\n",
    "cafe.tlsm.trend.sez.prog"
   ]
  },
  {
   "cell_type": "code",
   "execution_count": 133,
   "id": "60a63bd7",
   "metadata": {},
   "outputs": [
    {
     "data": {
      "image/png": "[encoded data removed]",
      "text/plain": [
       "Plot with title \"trend liniowy + sezonowość\""
      ]
     },
     "metadata": {},
     "output_type": "display_data"
    }
   ],
   "source": [
    "par(mfrow=c(2,1))\n",
    "plot(cafe.tlsm.trend.prog,main=\"trend liniowy\")\n",
    "plot(cafe.tlsm.trend.sez.prog,main=\"trend liniowy + sezonowość\")"
   ]
  },
  {
   "cell_type": "markdown",
   "id": "04abaf49",
   "metadata": {},
   "source": [
    "Widzimy, że prognozy nie są najlepsze."
   ]
  },
  {
   "cell_type": "markdown",
   "id": "e6d89e69",
   "metadata": {},
   "source": [
    "Sprawdźmy dokładność prognoz patrząc na m.in. MAE oraz RMSE."
   ]
  },
  {
   "cell_type": "code",
   "execution_count": 134,
   "id": "d96c7a1f",
   "metadata": {},
   "outputs": [],
   "source": [
    "kryteria=c(\"MAE\",\"RMSE\",\"MAPE\",\"MASE\")"
   ]
  },
  {
   "cell_type": "code",
   "execution_count": 135,
   "id": "536486eb",
   "metadata": {},
   "outputs": [
    {
     "data": {
      "text/html": [
       "<dl class=dl-horizontal>\n",
       "\t<dt>MAE</dt>\n",
       "\t\t<dd>327.462370915229</dd>\n",
       "\t<dt>RMSE</dt>\n",
       "\t\t<dd>427.181502763019</dd>\n",
       "\t<dt>MAPE</dt>\n",
       "\t\t<dd>10.5518252211198</dd>\n",
       "\t<dt>MASE</dt>\n",
       "\t\t<dd>1.19152562214899</dd>\n",
       "</dl>\n"
      ],
      "text/latex": [
       "\\begin{description*}\n",
       "\\item[MAE] 327.462370915229\n",
       "\\item[RMSE] 427.181502763019\n",
       "\\item[MAPE] 10.5518252211198\n",
       "\\item[MASE] 1.19152562214899\n",
       "\\end{description*}\n"
      ],
      "text/markdown": [
       "MAE\n",
       ":   327.462370915229RMSE\n",
       ":   427.181502763019MAPE\n",
       ":   10.5518252211198MASE\n",
       ":   1.19152562214899\n",
       "\n"
      ],
      "text/plain": [
       "       MAE       RMSE       MAPE       MASE \n",
       "327.462371 427.181503  10.551825   1.191526 "
      ]
     },
     "metadata": {},
     "output_type": "display_data"
    }
   ],
   "source": [
    "accuracy(cafe.tlsm.trend.prog)[,kryteria]"
   ]
  },
  {
   "cell_type": "code",
   "execution_count": 136,
   "id": "b0ed0c54",
   "metadata": {},
   "outputs": [
    {
     "data": {
      "text/html": [
       "<dl class=dl-horizontal>\n",
       "\t<dt>MAE</dt>\n",
       "\t\t<dd>316.070354053742</dd>\n",
       "\t<dt>RMSE</dt>\n",
       "\t\t<dd>405.57937796556</dd>\n",
       "\t<dt>MAPE</dt>\n",
       "\t\t<dd>10.385635196688</dd>\n",
       "\t<dt>MASE</dt>\n",
       "\t\t<dd>1.15007389766389</dd>\n",
       "</dl>\n"
      ],
      "text/latex": [
       "\\begin{description*}\n",
       "\\item[MAE] 316.070354053742\n",
       "\\item[RMSE] 405.57937796556\n",
       "\\item[MAPE] 10.385635196688\n",
       "\\item[MASE] 1.15007389766389\n",
       "\\end{description*}\n"
      ],
      "text/markdown": [
       "MAE\n",
       ":   316.070354053742RMSE\n",
       ":   405.57937796556MAPE\n",
       ":   10.385635196688MASE\n",
       ":   1.15007389766389\n",
       "\n"
      ],
      "text/plain": [
       "       MAE       RMSE       MAPE       MASE \n",
       "316.070354 405.579378  10.385635   1.150074 "
      ]
     },
     "metadata": {},
     "output_type": "display_data"
    }
   ],
   "source": [
    "accuracy(cafe.tlsm.trend.sez.prog)[,kryteria]"
   ]
  },
  {
   "cell_type": "markdown",
   "id": "26a27100",
   "metadata": {},
   "source": [
    "Zarówno dla modelu z samym trendem, jak i dla modelu z trendem i współczynnikiem sezonowym wyniki nie są najlepsze. "
   ]
  },
  {
   "cell_type": "markdown",
   "id": "95ba4195",
   "metadata": {},
   "source": [
    "MAE i RMSE mają wysokie wartości. "
   ]
  },
  {
   "cell_type": "markdown",
   "id": "6e18020d",
   "metadata": {},
   "source": [
    "Wcześniejsze prognozy były zdecydowanie lepsze."
   ]
  },
  {
   "cell_type": "markdown",
   "id": "2d8a1a65",
   "metadata": {},
   "source": [
    "Aby poprawić jakość dopasowania modelu dekompozycji do szeregu\n",
    "czasowego cafe, rozważymy teraz dwa nieco bardziej skomplikowane\n",
    "modele trendu: kwadratowy oraz sześcienny, oczywiście każdy\n",
    "ze współczynnikiem sezonowym."
   ]
  },
  {
   "cell_type": "code",
   "execution_count": 138,
   "id": "453b16bb",
   "metadata": {},
   "outputs": [],
   "source": [
    "cafe.tslm3=tslm(cafe∼trend+I(trendˆ2)+season)"
   ]
  },
  {
   "cell_type": "code",
   "execution_count": 139,
   "id": "b5aee9a9",
   "metadata": {},
   "outputs": [
    {
     "data": {
      "text/plain": [
       "\n",
       "Call:\n",
       "tslm(formula = cafe ~ trend + I(trend^2) + season)\n",
       "\n",
       "Residuals:\n",
       "    Min      1Q  Median      3Q     Max \n",
       "-371.16 -194.17  -16.09  174.98  774.99 \n",
       "\n",
       "Coefficients:\n",
       "              Estimate Std. Error t value Pr(>|t|)    \n",
       "(Intercept) 1105.74914   80.45637  13.743  < 2e-16 ***\n",
       "trend         17.64128    2.74347   6.430 3.47e-09 ***\n",
       "I(trend^2)     0.33514    0.02291  14.627  < 2e-16 ***\n",
       "season2      -17.80025   64.15131  -0.277    0.782    \n",
       "season3       69.44816   64.14708   1.083    0.281    \n",
       "season4      305.66421   64.15131   4.765 5.87e-06 ***\n",
       "---\n",
       "Signif. codes:  0 '***' 0.001 '**' 0.01 '*' 0.05 '.' 0.1 ' ' 1\n",
       "\n",
       "Residual standard error: 242 on 109 degrees of freedom\n",
       "Multiple R-squared:  0.985,\tAdjusted R-squared:  0.9844 \n",
       "F-statistic:  1436 on 5 and 109 DF,  p-value: < 2.2e-16\n"
      ]
     },
     "metadata": {},
     "output_type": "display_data"
    }
   ],
   "source": [
    "summary(cafe.tslm3)"
   ]
  },
  {
   "cell_type": "markdown",
   "id": "eb37a328",
   "metadata": {},
   "source": [
    "Model jest bardzo dobry R^2 wynosi 98%"
   ]
  },
  {
   "cell_type": "markdown",
   "id": "c8718d48",
   "metadata": {},
   "source": [
    "Współczynniki poza season2 oraz season3 są istotne statystycznie."
   ]
  },
  {
   "cell_type": "code",
   "execution_count": 140,
   "id": "69a7ed6a",
   "metadata": {},
   "outputs": [],
   "source": [
    "cafe.tslm4=tslm(cafe∼poly(trend,3,raw=TRUE)+season)"
   ]
  },
  {
   "cell_type": "code",
   "execution_count": 141,
   "id": "7bc0f895",
   "metadata": {},
   "outputs": [
    {
     "data": {
      "text/plain": [
       "\n",
       "Call:\n",
       "tslm(formula = cafe ~ poly(trend, 3, raw = TRUE) + season)\n",
       "\n",
       "Residuals:\n",
       "   Min     1Q Median     3Q    Max \n",
       "-396.1 -126.1  -27.0  112.5  474.6 \n",
       "\n",
       "Coefficients:\n",
       "                              Estimate Std. Error t value Pr(>|t|)    \n",
       "(Intercept)                  6.588e+02  7.529e+01   8.751 3.16e-14 ***\n",
       "poly(trend, 3, raw = TRUE)1  6.288e+01  5.114e+00  12.296  < 2e-16 ***\n",
       "poly(trend, 3, raw = TRUE)2 -6.355e-01  1.022e-01  -6.219 9.65e-09 ***\n",
       "poly(trend, 3, raw = TRUE)3  5.579e-03  5.792e-04   9.631 3.22e-16 ***\n",
       "season2                     -1.011e+01  4.728e+01  -0.214    0.831    \n",
       "season3                      6.945e+01  4.727e+01   1.469    0.145    \n",
       "season4                      2.980e+02  4.728e+01   6.303 6.51e-09 ***\n",
       "---\n",
       "Signif. codes:  0 '***' 0.001 '**' 0.01 '*' 0.05 '.' 0.1 ' ' 1\n",
       "\n",
       "Residual standard error: 178.3 on 108 degrees of freedom\n",
       "Multiple R-squared:  0.992,\tAdjusted R-squared:  0.9915 \n",
       "F-statistic:  2219 on 6 and 108 DF,  p-value: < 2.2e-16\n"
      ]
     },
     "metadata": {},
     "output_type": "display_data"
    }
   ],
   "source": [
    "summary(cafe.tslm4)"
   ]
  },
  {
   "cell_type": "markdown",
   "id": "bd641a3f",
   "metadata": {},
   "source": [
    "Model sześcienny jest jeszcze lepszy niż model stopnia 2-ego."
   ]
  },
  {
   "cell_type": "markdown",
   "id": "9d09a6f9",
   "metadata": {},
   "source": [
    "R^2 wynosi 99% i jest najwyższe spośród wszystkich do tej pory."
   ]
  },
  {
   "cell_type": "markdown",
   "id": "7fe743d0",
   "metadata": {},
   "source": [
    "Ponownie poza współczynnikami season2 oraz season3 wszystkie inne współczynniki są istotne statystycznie."
   ]
  },
  {
   "cell_type": "markdown",
   "id": "b15b2178",
   "metadata": {},
   "source": [
    "Spójrzmy jak to będzie obrazowało się na wykresie."
   ]
  },
  {
   "cell_type": "code",
   "execution_count": 142,
   "id": "9463bc01",
   "metadata": {},
   "outputs": [
    {
     "data": {
      "image/png": "[encoded data removed]",
      "text/plain": [
       "Plot with title \"Dekompozycja szeregu cafe, porównanie\""
      ]
     },
     "metadata": {},
     "output_type": "display_data"
    }
   ],
   "source": [
    "plot(cafe,main=\"Dekompozycja szeregu cafe, porównanie\")\n",
    "lines(fitted(cafe.tlsm.trend.sez),lty=2,col=\"red\")\n",
    "lines(fitted(cafe.tslm3),lty=2,col=\"green\")\n",
    "lines(fitted(cafe.tslm4),lty=2,col=\"blue\")\n",
    "legend(\"bottomright\",legend=c(\"oryginalne dane\",\"trend liniowy + sezonowość\",\"trend kwadratowy + sezonowość\",\"trend sześcienny + sezonowość\"),col=c(\"black\",\"red\",\"green\",\"blue\"),lty=c(1,2,2,2))"
   ]
  },
  {
   "cell_type": "markdown",
   "id": "189454df",
   "metadata": {},
   "source": [
    "Analizując wykres oraz wyniki\n",
    "wyraźnie dostrzegamy poprawę\n",
    "jakości dopasowania wraz ze\n",
    "wzrostem stopnia wielomianu dla\n",
    "modelu trendu."
   ]
  },
  {
   "cell_type": "markdown",
   "id": "ef44b942",
   "metadata": {},
   "source": [
    "W szczególności,\n",
    "rośnie wartość współczynnika\n",
    "R^2. "
   ]
  },
  {
   "cell_type": "markdown",
   "id": "0364fd64",
   "metadata": {},
   "source": [
    "Najlepsze dopasowanie\n",
    "otrzymujemy zatem dla modelu\n",
    "sześciennego."
   ]
  },
  {
   "cell_type": "markdown",
   "id": "32d63e37",
   "metadata": {},
   "source": [
    "Spójrzmy jeszcze na wykresy reszt."
   ]
  },
  {
   "cell_type": "code",
   "execution_count": 143,
   "id": "3cf574c2",
   "metadata": {
    "scrolled": false
   },
   "outputs": [
    {
     "data": {
      "image/png": "[encoded data removed]",
      "text/plain": [
       "Plot with title \"\""
      ]
     },
     "metadata": {},
     "output_type": "display_data"
    },
    {
     "data": {
      "image/png": "[encoded data removed]",
      "text/plain": [
       "Plot with title \"\""
      ]
     },
     "metadata": {},
     "output_type": "display_data"
    },
    {
     "data": {
      "image/png": "[encoded data removed]",
      "text/plain": [
       "Plot with title \"\""
      ]
     },
     "metadata": {},
     "output_type": "display_data"
    }
   ],
   "source": [
    "tsdisplay(residuals(cafe.tlsm.trend.sez))\n",
    "tsdisplay(residuals(cafe.tslm3))\n",
    "tsdisplay(residuals(cafe.tslm4))"
   ]
  },
  {
   "cell_type": "markdown",
   "id": "4b395fe2",
   "metadata": {},
   "source": [
    "Reszty dla modelu z trendem sześciennym są najbliższe spełnienia\n",
    "założenia o stacjonarności. "
   ]
  },
  {
   "cell_type": "markdown",
   "id": "87839303",
   "metadata": {},
   "source": [
    "Świadczy o tym szybsze zanikanie ACF."
   ]
  },
  {
   "cell_type": "markdown",
   "id": "0140ca2d",
   "metadata": {},
   "source": [
    "Teraz możemy już przejść do prognozy dla tych dwóch modeli."
   ]
  },
  {
   "cell_type": "code",
   "execution_count": 144,
   "id": "0f8bcbdf",
   "metadata": {},
   "outputs": [
    {
     "data": {
      "text/plain": [
       "        Point Forecast    Lo 80    Hi 80    Lo 95    Hi 95\n",
       "2011 Q1       7661.811 7332.963 7990.659 7156.317 8167.304\n",
       "2011 Q2       7739.740 7410.550 8068.930 7233.721 8245.758\n",
       "2011 Q3       7923.388 7593.429 8253.347 7416.187 8430.589\n",
       "2011 Q4       8256.674 7925.910 8587.438 7748.235 8765.113\n",
       "2012 Q1       8048.750 7716.102 8381.398 7537.415 8560.085\n",
       "2012 Q2       8129.360 7796.246 8462.475 7617.309 8641.412\n",
       "2012 Q3       8315.690 7981.600 8649.779 7802.139 8829.240\n",
       "2012 Q4       8651.657 8316.552 8986.762 8136.546 9166.768"
      ]
     },
     "metadata": {},
     "output_type": "display_data"
    }
   ],
   "source": [
    "cafe.tslm3.prog=forecast(cafe.tslm3,h=8)\n",
    "cafe.tslm3.prog"
   ]
  },
  {
   "cell_type": "code",
   "execution_count": 145,
   "id": "b58773b2",
   "metadata": {},
   "outputs": [
    {
     "data": {
      "text/plain": [
       "        Point Forecast    Lo 80    Hi 80    Lo 95    Hi 95\n",
       "2011 Q1       8108.720 7859.116 8358.324 7725.020 8492.420\n",
       "2011 Q2       8240.552 7988.878 8492.226 7853.670 8627.434\n",
       "2011 Q3       8464.701 8210.985 8718.416 8074.680 8854.722\n",
       "2011 Q4       8840.496 8584.531 9096.460 8447.018 9233.974\n",
       "2012 Q1       8692.500 8432.663 8952.337 8293.069 9091.931\n",
       "2012 Q2       8835.113 8572.085 9098.141 8430.777 9239.449\n",
       "2012 Q3       9070.177 8804.071 9336.284 8661.109 9479.246\n",
       "2012 Q4       9457.021 9187.570 9726.472 9042.811 9871.231"
      ]
     },
     "metadata": {},
     "output_type": "display_data"
    }
   ],
   "source": [
    "cafe.tslm4.prog=forecast(cafe.tslm4,h=8)\n",
    "cafe.tslm4.prog"
   ]
  },
  {
   "cell_type": "markdown",
   "id": "e5aaf1b6",
   "metadata": {},
   "source": [
    "Porównajmy prognozy oraz przedziały predykcyjne dla\n",
    "trzech modeli ze współrzędną sezonową."
   ]
  },
  {
   "cell_type": "code",
   "execution_count": 146,
   "id": "b24de2a7",
   "metadata": {},
   "outputs": [
    {
     "name": "stderr",
     "output_type": "stream",
     "text": [
      "Warning message in plot.window(xlim, ylim, log, ...):\n",
      "\"'y.lim' nie jest parametrem graficznym\"Warning message in title(main = main, xlab = xlab, ylab = ylab, ...):\n",
      "\"'y.lim' nie jest parametrem graficznym\"Warning message in axis(1, ...):\n",
      "\"'y.lim' nie jest parametrem graficznym\"Warning message in axis(2, ...):\n",
      "\"'y.lim' nie jest parametrem graficznym\"Warning message in box(...):\n",
      "\"'y.lim' nie jest parametrem graficznym\"Warning message in plot.window(xlim, ylim, log, ...):\n",
      "\"'y.lim' nie jest parametrem graficznym\"Warning message in title(main = main, xlab = xlab, ylab = ylab, ...):\n",
      "\"'y.lim' nie jest parametrem graficznym\"Warning message in axis(1, ...):\n",
      "\"'y.lim' nie jest parametrem graficznym\"Warning message in axis(2, ...):\n",
      "\"'y.lim' nie jest parametrem graficznym\"Warning message in box(...):\n",
      "\"'y.lim' nie jest parametrem graficznym\"Warning message in plot.window(xlim, ylim, log, ...):\n",
      "\"'y.lim' nie jest parametrem graficznym\"Warning message in title(main = main, xlab = xlab, ylab = ylab, ...):\n",
      "\"'y.lim' nie jest parametrem graficznym\"Warning message in axis(1, ...):\n",
      "\"'y.lim' nie jest parametrem graficznym\"Warning message in axis(2, ...):\n",
      "\"'y.lim' nie jest parametrem graficznym\"Warning message in box(...):\n",
      "\"'y.lim' nie jest parametrem graficznym\""
     ]
    },
    {
     "data": {
      "image/png": "[encoded data removed]",
      "text/plain": [
       "Plot with title \"trend sześcienny +sezonowość\""
      ]
     },
     "metadata": {},
     "output_type": "display_data"
    }
   ],
   "source": [
    "par(mfrow=c(3,1))\n",
    "y.range=c(40000,80000)\n",
    "plot(cafe.tlsm.trend.sez.prog,main=\"trend liniowy + sezonowość\",y.lim=y.range)\n",
    "plot(cafe.tslm3.prog,main=\"trend kwadratowy + sezonowość\",y.lim=y.range)\n",
    "plot(cafe.tslm4.prog,main=\"trend sześcienny +sezonowość\",y.lim=y.range)"
   ]
  },
  {
   "cell_type": "markdown",
   "id": "bfcd9850",
   "metadata": {},
   "source": [
    "Na wykresach można zauważyć wyraźne, jakościowe\n",
    "różnice w skonstruowanych prognozach. "
   ]
  },
  {
   "cell_type": "markdown",
   "id": "a073144e",
   "metadata": {},
   "source": [
    "W przypadku modelu\n",
    "liniowego widoczny jest gwałtowny trend wzrostowy w prognozach, w przypadku modelu\n",
    "kwadratowego - trend jest mniej gwałtowny, a w przypadku modelu\n",
    "sześciennego prognozy mają już\n",
    "ustabilizowaną tendencję rosnącą.\n"
   ]
  },
  {
   "cell_type": "markdown",
   "id": "05180ba1",
   "metadata": {},
   "source": [
    "Sprawdźmy teraz jakość prognoz."
   ]
  },
  {
   "cell_type": "code",
   "execution_count": 147,
   "id": "07005802",
   "metadata": {
    "scrolled": true
   },
   "outputs": [
    {
     "data": {
      "text/html": [
       "<dl class=dl-horizontal>\n",
       "\t<dt>MAE</dt>\n",
       "\t\t<dd>194.662000417614</dd>\n",
       "\t<dt>RMSE</dt>\n",
       "\t\t<dd>235.625207737324</dd>\n",
       "\t<dt>MAPE</dt>\n",
       "\t\t<dd>6.49809463655064</dd>\n",
       "\t<dt>MASE</dt>\n",
       "\t\t<dd>0.708309661681429</dd>\n",
       "</dl>\n"
      ],
      "text/latex": [
       "\\begin{description*}\n",
       "\\item[MAE] 194.662000417614\n",
       "\\item[RMSE] 235.625207737324\n",
       "\\item[MAPE] 6.49809463655064\n",
       "\\item[MASE] 0.708309661681429\n",
       "\\end{description*}\n"
      ],
      "text/markdown": [
       "MAE\n",
       ":   194.662000417614RMSE\n",
       ":   235.625207737324MAPE\n",
       ":   6.49809463655064MASE\n",
       ":   0.708309661681429\n",
       "\n"
      ],
      "text/plain": [
       "        MAE        RMSE        MAPE        MASE \n",
       "194.6620004 235.6252077   6.4980946   0.7083097 "
      ]
     },
     "metadata": {},
     "output_type": "display_data"
    }
   ],
   "source": [
    "accuracy(cafe.tslm3.prog)[,kryteria]"
   ]
  },
  {
   "cell_type": "code",
   "execution_count": 148,
   "id": "378f6f53",
   "metadata": {},
   "outputs": [
    {
     "data": {
      "text/html": [
       "<dl class=dl-horizontal>\n",
       "\t<dt>MAE</dt>\n",
       "\t\t<dd>141.704671794132</dd>\n",
       "\t<dt>RMSE</dt>\n",
       "\t\t<dd>172.822434605358</dd>\n",
       "\t<dt>MAPE</dt>\n",
       "\t\t<dd>4.64930956519409</dd>\n",
       "\t<dt>MASE</dt>\n",
       "\t\t<dd>0.515615723263148</dd>\n",
       "</dl>\n"
      ],
      "text/latex": [
       "\\begin{description*}\n",
       "\\item[MAE] 141.704671794132\n",
       "\\item[RMSE] 172.822434605358\n",
       "\\item[MAPE] 4.64930956519409\n",
       "\\item[MASE] 0.515615723263148\n",
       "\\end{description*}\n"
      ],
      "text/markdown": [
       "MAE\n",
       ":   141.704671794132RMSE\n",
       ":   172.822434605358MAPE\n",
       ":   4.64930956519409MASE\n",
       ":   0.515615723263148\n",
       "\n"
      ],
      "text/plain": [
       "        MAE        RMSE        MAPE        MASE \n",
       "141.7046718 172.8224346   4.6493096   0.5156157 "
      ]
     },
     "metadata": {},
     "output_type": "display_data"
    }
   ],
   "source": [
    "accuracy(cafe.tslm4.prog)[,kryteria]"
   ]
  },
  {
   "cell_type": "markdown",
   "id": "61301c5e",
   "metadata": {},
   "source": [
    "Wyniki dla bardziej złożonych modeli są lepsze."
   ]
  },
  {
   "cell_type": "markdown",
   "id": "8e2d5dd6",
   "metadata": {},
   "source": [
    "Można wysnuć wniosek, że im bardziej złożony model\n",
    "trendu, tym prowadzi on do dokładniejszych prognoz."
   ]
  }
 ],
 "metadata": {
  "hide_input": false,
  "kernelspec": {
   "display_name": "R",
   "language": "R",
   "name": "ir"
  },
  "language_info": {
   "codemirror_mode": "r",
   "file_extension": ".r",
   "mimetype": "text/x-r-source",
   "name": "R",
   "pygments_lexer": "r",
   "version": "3.6.1"
  }
 },
 "nbformat": 4,
 "nbformat_minor": 5
}
